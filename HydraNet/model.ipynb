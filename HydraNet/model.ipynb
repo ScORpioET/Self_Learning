{
 "cells": [
  {
   "cell_type": "code",
   "execution_count": 1,
   "id": "e6c7acad",
   "metadata": {},
   "outputs": [],
   "source": [
    "from torch import nn\n",
    "import torch\n",
    "from collections import OrderedDict\n",
    "from torchvision.models import resnet34"
   ]
  },
  {
   "cell_type": "code",
   "execution_count": 2,
   "id": "d9a272fb",
   "metadata": {},
   "outputs": [],
   "source": [
    "class HydraNet(nn.Module):\n",
    "    def __init__(self):\n",
    "        super().__init__()\n",
    "        self.net = resnet34(pretrained=True)\n",
    "        self.n_features = self.net.fc.in_features\n",
    "        self.net.fc = nn.Identity()\n",
    "        self.net.fc1 = nn.Sequential(OrderedDict([\n",
    "            ('linear', nn.Linear(self.n_features,self.n_features)),\n",
    "            ('relu1', nn.ReLU()),\n",
    "            ('final', nn.Linear(self.n_features, 1))\n",
    "        ]))\n",
    "        self.net.fc2 = nn.Sequential(OrderedDict([\n",
    "            ('linear', nn.Linear(self.n_features,self.n_features)),\n",
    "            ('relu1', nn.ReLU()),\n",
    "            ('final', nn.Linear(self.n_features, 1))\n",
    "        ]))\n",
    "        self.net.fc3 = nn.Sequential(OrderedDict([\n",
    "            ('linear', nn.Linear(self.n_features,self.n_features)),\n",
    "            ('relu1', nn.ReLU()),\n",
    "            ('final', nn.Linear(self.n_features, 5))]))\n",
    "        \n",
    "    def forward(self, x):\n",
    "        age_head = self.net.fc1(self.net(x))\n",
    "        gender_head = self.net.fc2(self.net(x))\n",
    "        race_head = self.net.fc3(self.net(x))\n",
    "        return age_head, gender_head, race_head"
   ]
  }
 ],
 "metadata": {
  "kernelspec": {
   "display_name": "Python 3 (ipykernel)",
   "language": "python",
   "name": "python3"
  },
  "language_info": {
   "codemirror_mode": {
    "name": "ipython",
    "version": 3
   },
   "file_extension": ".py",
   "mimetype": "text/x-python",
   "name": "python",
   "nbconvert_exporter": "python",
   "pygments_lexer": "ipython3",
   "version": "3.7.9"
  }
 },
 "nbformat": 4,
 "nbformat_minor": 5
}

{
 "cells": [
  {
   "cell_type": "code",
   "execution_count": 1,
   "id": "79d4ea19",
   "metadata": {},
   "outputs": [],
   "source": [
    "from torch.utils.data import DataLoader, Dataset\n",
    "from torchvision.datasets import ImageFolder\n",
    "from sklearn.model_selection import train_test_split\n",
    "import import_ipynb\n",
    "from glob import glob\n",
    "import os.path\n",
    "from PIL import Image\n",
    "from torchvision import transforms"
   ]
  },
  {
   "cell_type": "code",
   "execution_count": 2,
   "id": "4a4267a6",
   "metadata": {},
   "outputs": [],
   "source": [
    "class UTKFace(Dataset):\n",
    "    def __init__(self, image_paths, subset='train', transform=None):\n",
    "        if transform is None:\n",
    "            self.transform = transforms.Compose([\n",
    "                transforms.Resize((32, 32)), \n",
    "                transforms.ToTensor(), \n",
    "                transforms.Normalize([0.485, 0.456, 0.406], [0.229, 0.224, 0.225])])\n",
    "        else:\n",
    "            self.transform = transform\n",
    "        \n",
    "        self.image_paths = image_paths\n",
    "        self.images = []\n",
    "        self.ages = []\n",
    "        self.genders = []\n",
    "        self.races = []\n",
    "        \n",
    "        for path in image_paths:\n",
    "            filename = path[13:].split(\"_\")\n",
    "            if len(filename)==4:\n",
    "                self.images.append(path)\n",
    "                self.ages.append(int(filename[0]))\n",
    "                self.genders.append(int(filename[1]))\n",
    "                self.races.append(int(filename[2]))\n",
    "                \n",
    "    def __getitem__(self, index):\n",
    "\n",
    "        img = Image.open(self.images[index]).convert('RGB')\n",
    "        img = self.transform(img)\n",
    "\n",
    "        age = self.ages[index]\n",
    "        gender = self.genders[index]\n",
    "        race = self.races[index]\n",
    "\n",
    "        sample = {'image':img, 'age': age, 'gender': gender, 'race':race}\n",
    "        return sample\n",
    "    \n",
    "    def __len__(self):\n",
    "         return len(self.images)"
   ]
  }
 ],
 "metadata": {
  "kernelspec": {
   "display_name": "Python 3 (ipykernel)",
   "language": "python",
   "name": "python3"
  },
  "language_info": {
   "codemirror_mode": {
    "name": "ipython",
    "version": 3
   },
   "file_extension": ".py",
   "mimetype": "text/x-python",
   "name": "python",
   "nbconvert_exporter": "python",
   "pygments_lexer": "ipython3",
   "version": "3.7.9"
  }
 },
 "nbformat": 4,
 "nbformat_minor": 5
}

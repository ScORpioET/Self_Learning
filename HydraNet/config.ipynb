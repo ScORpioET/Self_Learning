{
 "cells": [
  {
   "cell_type": "code",
   "execution_count": 1,
   "id": "0b532a48",
   "metadata": {},
   "outputs": [],
   "source": [
    "import torch\n",
    "import os"
   ]
  },
  {
   "cell_type": "code",
   "execution_count": 2,
   "id": "29c93390",
   "metadata": {},
   "outputs": [],
   "source": [
    "dataset_path = os.path.join(\"data/UTKFace\")\n",
    "\n",
    "device = \"cuda\" if torch.cuda.is_available() else \"cpu\"\n",
    "\n",
    "pin_memory = True if device == \"cuda\" else False"
   ]
  },
  {
   "cell_type": "code",
   "execution_count": 3,
   "id": "cb030204",
   "metadata": {},
   "outputs": [],
   "source": [
    "epochs = 100\n",
    "lr = 1e-4\n",
    "batch_size = 128\n",
    "weight_decay = 1e-4\n",
    "clip = 0.4\n",
    "\n",
    "base_output = \"output\""
   ]
  }
 ],
 "metadata": {
  "kernelspec": {
   "display_name": "Python 3 (ipykernel)",
   "language": "python",
   "name": "python3"
  },
  "language_info": {
   "codemirror_mode": {
    "name": "ipython",
    "version": 3
   },
   "file_extension": ".py",
   "mimetype": "text/x-python",
   "name": "python",
   "nbconvert_exporter": "python",
   "pygments_lexer": "ipython3",
   "version": "3.7.9"
  }
 },
 "nbformat": 4,
 "nbformat_minor": 5
}

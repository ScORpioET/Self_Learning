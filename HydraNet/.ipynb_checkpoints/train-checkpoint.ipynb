{
 "cells": [
  {
   "cell_type": "code",
   "execution_count": 1,
   "id": "1b5b7d44",
   "metadata": {},
   "outputs": [
    {
     "name": "stdout",
     "output_type": "stream",
     "text": [
      "importing Jupyter notebook from dataset.ipynb\n",
      "importing Jupyter notebook from model.ipynb\n",
      "importing Jupyter notebook from config.ipynb\n"
     ]
    }
   ],
   "source": [
    "from torch.utils.data import DataLoader, Dataset\n",
    "from sklearn.model_selection import train_test_split\n",
    "from torch import nn\n",
    "import torch\n",
    "import import_ipynb\n",
    "from PIL import Image\n",
    "from torchvision import transforms\n",
    "import import_ipynb\n",
    "from dataset import UTKFace\n",
    "from model import HydraNet\n",
    "from config import device, lr, batch_size, dataset_path, epochs\n",
    "from glob import glob\n",
    "import os\n",
    "from tqdm import tqdm"
   ]
  },
  {
   "cell_type": "code",
   "execution_count": 2,
   "id": "c9b001b4",
   "metadata": {},
   "outputs": [],
   "source": [
    "img_paths = glob(os.path.join(dataset_path, '*.jpg'))\n",
    "train_paths, val_paths = train_test_split(\n",
    "    img_paths, test_size=0.2, random_state=10\n",
    ")\n",
    "train_dataloader = DataLoader(UTKFace(train_paths), shuffle=True, batch_size=batch_size)\n",
    "val_dataloader = DataLoader(UTKFace(val_paths), shuffle=False, batch_size=batch_size)"
   ]
  },
  {
   "cell_type": "code",
   "execution_count": 3,
   "id": "5c10059c",
   "metadata": {},
   "outputs": [
    {
     "name": "stderr",
     "output_type": "stream",
     "text": [
      "C:\\Users\\x9172\\anaconda3\\envs\\PT\\lib\\site-packages\\torchvision\\models\\_utils.py:209: UserWarning: The parameter 'pretrained' is deprecated since 0.13 and will be removed in 0.15, please use 'weights' instead.\n",
      "  f\"The parameter '{pretrained_param}' is deprecated since 0.13 and will be removed in 0.15, \"\n",
      "C:\\Users\\x9172\\anaconda3\\envs\\PT\\lib\\site-packages\\torchvision\\models\\_utils.py:223: UserWarning: Arguments other than a weight enum or `None` for 'weights' are deprecated since 0.13 and will be removed in 0.15. The current behavior is equivalent to passing `weights=ResNet34_Weights.IMAGENET1K_V1`. You can also use `weights=ResNet34_Weights.DEFAULT` to get the most up-to-date weights.\n",
      "  warnings.warn(msg)\n"
     ]
    }
   ],
   "source": [
    "model = HydraNet().to(device=device)\n",
    "race_loss = nn.CrossEntropyLoss() # Includes Softmax\n",
    "gender_loss = nn.BCELoss() # Doesn't include Softmax\n",
    "age_loss = nn.L1Loss()\n",
    "optimizer = torch.optim.SGD(model.parameters(), lr=lr, momentum=0.09)\n",
    "Sig = nn.Sigmoid()"
   ]
  },
  {
   "cell_type": "code",
   "execution_count": 4,
   "id": "483480dc",
   "metadata": {},
   "outputs": [
    {
     "name": "stderr",
     "output_type": "stream",
     "text": [
      "  0%|                                                                                          | 0/149 [00:07<?, ?it/s]\n"
     ]
    },
    {
     "ename": "NameError",
     "evalue": "name 'sig' is not defined",
     "output_type": "error",
     "traceback": [
      "\u001b[1;31m---------------------------------------------------------------------------\u001b[0m",
      "\u001b[1;31mNameError\u001b[0m                                 Traceback (most recent call last)",
      "\u001b[1;32m~\\AppData\\Local\\Temp\\ipykernel_20212\\1407511806.py\u001b[0m in \u001b[0;36m<module>\u001b[1;34m\u001b[0m\n\u001b[0;32m     10\u001b[0m         \u001b[0mage_output\u001b[0m\u001b[1;33m,\u001b[0m \u001b[0mgender_output\u001b[0m\u001b[1;33m,\u001b[0m \u001b[0mrace_output\u001b[0m \u001b[1;33m=\u001b[0m \u001b[0mmodel\u001b[0m\u001b[1;33m(\u001b[0m\u001b[0minputs\u001b[0m\u001b[1;33m)\u001b[0m\u001b[1;33m\u001b[0m\u001b[1;33m\u001b[0m\u001b[0m\n\u001b[0;32m     11\u001b[0m         \u001b[0mloss_1\u001b[0m \u001b[1;33m=\u001b[0m \u001b[0mrace_loss\u001b[0m\u001b[1;33m(\u001b[0m\u001b[0mrace_output\u001b[0m\u001b[1;33m,\u001b[0m \u001b[0mrace_label\u001b[0m\u001b[1;33m)\u001b[0m\u001b[1;33m\u001b[0m\u001b[1;33m\u001b[0m\u001b[0m\n\u001b[1;32m---> 12\u001b[1;33m         \u001b[0mloss_2\u001b[0m \u001b[1;33m=\u001b[0m \u001b[0mgender_loss\u001b[0m\u001b[1;33m(\u001b[0m\u001b[0msig\u001b[0m\u001b[1;33m(\u001b[0m\u001b[0mgender_output\u001b[0m\u001b[1;33m)\u001b[0m\u001b[1;33m,\u001b[0m \u001b[0mgender_label\u001b[0m\u001b[1;33m.\u001b[0m\u001b[0munsqueeze\u001b[0m\u001b[1;33m(\u001b[0m\u001b[1;36m1\u001b[0m\u001b[1;33m)\u001b[0m\u001b[1;33m.\u001b[0m\u001b[0mfloat\u001b[0m\u001b[1;33m(\u001b[0m\u001b[1;33m)\u001b[0m\u001b[1;33m)\u001b[0m\u001b[1;33m\u001b[0m\u001b[1;33m\u001b[0m\u001b[0m\n\u001b[0m\u001b[0;32m     13\u001b[0m         \u001b[0mloss_3\u001b[0m \u001b[1;33m=\u001b[0m \u001b[0mage_loss\u001b[0m\u001b[1;33m(\u001b[0m\u001b[0mage_output\u001b[0m\u001b[1;33m,\u001b[0m \u001b[0mage_label\u001b[0m\u001b[1;33m.\u001b[0m\u001b[0munsqueeze\u001b[0m\u001b[1;33m(\u001b[0m\u001b[1;36m1\u001b[0m\u001b[1;33m)\u001b[0m\u001b[1;33m.\u001b[0m\u001b[0mfloat\u001b[0m\u001b[1;33m(\u001b[0m\u001b[1;33m)\u001b[0m\u001b[1;33m)\u001b[0m\u001b[1;33m\u001b[0m\u001b[1;33m\u001b[0m\u001b[0m\n\u001b[0;32m     14\u001b[0m         \u001b[0mloss\u001b[0m \u001b[1;33m=\u001b[0m \u001b[0mloss_1\u001b[0m \u001b[1;33m+\u001b[0m \u001b[0mloss_2\u001b[0m \u001b[1;33m+\u001b[0m \u001b[0mloss_3\u001b[0m\u001b[1;33m\u001b[0m\u001b[1;33m\u001b[0m\u001b[0m\n",
      "\u001b[1;31mNameError\u001b[0m: name 'sig' is not defined"
     ]
    }
   ],
   "source": [
    "for epoch in range(epochs):\n",
    "    model.train()\n",
    "    total_training_loss = 0\n",
    "    for i, data in tqdm(enumerate(train_dataloader), total=len(train_dataloader)):\n",
    "        inputs = data[\"image\"].to(device=device)\n",
    "        age_label = data[\"age\"].to(device=device)\n",
    "        gender_label = data[\"gender\"].to(device=device)\n",
    "        race_label = data[\"race\"].to(device=device)\n",
    "        optimizer.zero_grad()\n",
    "        age_output, gender_output, race_output = model(inputs)\n",
    "        loss_1 = race_loss(race_output, race_label)\n",
    "        loss_2 = gender_loss(ig(gender_output), gender_label.unsqueeze(1).float())\n",
    "        loss_3 = age_loss(age_output, age_label.unsqueeze(1).float())\n",
    "        loss = loss_1 + loss_2 + loss_3\n",
    "        loss.backward()\n",
    "        optimizer.step()\n",
    "        total_training_loss += loss"
   ]
  }
 ],
 "metadata": {
  "kernelspec": {
   "display_name": "Python 3 (ipykernel)",
   "language": "python",
   "name": "python3"
  },
  "language_info": {
   "codemirror_mode": {
    "name": "ipython",
    "version": 3
   },
   "file_extension": ".py",
   "mimetype": "text/x-python",
   "name": "python",
   "nbconvert_exporter": "python",
   "pygments_lexer": "ipython3",
   "version": "3.7.9"
  }
 },
 "nbformat": 4,
 "nbformat_minor": 5
}

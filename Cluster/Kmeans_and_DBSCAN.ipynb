{
 "cells": [
  {
   "cell_type": "code",
   "execution_count": 1,
   "id": "279586fe",
   "metadata": {},
   "outputs": [],
   "source": [
    "import matplotlib.pyplot as plt\n",
    "from sklearn.datasets import make_moons,make_blobs\n",
    "from sklearn.cluster import KMeans,DBSCAN"
   ]
  },
  {
   "cell_type": "code",
   "execution_count": 2,
   "id": "fcb0a51d",
   "metadata": {},
   "outputs": [],
   "source": [
    "# Create Dataset\n",
    "data = make_moons()\n",
    "# data = make_blobs(centers = 2)"
   ]
  },
  {
   "cell_type": "code",
   "execution_count": 3,
   "id": "02512144",
   "metadata": {},
   "outputs": [],
   "source": [
    "model_km = KMeans(n_clusters=2)\n",
    "model_db = DBSCAN()\n",
    "x = data[0]"
   ]
  },
  {
   "cell_type": "code",
   "execution_count": 4,
   "id": "5b237ab0",
   "metadata": {},
   "outputs": [],
   "source": [
    "# predict model\n",
    "y_pred_km = model_km.fit_predict(x)\n",
    "y_pred_db = model_db.fit_predict(x)"
   ]
  },
  {
   "cell_type": "code",
   "execution_count": 5,
   "id": "edcb26a9",
   "metadata": {},
   "outputs": [
    {
     "data": {
      "image/png": "[encoded data removed]",
      "text/plain": [
       "<Figure size 432x288 with 2 Axes>"
      ]
     },
     "metadata": {
      "needs_background": "light"
     },
     "output_type": "display_data"
    }
   ],
   "source": [
    "markers = [\"x\",\"s\",\"^\",\"h\",\"*\",\"<\"]\n",
    "colors = ['r','g','b','y','o','tomato']\n",
    "\n",
    "plt.subplot(121)\n",
    "plt.title(\"KMeans\")\n",
    "for i,y in enumerate(y_pred_km):\n",
    "    plt.scatter(x[i,0],x[i,1],marker=markers[y],color = colors[y])\n",
    "    \n",
    "plt.subplot(122)    \n",
    "plt.title(\"DBSCAN\")\n",
    "for i,y in enumerate(y_pred_db):\n",
    "    if y!= -1:\n",
    "        plt.scatter(x[i,0],x[i,1],marker=markers[y],color=colors[y])\n",
    "    else:\n",
    "        plt.scatter(x[i,0],x[i,1],marker=markers[y],color=\"black\")"
   ]
  }
 ],
 "metadata": {
  "kernelspec": {
   "display_name": "Python 3 (ipykernel)",
   "language": "python",
   "name": "python3"
  },
  "language_info": {
   "codemirror_mode": {
    "name": "ipython",
    "version": 3
   },
   "file_extension": ".py",
   "mimetype": "text/x-python",
   "name": "python",
   "nbconvert_exporter": "python",
   "pygments_lexer": "ipython3",
   "version": "3.7.9"
  }
 },
 "nbformat": 4,
 "nbformat_minor": 5
}

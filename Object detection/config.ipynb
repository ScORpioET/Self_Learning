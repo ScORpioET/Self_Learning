{
 "cells": [
  {
   "cell_type": "code",
   "execution_count": 1,
   "id": "90c0f658",
   "metadata": {},
   "outputs": [],
   "source": [
    "import torch"
   ]
  },
  {
   "cell_type": "code",
   "execution_count": 2,
   "id": "20bf34e3",
   "metadata": {},
   "outputs": [],
   "source": [
    "device = (\n",
    "    torch.device(\"cuda\") if torch.cuda.is_available() else torch.device(\"cpu\")\n",
    ")"
   ]
  },
  {
   "cell_type": "code",
   "execution_count": 3,
   "id": "80f346cc",
   "metadata": {},
   "outputs": [],
   "source": [
    "train_dir = 'data/PASCAL VOC 2012/train'\n",
    "valid_dir = 'data/PASCAL VOC 2012/valid'\n",
    "out_dir = 'outputs'"
   ]
  },
  {
   "cell_type": "code",
   "execution_count": 4,
   "id": "acf85cd9",
   "metadata": {},
   "outputs": [],
   "source": [
    "# 標籤0預留給背景\n",
    "classes = [\n",
    "    '__background__', 'person', 'chair', 'car', 'dog', 'bottle', 'cat', 'bird', 'pottedplant',\n",
    "    'sheep', 'boat', 'aeroplane', 'tvmonitor', 'sofa', 'bicycle', 'horse', 'diningtable',\n",
    "    'motorbike', 'cow', 'train', 'bus'\n",
    "]"
   ]
  },
  {
   "cell_type": "code",
   "execution_count": 5,
   "id": "46d85d72",
   "metadata": {},
   "outputs": [],
   "source": [
    "batch_size = 8\n",
    "resize = 416 \n",
    "num_epochs = 10 # number of epochs to train for\n",
    "num_workers = 0\n",
    "num_classes = len(classes)\n",
    "\n",
    "visualize_transformed_images = True"
   ]
  }
 ],
 "metadata": {
  "kernelspec": {
   "display_name": "Python 3 (ipykernel)",
   "language": "python",
   "name": "python3"
  },
  "language_info": {
   "codemirror_mode": {
    "name": "ipython",
    "version": 3
   },
   "file_extension": ".py",
   "mimetype": "text/x-python",
   "name": "python",
   "nbconvert_exporter": "python",
   "pygments_lexer": "ipython3",
   "version": "3.7.9"
  }
 },
 "nbformat": 4,
 "nbformat_minor": 5
}

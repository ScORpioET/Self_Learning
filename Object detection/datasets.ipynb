{
 "cells": [
  {
   "cell_type": "code",
   "execution_count": 1,
   "id": "2c5d6ed7",
   "metadata": {},
   "outputs": [
    {
     "name": "stdout",
     "output_type": "stream",
     "text": [
      "importing Jupyter notebook from config.ipynb\n",
      "importing Jupyter notebook from custom_utils.ipynb\n"
     ]
    }
   ],
   "source": [
    "import torch\n",
    "import cv2\n",
    "import numpy as np\n",
    "import os\n",
    "import glob as glob\n",
    "from xml.etree import ElementTree as et\n",
    "import import_ipynb\n",
    "from config import classes, resize, train_dir, valid_dir, batch_size\n",
    "from torch.utils.data import Dataset, DataLoader\n",
    "from custom_utils import collate_fn, get_train_transform, get_valid_transform"
   ]
  },
  {
   "cell_type": "code",
   "execution_count": 2,
   "id": "2c1eadf6",
   "metadata": {},
   "outputs": [],
   "source": [
    "class CustomDataset(Dataset):\n",
    "    \n",
    "    def __init__(self, dir_path, width, height, classes, transforms=None):\n",
    "        self.transforms = transforms\n",
    "        self.dir_path = dir_path\n",
    "        self.height = height\n",
    "        self.width = width\n",
    "        self.classes = classes\n",
    "        \n",
    "        # 獲得圖片位址\n",
    "        self.image_paths = glob.glob(f\"{self.dir_path}/*.jpg\")\n",
    "        self.all_images = [image_path.split(os.path.sep)[-1] for image_path in self.image_paths]\n",
    "        self.all_images = sorted(self.all_images)\n",
    "        \n",
    "    def __getitem__(self, idx):\n",
    "        image_name = self.all_images[idx]\n",
    "        image_path = os.path.join(self.dir_path, image_name)\n",
    "        image = cv2.imread(image_path)\n",
    "        # BGR2RGB\n",
    "        image = cv2.cvtColor(image, cv2.COLOR_BGR2RGB).astype(np.float32)\n",
    "        image_resized = cv2.resize(image, (self.width, self.height))\n",
    "        image_resized /= 255.0\n",
    "        \n",
    "        # 取得相對應的xml\n",
    "        annot_filename = image_name[:-4] + '.xml'\n",
    "        annot_file_path = os.path.join(self.dir_path, annot_filename)\n",
    "        \n",
    "        boxes = []\n",
    "        labels = []\n",
    "        tree = et.parse(annot_file_path)\n",
    "        root = tree.getroot()\n",
    "        \n",
    "        image_width = image.shape[1]\n",
    "        image_height = image.shape[0]\n",
    "        # 提取xml中的座標並調整圖像大小\n",
    "        for member in root.findall('object'):\n",
    "            # 獲取label\n",
    "            labels.append(self.classes.index(member.find('name').text))\n",
    "            # 左角x座標\n",
    "            xmin = int(member.find('bndbox').find('xmin').text)\n",
    "            # 右角x座標\n",
    "            xmax = int(member.find('bndbox').find('xmax').text)\n",
    "            # 左角y座標\n",
    "            ymin = int(member.find('bndbox').find('ymin').text)\n",
    "            # 右角y座標\n",
    "            ymax = int(member.find('bndbox').find('ymax').text)\n",
    "\n",
    "            \n",
    "            # 圖像會resize，所以box也要跟著resize\n",
    "            xmin_final = (xmin/image_width)*self.width\n",
    "            xmax_final = (xmax/image_width)*self.width\n",
    "            ymin_final = (ymin/image_height)*self.height\n",
    "            yamx_final = (ymax/image_height)*self.height\n",
    "            \n",
    "            boxes.append([xmin_final, ymin_final, xmax_final, yamx_final])\n",
    "        \n",
    "            \n",
    "        \n",
    "        # bounding box 2 tensor\n",
    "        boxes = torch.as_tensor(boxes, dtype=torch.float32)\n",
    "        # area of the bounding boxes\n",
    "        area = (boxes[:, 3] - boxes[:, 1]) * (boxes[:, 2] - boxes[:, 0])\n",
    "        # 非「人群」實例\n",
    "        iscrowd = torch.zeros((boxes.shape[0],), dtype=torch.int64)\n",
    "        # labels 2 tensor\n",
    "        labels = torch.as_tensor(labels, dtype=torch.int64)\n",
    "        # 建立target字典\n",
    "        target = {}\n",
    "        target[\"boxes\"] = boxes\n",
    "        target[\"labels\"] = labels\n",
    "        target[\"area\"] = area\n",
    "        target[\"iscrowd\"] = iscrowd\n",
    "        image_id = torch.tensor([idx])\n",
    "        target[\"image_id\"] = image_id\n",
    "                    \n",
    "        if self.transforms:\n",
    "            sample = self.transforms(image = image_resized,\n",
    "                                     bboxes = target['boxes'],\n",
    "                                     labels = labels)\n",
    "            image_resized = sample['image']\n",
    "            target['boxes'] = torch.Tensor(sample['bboxes'])\n",
    "            \n",
    "        return image_resized, target\n",
    "                    \n",
    "    def __len__(self):\n",
    "        return len(self.all_images)"
   ]
  },
  {
   "cell_type": "code",
   "execution_count": 3,
   "id": "88291cf0",
   "metadata": {},
   "outputs": [],
   "source": [
    "def create_train_dataset():\n",
    "    train_dataset = CustomDataset(train_dir, resize, resize, classes, get_train_transform())\n",
    "    return train_dataset"
   ]
  },
  {
   "cell_type": "code",
   "execution_count": 4,
   "id": "067469a9",
   "metadata": {},
   "outputs": [],
   "source": [
    "def create_valid_dataset():\n",
    "    valid_dataset = CustomDataset(valid_dir, resize, resize, classes, get_valid_transform())\n",
    "    return valid_dataset"
   ]
  },
  {
   "cell_type": "code",
   "execution_count": 5,
   "id": "5d009de2",
   "metadata": {},
   "outputs": [],
   "source": [
    "def create_train_loader(train_dataset, num_workers=0):\n",
    "    train_loader = DataLoader(\n",
    "        train_dataset,\n",
    "        batch_size=batch_size,\n",
    "        shuffle=True,\n",
    "        num_workers=num_workers,\n",
    "        collate_fn=collate_fn\n",
    "    )\n",
    "    return train_loader"
   ]
  },
  {
   "cell_type": "code",
   "execution_count": 6,
   "id": "2a2f1b08",
   "metadata": {},
   "outputs": [],
   "source": [
    "def create_valid_loader(valid_dataset, num_workers=0):\n",
    "    valid_loader = DataLoader(\n",
    "        valid_dataset,\n",
    "        batch_size=batch_size,\n",
    "        shuffle=False,\n",
    "        num_workers=num_workers,\n",
    "        collate_fn=collate_fn\n",
    "    )\n",
    "    return valid_loader"
   ]
  },
  {
   "cell_type": "code",
   "execution_count": 7,
   "id": "68575fe1",
   "metadata": {},
   "outputs": [],
   "source": [
    "def visualize_sample(image, target):\n",
    "    for box_num in range(len(target['boxes'])):\n",
    "        box = target['boxes'][box_num]\n",
    "        label = classes[target['labels'][box_num]]\n",
    "        cv2.rectangle(\n",
    "            image, \n",
    "            (int(box[0]), int(box[1])), (int(box[2]), int(box[3])),\n",
    "            (0, 255, 0), 2\n",
    "        )\n",
    "        cv2.putText(\n",
    "            image, label, (int(box[0]), int(box[1]-5)), \n",
    "            cv2.FONT_HERSHEY_SIMPLEX, 0.7, (0, 0, 255), 2\n",
    "        )\n",
    "    cv2.imshow('Image', image)\n",
    "    cv2.waitKey(1)\n",
    "    cv2.destroyAllWindows()"
   ]
  },
  {
   "cell_type": "code",
   "execution_count": 8,
   "id": "0705dcba",
   "metadata": {
    "scrolled": true
   },
   "outputs": [
    {
     "name": "stdout",
     "output_type": "stream",
     "text": [
      "Number of training images: 13299\n"
     ]
    }
   ],
   "source": [
    "if __name__ == '__main__':\n",
    "    # sanity check of the Dataset pipeline with sample visualization\n",
    "    dataset = CustomDataset(train_dir, resize, resize, classes)\n",
    "    print(f\"Number of training images: {len(dataset)}\")\n",
    "    \n",
    "        \n",
    "    NUM_SAMPLES_TO_VISUALIZE = 5\n",
    "    for i in range(NUM_SAMPLES_TO_VISUALIZE):\n",
    "        image, target= dataset[i]\n",
    "        visualize_sample(image, target)"
   ]
  }
 ],
 "metadata": {
  "kernelspec": {
   "display_name": "Python 3 (ipykernel)",
   "language": "python",
   "name": "python3"
  },
  "language_info": {
   "codemirror_mode": {
    "name": "ipython",
    "version": 3
   },
   "file_extension": ".py",
   "mimetype": "text/x-python",
   "name": "python",
   "nbconvert_exporter": "python",
   "pygments_lexer": "ipython3",
   "version": "3.7.9"
  }
 },
 "nbformat": 4,
 "nbformat_minor": 5
}

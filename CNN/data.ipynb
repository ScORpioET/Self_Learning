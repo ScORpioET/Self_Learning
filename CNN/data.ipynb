{
 "cells": [
  {
   "cell_type": "code",
   "execution_count": 2,
   "id": "bb320efe",
   "metadata": {},
   "outputs": [],
   "source": [
    "import torchvision\n",
    "from torchvision import transforms as trns\n",
    "import torch"
   ]
  },
  {
   "cell_type": "code",
   "execution_count": null,
   "id": "1dc87078",
   "metadata": {},
   "outputs": [],
   "source": [
    "def create_datasets(data_folder, trn_train=None, trn_test=None):\n",
    "    #訓練資料增強\n",
    "    if trns_train is None:\n",
    "        trn_train = trns.Compose(\n",
    "            [\n",
    "                trns.RandomCrop(32, padding=4),\n",
    "                trns.RandomHorizontalFlip(),\n",
    "                trns.ToTensor(),\n",
    "                trns.Normalize((0.4914, 0.4822, 0.4465), (0.2023, 0.1994, 0.2010)),\n",
    "            ]\n",
    "        )\n",
    "    \n",
    "    #測試資料型態轉換\n",
    "    if trn_test is None:\n",
    "        trn_test = trns.Compose(\n",
    "            [\n",
    "                #不需要圖片轉換\n",
    "                trns.ToTensor(),\n",
    "                trns.Normalize((0.4914, 0.4822, 0.4465), (0.2023, 0.1994, 0.2010)),\n",
    "            ]\n",
    "        )\n",
    "    #dataset\n",
    "    trainset = torchvision.datasets.CIFAR10(\n",
    "        root=datafolder, train=True, download=True, transform=trn_train\n",
    "    )\n",
    "    testset = torchvision.datasets.CIFAR10(\n",
    "        root=datafolder, train=False, download=True, transform=trn_test\n",
    "    )\n",
    "    \n",
    "    #dataloader\n",
    "    trainloader = torch.utils.data.DataLoader(\n",
    "        trainset, batch_size=batch_size, shuffle=True, num_workers=2\n",
    "    )\n",
    "    testloader = torch.utils.data.DataLoader(\n",
    "        testset, batch_size=batch_size, shuffle=False, num_workers=2\n",
    "    )\n",
    "    \n",
    "    return trainloader, testloader"
   ]
  }
 ],
 "metadata": {
  "kernelspec": {
   "display_name": "Python 3 (ipykernel)",
   "language": "python",
   "name": "python3"
  },
  "language_info": {
   "codemirror_mode": {
    "name": "ipython",
    "version": 3
   },
   "file_extension": ".py",
   "mimetype": "text/x-python",
   "name": "python",
   "nbconvert_exporter": "python",
   "pygments_lexer": "ipython3",
   "version": "3.7.9"
  }
 },
 "nbformat": 4,
 "nbformat_minor": 5
}

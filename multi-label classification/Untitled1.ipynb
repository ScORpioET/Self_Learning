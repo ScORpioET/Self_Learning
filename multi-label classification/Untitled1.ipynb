{
 "cells": [
  {
   "cell_type": "code",
   "execution_count": null,
   "id": "32dabda4",
   "metadata": {},
   "outputs": [],
   "source": [
    "import import_ipynb\n",
    "from model import net\n",
    "from dataset import val_data, char_list\n",
    "from train import device\n",
    "import matplotlib.pyplot as plt\n",
    "from torchvision import trns\n",
    "import totch"
   ]
  },
  {
   "cell_type": "code",
   "execution_count": null,
   "id": "8f34a29b",
   "metadata": {},
   "outputs": [],
   "source": [
    "net"
   ]
  }
 ],
 "metadata": {
  "kernelspec": {
   "display_name": "Python 3 (ipykernel)",
   "language": "python",
   "name": "python3"
  },
  "language_info": {
   "codemirror_mode": {
    "name": "ipython",
    "version": 3
   },
   "file_extension": ".py",
   "mimetype": "text/x-python",
   "name": "python",
   "nbconvert_exporter": "python",
   "pygments_lexer": "ipython3",
   "version": "3.7.9"
  }
 },
 "nbformat": 4,
 "nbformat_minor": 5
}

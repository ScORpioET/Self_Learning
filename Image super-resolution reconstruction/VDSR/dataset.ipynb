{
 "cells": [
  {
   "cell_type": "code",
   "execution_count": 1,
   "id": "0158d855",
   "metadata": {},
   "outputs": [],
   "source": [
    "import torch.utils.data as data\n",
    "\n",
    "from os import listdir\n",
    "from os.path import join\n",
    "from PIL import Image, ImageFilter\n",
    "import numpy as np\n",
    "import torchvision as vision"
   ]
  },
  {
   "cell_type": "code",
   "execution_count": 2,
   "id": "86ece6bb",
   "metadata": {},
   "outputs": [],
   "source": [
    "toPIL = vision.transforms.ToPILImage()"
   ]
  },
  {
   "cell_type": "code",
   "execution_count": 3,
   "id": "01b95991",
   "metadata": {},
   "outputs": [],
   "source": [
    "def noisy(img, std=3.0):\n",
    "    mean = 0.0\n",
    "    gauss = np.random.normal(mean, std, (img.height, img.width, 3))\n",
    "    # noisy = np.clip(np.uint8(img + gauss), 0, 255)\n",
    "    noisy = np.uint8(img + gauss)\n",
    "    return noisy"
   ]
  },
  {
   "cell_type": "code",
   "execution_count": 4,
   "id": "a0a31962",
   "metadata": {},
   "outputs": [],
   "source": [
    "def is_image_file(filename):\n",
    "    return any(filename.endswith(extension) for extension in [\".png\", \".jpg\", \".jpeg\"])"
   ]
  },
  {
   "cell_type": "code",
   "execution_count": 5,
   "id": "7d92ccbe",
   "metadata": {},
   "outputs": [],
   "source": [
    "def load_img(filepath):\n",
    "    img = Image.open(filepath).convert('YCbCr')\n",
    "    return img"
   ]
  },
  {
   "cell_type": "code",
   "execution_count": 6,
   "id": "a0b576af",
   "metadata": {},
   "outputs": [],
   "source": [
    "class BSDS(data.Dataset):\n",
    "    def __init__(self, image_dir, input_transform=None, target_transform=None, add_noise=None, noise_std=3.0):\n",
    "        super(DatasetFromFolder, self).__init__()\n",
    "        self.image_filenames = [join(image_dir, x)\n",
    "                                for x in listdir(image_dir) if is_image_file(x)]\n",
    "\n",
    "        self.input_transform = input_transform\n",
    "        self.target_transform = target_transform\n",
    "        self.add_noise = add_noise\n",
    "        self.noise_std = noise_std\n",
    "\n",
    "    def __getitem__(self, index):\n",
    "        input = load_img(self.image_filenames[index])\n",
    "        target = input.copy()\n",
    "        if self.input_transform:\n",
    "            if self.add_noise:\n",
    "                input = noisy(input, self.noise_std)\n",
    "                input = toPIL(input)\n",
    "            input = self.input_transform(input)\n",
    "        if self.target_transform:\n",
    "            target = self.target_transform(target)\n",
    "\n",
    "        return input, target\n",
    "\n",
    "    def __len__(self):\n",
    "        return len(self.image_filenames)"
   ]
  }
 ],
 "metadata": {
  "kernelspec": {
   "display_name": "Python 3 (ipykernel)",
   "language": "python",
   "name": "python3"
  },
  "language_info": {
   "codemirror_mode": {
    "name": "ipython",
    "version": 3
   },
   "file_extension": ".py",
   "mimetype": "text/x-python",
   "name": "python",
   "nbconvert_exporter": "python",
   "pygments_lexer": "ipython3",
   "version": "3.7.9"
  }
 },
 "nbformat": 4,
 "nbformat_minor": 5
}

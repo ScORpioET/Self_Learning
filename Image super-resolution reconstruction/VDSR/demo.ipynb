{
 "cells": [
  {
   "cell_type": "code",
   "execution_count": 1,
   "id": "97a13ddb",
   "metadata": {},
   "outputs": [
    {
     "name": "stdout",
     "output_type": "stream",
     "text": [
      "importing Jupyter notebook from config.ipynb\n",
      "importing Jupyter notebook from model.ipynb\n"
     ]
    }
   ],
   "source": [
    "from os.path import join\n",
    "import argparse\n",
    "import torch\n",
    "import torch.nn as nn\n",
    "import time\n",
    "import math\n",
    "from torch.autograd import Variable\n",
    "from PIL import Image\n",
    "import import_ipynb\n",
    "from config import DEVICE\n",
    "from torchvision.transforms import ToTensor\n",
    "import numpy as np\n",
    "from model import VDSR"
   ]
  },
  {
   "cell_type": "code",
   "execution_count": 2,
   "id": "bc81e3da",
   "metadata": {},
   "outputs": [],
   "source": [
    "img = Image.open('test_scale2x.jpg').convert('YCbCr')\n",
    "y, cb, cr = img.split()\n",
    "scale_factor = 2"
   ]
  },
  {
   "cell_type": "code",
   "execution_count": 19,
   "id": "ed9900b8",
   "metadata": {},
   "outputs": [
    {
     "name": "stderr",
     "output_type": "stream",
     "text": [
      "C:\\Users\\x9172\\anaconda3\\envs\\PT\\lib\\site-packages\\ipykernel_launcher.py:2: DeprecationWarning: BICUBIC is deprecated and will be removed in Pillow 10 (2023-07-01). Use Resampling.BICUBIC instead.\n",
      "  \n"
     ]
    }
   ],
   "source": [
    "img = img.resize((int(img.size[0]*scale_factor),\n",
    "                  int(img.size[1]*scale_factor)), Image.BICUBIC)\n",
    "img.save('yee.jpg')"
   ]
  },
  {
   "cell_type": "code",
   "execution_count": 6,
   "id": "64ce8bf1",
   "metadata": {},
   "outputs": [
    {
     "data": {
      "text/plain": [
       "<All keys matched successfully>"
      ]
     },
     "execution_count": 6,
     "metadata": {},
     "output_type": "execute_result"
    }
   ],
   "source": [
    "vdsr = VDSR().to(DEVICE)\n",
    "checkpoint = torch.load('./output/model_epoch_25.pth')\n",
    "vdsr.load_state_dict(checkpoint)"
   ]
  },
  {
   "cell_type": "code",
   "execution_count": 8,
   "id": "12eb6337",
   "metadata": {},
   "outputs": [],
   "source": [
    "input = Variable(ToTensor()(img)).view(1, -1, img.size[1], img.size[0])\n",
    "input = input.cuda()"
   ]
  },
  {
   "cell_type": "code",
   "execution_count": 13,
   "id": "7d6ce636",
   "metadata": {},
   "outputs": [],
   "source": [
    "out = vdsr(input)\n",
    "out = out.to('cpu')"
   ]
  },
  {
   "cell_type": "code",
   "execution_count": 15,
   "id": "209dfab6",
   "metadata": {},
   "outputs": [
    {
     "name": "stdout",
     "output_type": "stream",
     "text": [
      "type =  <class 'torch.Tensor'>\n"
     ]
    }
   ],
   "source": [
    "print(\"type = \", type(out))\n",
    "out_img_y = out.data[0].numpy()\n",
    "out_img_y *= 255.0\n",
    "out_img_y = out_img_y.clip(0, 255)\n",
    "out_img_y = Image.fromarray(np.uint8(out_img_y[0]), mode='L')"
   ]
  },
  {
   "cell_type": "code",
   "execution_count": 16,
   "id": "c853ef1e",
   "metadata": {},
   "outputs": [
    {
     "name": "stderr",
     "output_type": "stream",
     "text": [
      "C:\\Users\\x9172\\anaconda3\\envs\\PT\\lib\\site-packages\\ipykernel_launcher.py:1: DeprecationWarning: BICUBIC is deprecated and will be removed in Pillow 10 (2023-07-01). Use Resampling.BICUBIC instead.\n",
      "  \"\"\"Entry point for launching an IPython kernel.\n",
      "C:\\Users\\x9172\\anaconda3\\envs\\PT\\lib\\site-packages\\ipykernel_launcher.py:2: DeprecationWarning: BICUBIC is deprecated and will be removed in Pillow 10 (2023-07-01). Use Resampling.BICUBIC instead.\n",
      "  \n"
     ]
    }
   ],
   "source": [
    "out_img_cb = cb.resize(out_img_y.size, Image.BICUBIC)\n",
    "out_img_cr = cr.resize(out_img_y.size, Image.BICUBIC)\n",
    "out_img = Image.merge(\n",
    "    'YCbCr', [out_img_y, out_img_cb, out_img_cr]).convert('RGB')"
   ]
  },
  {
   "cell_type": "code",
   "execution_count": 18,
   "id": "6e5c8927",
   "metadata": {},
   "outputs": [],
   "source": [
    "out_img.save('output.jpg')"
   ]
  }
 ],
 "metadata": {
  "kernelspec": {
   "display_name": "Python 3 (ipykernel)",
   "language": "python",
   "name": "python3"
  },
  "language_info": {
   "codemirror_mode": {
    "name": "ipython",
    "version": 3
   },
   "file_extension": ".py",
   "mimetype": "text/x-python",
   "name": "python",
   "nbconvert_exporter": "python",
   "pygments_lexer": "ipython3",
   "version": "3.7.9"
  }
 },
 "nbformat": 4,
 "nbformat_minor": 5
}

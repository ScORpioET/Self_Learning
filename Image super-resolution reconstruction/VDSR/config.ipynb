{
 "cells": [
  {
   "cell_type": "code",
   "execution_count": 1,
   "id": "25663557",
   "metadata": {},
   "outputs": [],
   "source": [
    "import torch\n",
    "import os\n",
    "\n",
    "DATASET_PATH = os.path.join(\"data/DF2K\")\n",
    "\n",
    "TRAIN_DATASET_PATH = os.path.join(DATASET_PATH, \"train\")\n",
    "VALID_DATASET_PATH = os.path.join(DATASET_PATH, \"valid\")\n",
    "# 驗證集比例\n",
    "\n",
    "DEVICE = \"cuda\" if torch.cuda.is_available() else \"cpu\"\n",
    "\n",
    "PIN_MEMORY = True if DEVICE == \"cuda\" else False"
   ]
  },
  {
   "cell_type": "code",
   "execution_count": 2,
   "id": "8a19250c",
   "metadata": {},
   "outputs": [],
   "source": [
    "NUM_CHANNELS = 1\n",
    "NUM_CLASSES = 1\n",
    "\n",
    "NUM_EPOCHS = [(80, 0.001), (20, 0.0001)]\n",
    "BATCH_SIZE = 8\n",
    "WEIGHT_DECAY = 1e-4\n",
    "CLIP = 0.4\n",
    "\n",
    "INPUT_IMAGE_WIDTH = 256\n",
    "INPUT_IMAGE_HEIGHT = 256\n",
    "\n",
    "BASE_OUTPUT = \"output\"\n",
    "MODEL_PATH = os.path.join(BASE_OUTPUT, \"unet_tgs_salt.pth\")\n",
    "TEST_PATHS = os.path.sep.join([BASE_OUTPUT, \"test_paths.txt\"])"
   ]
  }
 ],
 "metadata": {
  "kernelspec": {
   "display_name": "Python 3 (ipykernel)",
   "language": "python",
   "name": "python3"
  },
  "language_info": {
   "codemirror_mode": {
    "name": "ipython",
    "version": 3
   },
   "file_extension": ".py",
   "mimetype": "text/x-python",
   "name": "python",
   "nbconvert_exporter": "python",
   "pygments_lexer": "ipython3",
   "version": "3.7.9"
  }
 },
 "nbformat": 4,
 "nbformat_minor": 5
}

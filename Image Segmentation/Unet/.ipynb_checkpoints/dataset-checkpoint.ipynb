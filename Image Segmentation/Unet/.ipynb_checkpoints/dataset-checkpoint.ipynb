{
 "cells": [
  {
   "cell_type": "code",
   "execution_count": 1,
   "id": "2af90b0b",
   "metadata": {},
   "outputs": [],
   "source": [
    "# import the necessary packages\n",
    "from torch.utils.data import Dataset\n",
    "import cv2\n",
    "class SegmentationDataset(Dataset):\n",
    "    def __init__(self, imagePaths, maskPaths, transforms):\n",
    "        # store the image and mask filepaths, and augmentation\n",
    "        # transforms\n",
    "        self.imagePaths = imagePaths\n",
    "        self.maskPaths = maskPaths\n",
    "        self.transforms = transforms\n",
    "    def __getitem__(self, idx):\n",
    "        # grab the image path from the current index\n",
    "        imagePath = self.imagePaths[idx]\n",
    "        # load the image from disk, swap its channels from BGR to RGB,\n",
    "        # and read the associated mask from disk in grayscale mode\n",
    "        image = cv2.imread(imagePath)\n",
    "        image = cv2.cvtColor(image, cv2.COLOR_BGR2RGB)\n",
    "        mask = cv2.imread(self.maskPaths[idx], 0)\n",
    "        # check to see if we are applying any transformations\n",
    "        if self.transforms is not None:\n",
    "            # apply the transformations to both image and its mask\n",
    "            image = self.transforms(image)\n",
    "            mask = self.transforms(mask)\n",
    "        # return a tuple of the image and its mask\n",
    "        return (image, mask)\n",
    "    \n",
    "    def __len__(self):\n",
    "        # return the number of total samples contained in the dataset\n",
    "        return len(self.imagePaths)"
   ]
  }
 ],
 "metadata": {
  "kernelspec": {
   "display_name": "Python 3 (ipykernel)",
   "language": "python",
   "name": "python3"
  },
  "language_info": {
   "codemirror_mode": {
    "name": "ipython",
    "version": 3
   },
   "file_extension": ".py",
   "mimetype": "text/x-python",
   "name": "python",
   "nbconvert_exporter": "python",
   "pygments_lexer": "ipython3",
   "version": "3.7.9"
  }
 },
 "nbformat": 4,
 "nbformat_minor": 5
}

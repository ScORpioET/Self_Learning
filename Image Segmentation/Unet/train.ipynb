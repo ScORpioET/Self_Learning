{
 "cells": [
  {
   "cell_type": "code",
   "execution_count": 1,
   "id": "44d8f391",
   "metadata": {},
   "outputs": [
    {
     "name": "stdout",
     "output_type": "stream",
     "text": [
      "importing Jupyter notebook from dataset.ipynb\n",
      "importing Jupyter notebook from model.ipynb\n",
      "importing Jupyter notebook from config.ipynb\n",
      "importing Jupyter notebook from utils.ipynb\n"
     ]
    }
   ],
   "source": [
    "import import_ipynb\n",
    "from dataset import SegmentationDataset\n",
    "from model import UNet\n",
    "import config\n",
    "import utils\n",
    "from torch.nn import BCEWithLogitsLoss\n",
    "from torch.optim import Adam\n",
    "from torch.utils.data import DataLoader\n",
    "from sklearn.model_selection import train_test_split\n",
    "from torchvision import transforms\n",
    "from imutils import paths\n",
    "from tqdm import tqdm\n",
    "import matplotlib.pyplot as plt\n",
    "import torch\n",
    "import time\n",
    "import os"
   ]
  },
  {
   "cell_type": "code",
   "execution_count": 2,
   "id": "b71f555e",
   "metadata": {},
   "outputs": [],
   "source": [
    "plt.style.use('ggplot')"
   ]
  },
  {
   "cell_type": "code",
   "execution_count": 3,
   "id": "52dcf1d3",
   "metadata": {},
   "outputs": [
    {
     "name": "stdout",
     "output_type": "stream",
     "text": [
      "[INFO] saving testing image paths...\n"
     ]
    }
   ],
   "source": [
    "imagePaths = sorted(list(paths.list_images(config.IMAGE_DATASET_PATH)))\n",
    "maskPaths = sorted(list(paths.list_images(config.MASK_DATASET_PATH)))\n",
    "\n",
    "# 依照設定的比例分割測試集和驗證集\n",
    "(trainImages, testImages) = train_test_split(imagePaths, test_size=config.TEST_SPLIT, random_state=42)\n",
    "(trainMasks, testMasks) = train_test_split(maskPaths, test_size=config.TEST_SPLIT, random_state=42)\n",
    "print(\"[INFO] saving testing image paths...\")\n",
    "f = open(config.TEST_PATHS, \"w\")\n",
    "f.write(\"\\n\".join(testImages))\n",
    "f.close()"
   ]
  },
  {
   "cell_type": "code",
   "execution_count": 4,
   "id": "a4aa6248",
   "metadata": {},
   "outputs": [
    {
     "name": "stdout",
     "output_type": "stream",
     "text": [
      "[INFO] found 2414 examples in the training set...\n",
      "[INFO] found 427 examples in the test set...\n"
     ]
    }
   ],
   "source": [
    "transforms = transforms.Compose([transforms.ToPILImage(),\n",
    "    transforms.Resize((config.INPUT_IMAGE_HEIGHT,\n",
    "        config.INPUT_IMAGE_WIDTH)),\n",
    "    transforms.ToTensor()])\n",
    "\n",
    "trainDS = SegmentationDataset(imagePaths=trainImages, maskPaths=trainMasks,\n",
    "    transforms=transforms)\n",
    "testDS = SegmentationDataset(imagePaths=testImages, maskPaths=testMasks,\n",
    "    transforms=transforms)\n",
    "print(f\"[INFO] found {len(trainDS)} examples in the training set...\")\n",
    "print(f\"[INFO] found {len(testDS)} examples in the test set...\")\n",
    "\n",
    "trainLoader = DataLoader(trainDS, shuffle=True,\n",
    "    batch_size=config.BATCH_SIZE, pin_memory=config.PIN_MEMORY,\n",
    "    num_workers=0)\n",
    "testLoader = DataLoader(testDS, shuffle=False,\n",
    "    batch_size=config.BATCH_SIZE, pin_memory=config.PIN_MEMORY,\n",
    "    num_workers=0)"
   ]
  },
  {
   "cell_type": "code",
   "execution_count": 5,
   "id": "d3017a63",
   "metadata": {},
   "outputs": [],
   "source": [
    "unet = UNet().to(config.DEVICE)\n",
    "\n",
    "\n",
    "if os.path.exists('./output/last_model.pth'):\n",
    "    unet.load_state_dict(torch.load('./output/last_model.pth')['model_state_dict'])\n",
    "\n",
    "lossFunc = BCEWithLogitsLoss()\n",
    "opt = Adam(unet.parameters(), lr=config.INIT_LR)\n",
    "\n",
    "trainSteps = len(trainDS) // config.BATCH_SIZE\n",
    "testSteps = len(testDS) // config.BATCH_SIZE\n",
    "# 建立字典便於追蹤loss\n",
    "H = {\"train_loss\": [], \"test_loss\": []}"
   ]
  },
  {
   "cell_type": "code",
   "execution_count": 6,
   "id": "667930f4",
   "metadata": {
    "scrolled": true
   },
   "outputs": [
    {
     "name": "stdout",
     "output_type": "stream",
     "text": [
      "[INFO] training the network...\n"
     ]
    },
    {
     "name": "stderr",
     "output_type": "stream",
     "text": [
      "\r",
      "  0%|                                                                                          | 0/100 [00:00<?, ?it/s]"
     ]
    },
    {
     "name": "stdout",
     "output_type": "stream",
     "text": [
      "[INFO] EPOCH: 1/100\n",
      "Train loss: 0.401225, Test loss: 0.8174\n",
      "\n",
      "Best validation loss: 0.8173651099205017\n",
      "\n",
      "Saving best model for epoch: 2\n",
      "\n"
     ]
    },
    {
     "name": "stderr",
     "output_type": "stream",
     "text": [
      "\r",
      "  1%|▊                                                                               | 1/100 [00:46<1:16:36, 46.43s/it]"
     ]
    },
    {
     "name": "stdout",
     "output_type": "stream",
     "text": [
      "SAVING PLOTS COMPLETE...\n",
      "[INFO] EPOCH: 2/100\n",
      "Train loss: 0.367271, Test loss: 0.3766\n",
      "\n",
      "Best validation loss: 0.3765992224216461\n",
      "\n",
      "Saving best model for epoch: 3\n",
      "\n"
     ]
    },
    {
     "name": "stderr",
     "output_type": "stream",
     "text": [
      "\r",
      "  2%|█▌                                                                              | 2/100 [01:30<1:13:59, 45.30s/it]"
     ]
    },
    {
     "name": "stdout",
     "output_type": "stream",
     "text": [
      "SAVING PLOTS COMPLETE...\n",
      "[INFO] EPOCH: 3/100\n",
      "Train loss: 0.352303, Test loss: 0.3477\n",
      "\n",
      "Best validation loss: 0.3476582467556\n",
      "\n",
      "Saving best model for epoch: 4\n",
      "\n"
     ]
    },
    {
     "name": "stderr",
     "output_type": "stream",
     "text": [
      "\r",
      "  3%|██▍                                                                             | 3/100 [02:16<1:13:18, 45.34s/it]"
     ]
    },
    {
     "name": "stdout",
     "output_type": "stream",
     "text": [
      "SAVING PLOTS COMPLETE...\n",
      "[INFO] EPOCH: 4/100\n",
      "Train loss: 0.334558, Test loss: 0.3239\n",
      "\n",
      "Best validation loss: 0.3238641023635864\n",
      "\n",
      "Saving best model for epoch: 5\n",
      "\n"
     ]
    },
    {
     "name": "stderr",
     "output_type": "stream",
     "text": [
      "\r",
      "  4%|███▏                                                                            | 4/100 [03:01<1:12:41, 45.43s/it]"
     ]
    },
    {
     "name": "stdout",
     "output_type": "stream",
     "text": [
      "SAVING PLOTS COMPLETE...\n",
      "[INFO] EPOCH: 5/100\n",
      "Train loss: 0.335805, Test loss: 0.3486\n"
     ]
    },
    {
     "name": "stderr",
     "output_type": "stream",
     "text": [
      "\r",
      "  5%|████                                                                            | 5/100 [03:46<1:11:23, 45.09s/it]"
     ]
    },
    {
     "name": "stdout",
     "output_type": "stream",
     "text": [
      "SAVING PLOTS COMPLETE...\n",
      "[INFO] EPOCH: 6/100\n",
      "Train loss: 0.318134, Test loss: 0.3216\n",
      "\n",
      "Best validation loss: 0.32159945368766785\n",
      "\n",
      "Saving best model for epoch: 7\n",
      "\n"
     ]
    },
    {
     "name": "stderr",
     "output_type": "stream",
     "text": [
      "\r",
      "  6%|████▊                                                                           | 6/100 [04:31<1:10:34, 45.05s/it]"
     ]
    },
    {
     "name": "stdout",
     "output_type": "stream",
     "text": [
      "SAVING PLOTS COMPLETE...\n",
      "[INFO] EPOCH: 7/100\n",
      "Train loss: 0.313821, Test loss: 0.3775\n"
     ]
    },
    {
     "name": "stderr",
     "output_type": "stream",
     "text": [
      "\r",
      "  7%|█████▌                                                                          | 7/100 [05:15<1:09:09, 44.62s/it]"
     ]
    },
    {
     "name": "stdout",
     "output_type": "stream",
     "text": [
      "SAVING PLOTS COMPLETE...\n",
      "[INFO] EPOCH: 8/100\n",
      "Train loss: 0.309386, Test loss: 0.3250\n"
     ]
    },
    {
     "name": "stderr",
     "output_type": "stream",
     "text": [
      "\r",
      "  8%|██████▍                                                                         | 8/100 [05:57<1:07:32, 44.05s/it]"
     ]
    },
    {
     "name": "stdout",
     "output_type": "stream",
     "text": [
      "SAVING PLOTS COMPLETE...\n",
      "[INFO] EPOCH: 9/100\n",
      "Train loss: 0.308711, Test loss: 0.3084\n",
      "\n",
      "Best validation loss: 0.3084155023097992\n",
      "\n",
      "Saving best model for epoch: 10\n",
      "\n"
     ]
    },
    {
     "name": "stderr",
     "output_type": "stream",
     "text": [
      "\r",
      "  9%|███████▏                                                                        | 9/100 [06:42<1:06:50, 44.08s/it]"
     ]
    },
    {
     "name": "stdout",
     "output_type": "stream",
     "text": [
      "SAVING PLOTS COMPLETE...\n",
      "[INFO] EPOCH: 10/100\n",
      "Train loss: 0.292292, Test loss: 0.3133\n"
     ]
    },
    {
     "name": "stderr",
     "output_type": "stream",
     "text": [
      "\r",
      " 10%|███████▉                                                                       | 10/100 [07:27<1:06:49, 44.55s/it]"
     ]
    },
    {
     "name": "stdout",
     "output_type": "stream",
     "text": [
      "SAVING PLOTS COMPLETE...\n",
      "[INFO] EPOCH: 11/100\n",
      "Train loss: 0.292339, Test loss: 0.3224\n"
     ]
    },
    {
     "name": "stderr",
     "output_type": "stream",
     "text": [
      "\r",
      " 11%|████████▋                                                                      | 11/100 [08:11<1:05:52, 44.40s/it]"
     ]
    },
    {
     "name": "stdout",
     "output_type": "stream",
     "text": [
      "SAVING PLOTS COMPLETE...\n",
      "[INFO] EPOCH: 12/100\n",
      "Train loss: 0.291014, Test loss: 0.3058\n",
      "\n",
      "Best validation loss: 0.305753618478775\n",
      "\n",
      "Saving best model for epoch: 13\n",
      "\n"
     ]
    },
    {
     "name": "stderr",
     "output_type": "stream",
     "text": [
      "\r",
      " 12%|█████████▍                                                                     | 12/100 [08:56<1:05:24, 44.60s/it]"
     ]
    },
    {
     "name": "stdout",
     "output_type": "stream",
     "text": [
      "SAVING PLOTS COMPLETE...\n",
      "[INFO] EPOCH: 13/100\n",
      "Train loss: 0.291455, Test loss: 0.3086\n"
     ]
    },
    {
     "name": "stderr",
     "output_type": "stream",
     "text": [
      "\r",
      " 13%|██████████▎                                                                    | 13/100 [09:42<1:05:14, 44.99s/it]"
     ]
    },
    {
     "name": "stdout",
     "output_type": "stream",
     "text": [
      "SAVING PLOTS COMPLETE...\n",
      "[INFO] EPOCH: 14/100\n",
      "Train loss: 0.295283, Test loss: 0.3250\n"
     ]
    },
    {
     "name": "stderr",
     "output_type": "stream",
     "text": [
      "\r",
      " 14%|███████████                                                                    | 14/100 [10:28<1:04:52, 45.26s/it]"
     ]
    },
    {
     "name": "stdout",
     "output_type": "stream",
     "text": [
      "SAVING PLOTS COMPLETE...\n",
      "[INFO] EPOCH: 15/100\n",
      "Train loss: 0.284845, Test loss: 0.3002\n",
      "\n",
      "Best validation loss: 0.3001749813556671\n",
      "\n",
      "Saving best model for epoch: 16\n",
      "\n"
     ]
    },
    {
     "name": "stderr",
     "output_type": "stream",
     "text": [
      "\r",
      " 15%|███████████▊                                                                   | 15/100 [11:13<1:04:07, 45.26s/it]"
     ]
    },
    {
     "name": "stdout",
     "output_type": "stream",
     "text": [
      "SAVING PLOTS COMPLETE...\n",
      "[INFO] EPOCH: 16/100\n",
      "Train loss: 0.279578, Test loss: 0.3133\n"
     ]
    },
    {
     "name": "stderr",
     "output_type": "stream",
     "text": [
      "\r",
      " 16%|████████████▋                                                                  | 16/100 [11:58<1:03:08, 45.11s/it]"
     ]
    },
    {
     "name": "stdout",
     "output_type": "stream",
     "text": [
      "SAVING PLOTS COMPLETE...\n",
      "[INFO] EPOCH: 17/100\n",
      "Train loss: 0.278345, Test loss: 0.3041\n"
     ]
    },
    {
     "name": "stderr",
     "output_type": "stream",
     "text": [
      "\r",
      " 17%|█████████████▍                                                                 | 17/100 [12:42<1:01:55, 44.76s/it]"
     ]
    },
    {
     "name": "stdout",
     "output_type": "stream",
     "text": [
      "SAVING PLOTS COMPLETE...\n",
      "[INFO] EPOCH: 18/100\n",
      "Train loss: 0.275966, Test loss: 0.2881\n",
      "\n",
      "Best validation loss: 0.28808656334877014\n",
      "\n",
      "Saving best model for epoch: 19\n",
      "\n"
     ]
    },
    {
     "name": "stderr",
     "output_type": "stream",
     "text": [
      "\r",
      " 18%|██████████████▏                                                                | 18/100 [13:30<1:02:39, 45.85s/it]"
     ]
    },
    {
     "name": "stdout",
     "output_type": "stream",
     "text": [
      "SAVING PLOTS COMPLETE...\n",
      "[INFO] EPOCH: 19/100\n",
      "Train loss: 0.274245, Test loss: 0.3053\n"
     ]
    },
    {
     "name": "stderr",
     "output_type": "stream",
     "text": [
      "\r",
      " 19%|███████████████                                                                | 19/100 [14:16<1:01:57, 45.90s/it]"
     ]
    },
    {
     "name": "stdout",
     "output_type": "stream",
     "text": [
      "SAVING PLOTS COMPLETE...\n",
      "[INFO] EPOCH: 20/100\n",
      "Train loss: 0.264233, Test loss: 0.3123\n"
     ]
    },
    {
     "name": "stderr",
     "output_type": "stream",
     "text": [
      "\r",
      " 20%|███████████████▊                                                               | 20/100 [15:00<1:00:20, 45.26s/it]"
     ]
    },
    {
     "name": "stdout",
     "output_type": "stream",
     "text": [
      "SAVING PLOTS COMPLETE...\n",
      "[INFO] EPOCH: 21/100\n",
      "Train loss: 0.267768, Test loss: 0.2847\n",
      "\n",
      "Best validation loss: 0.28469619154930115\n",
      "\n",
      "Saving best model for epoch: 22\n",
      "\n"
     ]
    },
    {
     "name": "stderr",
     "output_type": "stream",
     "text": [
      "\r",
      " 21%|█████████████████                                                                | 21/100 [15:45<59:21, 45.08s/it]"
     ]
    },
    {
     "name": "stdout",
     "output_type": "stream",
     "text": [
      "SAVING PLOTS COMPLETE...\n",
      "[INFO] EPOCH: 22/100\n",
      "Train loss: 0.263502, Test loss: 0.2881\n"
     ]
    },
    {
     "name": "stderr",
     "output_type": "stream",
     "text": [
      "\r",
      " 22%|█████████████████▊                                                               | 22/100 [16:30<58:26, 44.95s/it]"
     ]
    },
    {
     "name": "stdout",
     "output_type": "stream",
     "text": [
      "SAVING PLOTS COMPLETE...\n",
      "[INFO] EPOCH: 23/100\n",
      "Train loss: 0.256779, Test loss: 0.2947\n"
     ]
    },
    {
     "name": "stderr",
     "output_type": "stream",
     "text": [
      "\r",
      " 23%|██████████████████▋                                                              | 23/100 [17:15<57:52, 45.10s/it]"
     ]
    },
    {
     "name": "stdout",
     "output_type": "stream",
     "text": [
      "SAVING PLOTS COMPLETE...\n",
      "[INFO] EPOCH: 24/100\n",
      "Train loss: 0.261449, Test loss: 0.2860\n"
     ]
    },
    {
     "name": "stderr",
     "output_type": "stream",
     "text": [
      "\r",
      " 24%|███████████████████▍                                                             | 24/100 [18:00<57:04, 45.06s/it]"
     ]
    },
    {
     "name": "stdout",
     "output_type": "stream",
     "text": [
      "SAVING PLOTS COMPLETE...\n",
      "[INFO] EPOCH: 25/100\n",
      "Train loss: 0.257676, Test loss: 0.3850\n"
     ]
    },
    {
     "name": "stderr",
     "output_type": "stream",
     "text": [
      "\r",
      " 25%|████████████████████▎                                                            | 25/100 [18:44<55:59, 44.79s/it]"
     ]
    },
    {
     "name": "stdout",
     "output_type": "stream",
     "text": [
      "SAVING PLOTS COMPLETE...\n",
      "[INFO] EPOCH: 26/100\n",
      "Train loss: 0.260662, Test loss: 0.2791\n",
      "\n",
      "Best validation loss: 0.2790849208831787\n",
      "\n",
      "Saving best model for epoch: 27\n",
      "\n"
     ]
    },
    {
     "name": "stderr",
     "output_type": "stream",
     "text": [
      "\r",
      " 26%|█████████████████████                                                            | 26/100 [19:29<55:21, 44.88s/it]"
     ]
    },
    {
     "name": "stdout",
     "output_type": "stream",
     "text": [
      "SAVING PLOTS COMPLETE...\n",
      "[INFO] EPOCH: 27/100\n",
      "Train loss: 0.249233, Test loss: 0.2759\n",
      "\n",
      "Best validation loss: 0.27585315704345703\n",
      "\n",
      "Saving best model for epoch: 28\n",
      "\n"
     ]
    },
    {
     "name": "stderr",
     "output_type": "stream",
     "text": [
      "\r",
      " 27%|█████████████████████▊                                                           | 27/100 [20:14<54:27, 44.76s/it]"
     ]
    },
    {
     "name": "stdout",
     "output_type": "stream",
     "text": [
      "SAVING PLOTS COMPLETE...\n",
      "[INFO] EPOCH: 28/100\n",
      "Train loss: 0.245246, Test loss: 0.2731\n",
      "\n",
      "Best validation loss: 0.2730661928653717\n",
      "\n",
      "Saving best model for epoch: 29\n",
      "\n"
     ]
    },
    {
     "name": "stderr",
     "output_type": "stream",
     "text": [
      "\r",
      " 28%|██████████████████████▋                                                          | 28/100 [20:58<53:24, 44.51s/it]"
     ]
    },
    {
     "name": "stdout",
     "output_type": "stream",
     "text": [
      "SAVING PLOTS COMPLETE...\n",
      "[INFO] EPOCH: 29/100\n",
      "Train loss: 0.247034, Test loss: 0.3085\n"
     ]
    },
    {
     "name": "stderr",
     "output_type": "stream",
     "text": [
      "\r",
      " 29%|███████████████████████▍                                                         | 29/100 [21:40<52:04, 44.00s/it]"
     ]
    },
    {
     "name": "stdout",
     "output_type": "stream",
     "text": [
      "SAVING PLOTS COMPLETE...\n",
      "[INFO] EPOCH: 30/100\n",
      "Train loss: 0.237668, Test loss: 0.2711\n",
      "\n",
      "Best validation loss: 0.27109941840171814\n",
      "\n",
      "Saving best model for epoch: 31\n",
      "\n"
     ]
    },
    {
     "name": "stderr",
     "output_type": "stream",
     "text": [
      "\r",
      " 30%|████████████████████████▎                                                        | 30/100 [22:24<51:09, 43.85s/it]"
     ]
    },
    {
     "name": "stdout",
     "output_type": "stream",
     "text": [
      "SAVING PLOTS COMPLETE...\n",
      "[INFO] EPOCH: 31/100\n",
      "Train loss: 0.244456, Test loss: 0.2779\n"
     ]
    },
    {
     "name": "stderr",
     "output_type": "stream",
     "text": [
      "\r",
      " 31%|█████████████████████████                                                        | 31/100 [23:08<50:33, 43.97s/it]"
     ]
    },
    {
     "name": "stdout",
     "output_type": "stream",
     "text": [
      "SAVING PLOTS COMPLETE...\n",
      "[INFO] EPOCH: 32/100\n",
      "Train loss: 0.243133, Test loss: 0.2609\n",
      "\n",
      "Best validation loss: 0.26092299818992615\n",
      "\n",
      "Saving best model for epoch: 33\n",
      "\n"
     ]
    },
    {
     "name": "stderr",
     "output_type": "stream",
     "text": [
      "\r",
      " 32%|█████████████████████████▉                                                       | 32/100 [23:52<49:56, 44.07s/it]"
     ]
    },
    {
     "name": "stdout",
     "output_type": "stream",
     "text": [
      "SAVING PLOTS COMPLETE...\n",
      "[INFO] EPOCH: 33/100\n",
      "Train loss: 0.234172, Test loss: 0.2682\n"
     ]
    },
    {
     "name": "stderr",
     "output_type": "stream",
     "text": [
      "\r",
      " 33%|██████████████████████████▋                                                      | 33/100 [24:35<48:51, 43.75s/it]"
     ]
    },
    {
     "name": "stdout",
     "output_type": "stream",
     "text": [
      "SAVING PLOTS COMPLETE...\n",
      "[INFO] EPOCH: 34/100\n",
      "Train loss: 0.239184, Test loss: 0.2626\n"
     ]
    },
    {
     "name": "stderr",
     "output_type": "stream",
     "text": [
      "\r",
      " 34%|███████████████████████████▌                                                     | 34/100 [25:18<47:52, 43.53s/it]"
     ]
    },
    {
     "name": "stdout",
     "output_type": "stream",
     "text": [
      "SAVING PLOTS COMPLETE...\n",
      "[INFO] EPOCH: 35/100\n",
      "Train loss: 0.228259, Test loss: 0.2930\n"
     ]
    },
    {
     "name": "stderr",
     "output_type": "stream",
     "text": [
      "\r",
      " 35%|████████████████████████████▎                                                    | 35/100 [26:02<47:09, 43.53s/it]"
     ]
    },
    {
     "name": "stdout",
     "output_type": "stream",
     "text": [
      "SAVING PLOTS COMPLETE...\n",
      "[INFO] EPOCH: 36/100\n",
      "Train loss: 0.229486, Test loss: 0.2680\n"
     ]
    },
    {
     "name": "stderr",
     "output_type": "stream",
     "text": [
      "\r",
      " 36%|█████████████████████████████▏                                                   | 36/100 [26:44<45:57, 43.09s/it]"
     ]
    },
    {
     "name": "stdout",
     "output_type": "stream",
     "text": [
      "SAVING PLOTS COMPLETE...\n",
      "[INFO] EPOCH: 37/100\n",
      "Train loss: 0.227927, Test loss: 0.2736\n"
     ]
    },
    {
     "name": "stderr",
     "output_type": "stream",
     "text": [
      "\r",
      " 37%|█████████████████████████████▉                                                   | 37/100 [27:26<44:53, 42.76s/it]"
     ]
    },
    {
     "name": "stdout",
     "output_type": "stream",
     "text": [
      "SAVING PLOTS COMPLETE...\n",
      "[INFO] EPOCH: 38/100\n",
      "Train loss: 0.226789, Test loss: 0.2536\n",
      "\n",
      "Best validation loss: 0.25361013412475586\n",
      "\n",
      "Saving best model for epoch: 39\n",
      "\n"
     ]
    },
    {
     "name": "stderr",
     "output_type": "stream",
     "text": [
      "\r",
      " 38%|██████████████████████████████▊                                                  | 38/100 [28:09<44:15, 42.83s/it]"
     ]
    },
    {
     "name": "stdout",
     "output_type": "stream",
     "text": [
      "SAVING PLOTS COMPLETE...\n",
      "[INFO] EPOCH: 39/100\n",
      "Train loss: 0.214868, Test loss: 0.2501\n",
      "\n",
      "Best validation loss: 0.25007539987564087\n",
      "\n",
      "Saving best model for epoch: 40\n",
      "\n"
     ]
    },
    {
     "name": "stderr",
     "output_type": "stream",
     "text": [
      "\r",
      " 39%|███████████████████████████████▌                                                 | 39/100 [28:52<43:40, 42.96s/it]"
     ]
    },
    {
     "name": "stdout",
     "output_type": "stream",
     "text": [
      "SAVING PLOTS COMPLETE...\n",
      "[INFO] EPOCH: 40/100\n",
      "Train loss: 0.217238, Test loss: 0.2515\n"
     ]
    },
    {
     "name": "stderr",
     "output_type": "stream",
     "text": [
      "\r",
      " 40%|████████████████████████████████▍                                                | 40/100 [29:36<43:08, 43.14s/it]"
     ]
    },
    {
     "name": "stdout",
     "output_type": "stream",
     "text": [
      "SAVING PLOTS COMPLETE...\n",
      "[INFO] EPOCH: 41/100\n",
      "Train loss: 0.211781, Test loss: 0.2841\n"
     ]
    },
    {
     "name": "stderr",
     "output_type": "stream",
     "text": [
      "\r",
      " 41%|█████████████████████████████████▏                                               | 41/100 [30:19<42:20, 43.06s/it]"
     ]
    },
    {
     "name": "stdout",
     "output_type": "stream",
     "text": [
      "SAVING PLOTS COMPLETE...\n",
      "[INFO] EPOCH: 42/100\n",
      "Train loss: 0.213433, Test loss: 0.2701\n"
     ]
    },
    {
     "name": "stderr",
     "output_type": "stream",
     "text": [
      "\r",
      " 42%|██████████████████████████████████                                               | 42/100 [31:02<41:32, 42.98s/it]"
     ]
    },
    {
     "name": "stdout",
     "output_type": "stream",
     "text": [
      "SAVING PLOTS COMPLETE...\n",
      "[INFO] EPOCH: 43/100\n",
      "Train loss: 0.210884, Test loss: 0.2606\n"
     ]
    },
    {
     "name": "stderr",
     "output_type": "stream",
     "text": [
      "\r",
      " 43%|██████████████████████████████████▊                                              | 43/100 [31:44<40:47, 42.93s/it]"
     ]
    },
    {
     "name": "stdout",
     "output_type": "stream",
     "text": [
      "SAVING PLOTS COMPLETE...\n",
      "[INFO] EPOCH: 44/100\n",
      "Train loss: 0.212003, Test loss: 0.2889\n"
     ]
    },
    {
     "name": "stderr",
     "output_type": "stream",
     "text": [
      "\r",
      " 44%|███████████████████████████████████▋                                             | 44/100 [32:27<40:02, 42.91s/it]"
     ]
    },
    {
     "name": "stdout",
     "output_type": "stream",
     "text": [
      "SAVING PLOTS COMPLETE...\n",
      "[INFO] EPOCH: 45/100\n",
      "Train loss: 0.203500, Test loss: 0.2592\n"
     ]
    },
    {
     "name": "stderr",
     "output_type": "stream",
     "text": [
      "\r",
      " 45%|████████████████████████████████████▍                                            | 45/100 [33:10<39:17, 42.87s/it]"
     ]
    },
    {
     "name": "stdout",
     "output_type": "stream",
     "text": [
      "SAVING PLOTS COMPLETE...\n",
      "[INFO] EPOCH: 46/100\n",
      "Train loss: 0.195733, Test loss: 0.2582\n"
     ]
    },
    {
     "name": "stderr",
     "output_type": "stream",
     "text": [
      "\r",
      " 46%|█████████████████████████████████████▎                                           | 46/100 [33:53<38:40, 42.98s/it]"
     ]
    },
    {
     "name": "stdout",
     "output_type": "stream",
     "text": [
      "SAVING PLOTS COMPLETE...\n",
      "[INFO] EPOCH: 47/100\n",
      "Train loss: 0.195779, Test loss: 0.2610\n"
     ]
    },
    {
     "name": "stderr",
     "output_type": "stream",
     "text": [
      "\r",
      " 47%|██████████████████████████████████████                                           | 47/100 [34:37<38:12, 43.25s/it]"
     ]
    },
    {
     "name": "stdout",
     "output_type": "stream",
     "text": [
      "SAVING PLOTS COMPLETE...\n",
      "[INFO] EPOCH: 48/100\n",
      "Train loss: 0.191487, Test loss: 0.3008\n"
     ]
    },
    {
     "name": "stderr",
     "output_type": "stream",
     "text": [
      "\r",
      " 48%|██████████████████████████████████████▉                                          | 48/100 [35:20<37:26, 43.21s/it]"
     ]
    },
    {
     "name": "stdout",
     "output_type": "stream",
     "text": [
      "SAVING PLOTS COMPLETE...\n",
      "[INFO] EPOCH: 49/100\n",
      "Train loss: 0.186772, Test loss: 0.2631\n"
     ]
    },
    {
     "name": "stderr",
     "output_type": "stream",
     "text": [
      "\r",
      " 49%|███████████████████████████████████████▋                                         | 49/100 [36:02<36:27, 42.89s/it]"
     ]
    },
    {
     "name": "stdout",
     "output_type": "stream",
     "text": [
      "SAVING PLOTS COMPLETE...\n",
      "[INFO] EPOCH: 50/100\n",
      "Train loss: 0.196059, Test loss: 0.2804\n"
     ]
    },
    {
     "name": "stderr",
     "output_type": "stream",
     "text": [
      "\r",
      " 50%|████████████████████████████████████████▌                                        | 50/100 [36:44<35:32, 42.66s/it]"
     ]
    },
    {
     "name": "stdout",
     "output_type": "stream",
     "text": [
      "SAVING PLOTS COMPLETE...\n",
      "[INFO] EPOCH: 51/100\n",
      "Train loss: 0.177063, Test loss: 0.2660\n"
     ]
    },
    {
     "name": "stderr",
     "output_type": "stream",
     "text": [
      "\r",
      " 51%|█████████████████████████████████████████▎                                       | 51/100 [37:27<34:41, 42.48s/it]"
     ]
    },
    {
     "name": "stdout",
     "output_type": "stream",
     "text": [
      "SAVING PLOTS COMPLETE...\n",
      "[INFO] EPOCH: 52/100\n",
      "Train loss: 0.175825, Test loss: 0.2676\n"
     ]
    },
    {
     "name": "stderr",
     "output_type": "stream",
     "text": [
      "\r",
      " 52%|██████████████████████████████████████████                                       | 52/100 [38:09<33:56, 42.42s/it]"
     ]
    },
    {
     "name": "stdout",
     "output_type": "stream",
     "text": [
      "SAVING PLOTS COMPLETE...\n",
      "[INFO] EPOCH: 53/100\n",
      "Train loss: 0.173382, Test loss: 0.2788\n"
     ]
    },
    {
     "name": "stderr",
     "output_type": "stream",
     "text": [
      "\r",
      " 53%|██████████████████████████████████████████▉                                      | 53/100 [38:51<33:09, 42.32s/it]"
     ]
    },
    {
     "name": "stdout",
     "output_type": "stream",
     "text": [
      "SAVING PLOTS COMPLETE...\n",
      "[INFO] EPOCH: 54/100\n",
      "Train loss: 0.179262, Test loss: 0.2767\n"
     ]
    },
    {
     "name": "stderr",
     "output_type": "stream",
     "text": [
      "\r",
      " 54%|███████████████████████████████████████████▋                                     | 54/100 [39:33<32:28, 42.36s/it]"
     ]
    },
    {
     "name": "stdout",
     "output_type": "stream",
     "text": [
      "SAVING PLOTS COMPLETE...\n",
      "[INFO] EPOCH: 55/100\n",
      "Train loss: 0.169080, Test loss: 0.2670\n"
     ]
    },
    {
     "name": "stderr",
     "output_type": "stream",
     "text": [
      "\r",
      " 55%|████████████████████████████████████████████▌                                    | 55/100 [40:18<32:12, 42.95s/it]"
     ]
    },
    {
     "name": "stdout",
     "output_type": "stream",
     "text": [
      "SAVING PLOTS COMPLETE...\n",
      "[INFO] EPOCH: 56/100\n",
      "Train loss: 0.164643, Test loss: 0.2678\n"
     ]
    },
    {
     "name": "stderr",
     "output_type": "stream",
     "text": [
      "\r",
      " 56%|█████████████████████████████████████████████▎                                   | 56/100 [41:01<31:37, 43.13s/it]"
     ]
    },
    {
     "name": "stdout",
     "output_type": "stream",
     "text": [
      "SAVING PLOTS COMPLETE...\n",
      "[INFO] EPOCH: 57/100\n",
      "Train loss: 0.171260, Test loss: 0.2874\n"
     ]
    },
    {
     "name": "stderr",
     "output_type": "stream",
     "text": [
      "\r",
      " 57%|██████████████████████████████████████████████▏                                  | 57/100 [41:45<31:00, 43.27s/it]"
     ]
    },
    {
     "name": "stdout",
     "output_type": "stream",
     "text": [
      "SAVING PLOTS COMPLETE...\n",
      "[INFO] EPOCH: 58/100\n",
      "Train loss: 0.164313, Test loss: 0.2813\n"
     ]
    },
    {
     "name": "stderr",
     "output_type": "stream",
     "text": [
      "\r",
      " 58%|██████████████████████████████████████████████▉                                  | 58/100 [42:29<30:32, 43.62s/it]"
     ]
    },
    {
     "name": "stdout",
     "output_type": "stream",
     "text": [
      "SAVING PLOTS COMPLETE...\n",
      "[INFO] EPOCH: 59/100\n",
      "Train loss: 0.153687, Test loss: 0.2628\n"
     ]
    },
    {
     "name": "stderr",
     "output_type": "stream",
     "text": [
      "\r",
      " 59%|███████████████████████████████████████████████▊                                 | 59/100 [43:13<29:46, 43.57s/it]"
     ]
    },
    {
     "name": "stdout",
     "output_type": "stream",
     "text": [
      "SAVING PLOTS COMPLETE...\n",
      "[INFO] EPOCH: 60/100\n",
      "Train loss: 0.152695, Test loss: 0.2721\n"
     ]
    },
    {
     "name": "stderr",
     "output_type": "stream",
     "text": [
      "\r",
      " 60%|████████████████████████████████████████████████▌                                | 60/100 [43:56<29:03, 43.59s/it]"
     ]
    },
    {
     "name": "stdout",
     "output_type": "stream",
     "text": [
      "SAVING PLOTS COMPLETE...\n",
      "[INFO] EPOCH: 61/100\n",
      "Train loss: 0.153598, Test loss: 0.2651\n"
     ]
    },
    {
     "name": "stderr",
     "output_type": "stream",
     "text": [
      "\r",
      " 61%|█████████████████████████████████████████████████▍                               | 61/100 [44:41<28:28, 43.80s/it]"
     ]
    },
    {
     "name": "stdout",
     "output_type": "stream",
     "text": [
      "SAVING PLOTS COMPLETE...\n",
      "[INFO] EPOCH: 62/100\n",
      "Train loss: 0.147737, Test loss: 0.2651\n"
     ]
    },
    {
     "name": "stderr",
     "output_type": "stream",
     "text": [
      "\r",
      " 62%|██████████████████████████████████████████████████▏                              | 62/100 [45:26<27:58, 44.18s/it]"
     ]
    },
    {
     "name": "stdout",
     "output_type": "stream",
     "text": [
      "SAVING PLOTS COMPLETE...\n",
      "[INFO] EPOCH: 63/100\n",
      "Train loss: 0.156133, Test loss: 0.2621\n"
     ]
    },
    {
     "name": "stderr",
     "output_type": "stream",
     "text": [
      "\r",
      " 63%|███████████████████████████████████████████████████                              | 63/100 [46:11<27:24, 44.43s/it]"
     ]
    },
    {
     "name": "stdout",
     "output_type": "stream",
     "text": [
      "SAVING PLOTS COMPLETE...\n",
      "[INFO] EPOCH: 64/100\n",
      "Train loss: 0.151901, Test loss: 0.2638\n"
     ]
    },
    {
     "name": "stderr",
     "output_type": "stream",
     "text": [
      "\r",
      " 64%|███████████████████████████████████████████████████▊                             | 64/100 [46:55<26:40, 44.47s/it]"
     ]
    },
    {
     "name": "stdout",
     "output_type": "stream",
     "text": [
      "SAVING PLOTS COMPLETE...\n",
      "[INFO] EPOCH: 65/100\n",
      "Train loss: 0.143073, Test loss: 0.2857\n"
     ]
    },
    {
     "name": "stderr",
     "output_type": "stream",
     "text": [
      "\r",
      " 65%|████████████████████████████████████████████████████▋                            | 65/100 [47:39<25:43, 44.10s/it]"
     ]
    },
    {
     "name": "stdout",
     "output_type": "stream",
     "text": [
      "SAVING PLOTS COMPLETE...\n",
      "[INFO] EPOCH: 66/100\n",
      "Train loss: 0.138851, Test loss: 0.2625\n"
     ]
    },
    {
     "name": "stderr",
     "output_type": "stream",
     "text": [
      "\r",
      " 66%|█████████████████████████████████████████████████████▍                           | 66/100 [48:22<24:54, 43.97s/it]"
     ]
    },
    {
     "name": "stdout",
     "output_type": "stream",
     "text": [
      "SAVING PLOTS COMPLETE...\n",
      "[INFO] EPOCH: 67/100\n",
      "Train loss: 0.140459, Test loss: 0.3061\n"
     ]
    },
    {
     "name": "stderr",
     "output_type": "stream",
     "text": [
      "\r",
      " 67%|██████████████████████████████████████████████████████▎                          | 67/100 [49:06<24:11, 43.98s/it]"
     ]
    },
    {
     "name": "stdout",
     "output_type": "stream",
     "text": [
      "SAVING PLOTS COMPLETE...\n",
      "[INFO] EPOCH: 68/100\n",
      "Train loss: 0.150105, Test loss: 0.2772\n"
     ]
    },
    {
     "name": "stderr",
     "output_type": "stream",
     "text": [
      "\r",
      " 68%|███████████████████████████████████████████████████████                          | 68/100 [49:47<22:55, 42.97s/it]"
     ]
    },
    {
     "name": "stdout",
     "output_type": "stream",
     "text": [
      "SAVING PLOTS COMPLETE...\n",
      "[INFO] EPOCH: 69/100\n",
      "Train loss: 0.141237, Test loss: 0.2758\n"
     ]
    },
    {
     "name": "stderr",
     "output_type": "stream",
     "text": [
      "\r",
      " 69%|███████████████████████████████████████████████████████▉                         | 69/100 [50:28<21:51, 42.32s/it]"
     ]
    },
    {
     "name": "stdout",
     "output_type": "stream",
     "text": [
      "SAVING PLOTS COMPLETE...\n",
      "[INFO] EPOCH: 70/100\n",
      "Train loss: 0.134259, Test loss: 0.2696\n"
     ]
    },
    {
     "name": "stderr",
     "output_type": "stream",
     "text": [
      "\r",
      " 70%|████████████████████████████████████████████████████████▋                        | 70/100 [51:08<20:54, 41.83s/it]"
     ]
    },
    {
     "name": "stdout",
     "output_type": "stream",
     "text": [
      "SAVING PLOTS COMPLETE...\n",
      "[INFO] EPOCH: 71/100\n",
      "Train loss: 0.130340, Test loss: 0.2698\n"
     ]
    },
    {
     "name": "stderr",
     "output_type": "stream",
     "text": [
      "\r",
      " 71%|█████████████████████████████████████████████████████████▌                       | 71/100 [51:49<20:04, 41.52s/it]"
     ]
    },
    {
     "name": "stdout",
     "output_type": "stream",
     "text": [
      "SAVING PLOTS COMPLETE...\n",
      "[INFO] EPOCH: 72/100\n",
      "Train loss: 0.136233, Test loss: 0.2580\n"
     ]
    },
    {
     "name": "stderr",
     "output_type": "stream",
     "text": [
      "\r",
      " 72%|██████████████████████████████████████████████████████████▎                      | 72/100 [52:30<19:15, 41.28s/it]"
     ]
    },
    {
     "name": "stdout",
     "output_type": "stream",
     "text": [
      "SAVING PLOTS COMPLETE...\n",
      "[INFO] EPOCH: 73/100\n",
      "Train loss: 0.134471, Test loss: 0.2759\n"
     ]
    },
    {
     "name": "stderr",
     "output_type": "stream",
     "text": [
      "\r",
      " 73%|███████████████████████████████████████████████████████████▏                     | 73/100 [53:11<18:32, 41.20s/it]"
     ]
    },
    {
     "name": "stdout",
     "output_type": "stream",
     "text": [
      "SAVING PLOTS COMPLETE...\n",
      "[INFO] EPOCH: 74/100\n",
      "Train loss: 0.134118, Test loss: 0.2782\n"
     ]
    },
    {
     "name": "stderr",
     "output_type": "stream",
     "text": [
      "\r",
      " 74%|███████████████████████████████████████████████████████████▉                     | 74/100 [53:52<17:47, 41.06s/it]"
     ]
    },
    {
     "name": "stdout",
     "output_type": "stream",
     "text": [
      "SAVING PLOTS COMPLETE...\n",
      "[INFO] EPOCH: 75/100\n",
      "Train loss: 0.154941, Test loss: 0.3099\n"
     ]
    },
    {
     "name": "stderr",
     "output_type": "stream",
     "text": [
      "\r",
      " 75%|████████████████████████████████████████████████████████████▊                    | 75/100 [54:32<17:04, 40.98s/it]"
     ]
    },
    {
     "name": "stdout",
     "output_type": "stream",
     "text": [
      "SAVING PLOTS COMPLETE...\n",
      "[INFO] EPOCH: 76/100\n",
      "Train loss: 0.136238, Test loss: 0.2713\n"
     ]
    },
    {
     "name": "stderr",
     "output_type": "stream",
     "text": [
      "\r",
      " 76%|█████████████████████████████████████████████████████████████▌                   | 76/100 [55:13<16:20, 40.87s/it]"
     ]
    },
    {
     "name": "stdout",
     "output_type": "stream",
     "text": [
      "SAVING PLOTS COMPLETE...\n",
      "[INFO] EPOCH: 77/100\n",
      "Train loss: 0.126239, Test loss: 0.2892\n"
     ]
    },
    {
     "name": "stderr",
     "output_type": "stream",
     "text": [
      "\r",
      " 77%|██████████████████████████████████████████████████████████████▎                  | 77/100 [55:54<15:38, 40.81s/it]"
     ]
    },
    {
     "name": "stdout",
     "output_type": "stream",
     "text": [
      "SAVING PLOTS COMPLETE...\n",
      "[INFO] EPOCH: 78/100\n",
      "Train loss: 0.122647, Test loss: 0.2989\n"
     ]
    },
    {
     "name": "stderr",
     "output_type": "stream",
     "text": [
      "\r",
      " 78%|███████████████████████████████████████████████████████████████▏                 | 78/100 [56:34<14:55, 40.71s/it]"
     ]
    },
    {
     "name": "stdout",
     "output_type": "stream",
     "text": [
      "SAVING PLOTS COMPLETE...\n",
      "[INFO] EPOCH: 79/100\n",
      "Train loss: 0.121323, Test loss: 0.2773\n"
     ]
    },
    {
     "name": "stderr",
     "output_type": "stream",
     "text": [
      "\r",
      " 79%|███████████████████████████████████████████████████████████████▉                 | 79/100 [57:15<14:14, 40.71s/it]"
     ]
    },
    {
     "name": "stdout",
     "output_type": "stream",
     "text": [
      "SAVING PLOTS COMPLETE...\n",
      "[INFO] EPOCH: 80/100\n",
      "Train loss: 0.118956, Test loss: 0.2690\n"
     ]
    },
    {
     "name": "stderr",
     "output_type": "stream",
     "text": [
      "\r",
      " 80%|████████████████████████████████████████████████████████████████▊                | 80/100 [57:55<13:33, 40.67s/it]"
     ]
    },
    {
     "name": "stdout",
     "output_type": "stream",
     "text": [
      "SAVING PLOTS COMPLETE...\n",
      "[INFO] EPOCH: 81/100\n",
      "Train loss: 0.119019, Test loss: 0.2772\n"
     ]
    },
    {
     "name": "stderr",
     "output_type": "stream",
     "text": [
      "\r",
      " 81%|█████████████████████████████████████████████████████████████████▌               | 81/100 [58:36<12:52, 40.66s/it]"
     ]
    },
    {
     "name": "stdout",
     "output_type": "stream",
     "text": [
      "SAVING PLOTS COMPLETE...\n",
      "[INFO] EPOCH: 82/100\n",
      "Train loss: 0.117808, Test loss: 0.2653\n"
     ]
    },
    {
     "name": "stderr",
     "output_type": "stream",
     "text": [
      "\r",
      " 82%|██████████████████████████████████████████████████████████████████▍              | 82/100 [59:17<12:13, 40.73s/it]"
     ]
    },
    {
     "name": "stdout",
     "output_type": "stream",
     "text": [
      "SAVING PLOTS COMPLETE...\n",
      "[INFO] EPOCH: 83/100\n",
      "Train loss: 0.117401, Test loss: 0.2940\n"
     ]
    },
    {
     "name": "stderr",
     "output_type": "stream",
     "text": [
      "\r",
      " 83%|███████████████████████████████████████████████████████████████████▏             | 83/100 [59:57<11:30, 40.61s/it]"
     ]
    },
    {
     "name": "stdout",
     "output_type": "stream",
     "text": [
      "SAVING PLOTS COMPLETE...\n",
      "[INFO] EPOCH: 84/100\n",
      "Train loss: 0.114824, Test loss: 0.2869\n"
     ]
    },
    {
     "name": "stderr",
     "output_type": "stream",
     "text": [
      "\r",
      " 84%|██████████████████████████████████████████████████████████████████▎            | 84/100 [1:00:38<10:48, 40.54s/it]"
     ]
    },
    {
     "name": "stdout",
     "output_type": "stream",
     "text": [
      "SAVING PLOTS COMPLETE...\n",
      "[INFO] EPOCH: 85/100\n",
      "Train loss: 0.115294, Test loss: 0.2785\n"
     ]
    },
    {
     "name": "stderr",
     "output_type": "stream",
     "text": [
      "\r",
      " 85%|███████████████████████████████████████████████████████████████████▏           | 85/100 [1:01:18<10:06, 40.44s/it]"
     ]
    },
    {
     "name": "stdout",
     "output_type": "stream",
     "text": [
      "SAVING PLOTS COMPLETE...\n",
      "[INFO] EPOCH: 86/100\n",
      "Train loss: 0.115599, Test loss: 0.3005\n"
     ]
    },
    {
     "name": "stderr",
     "output_type": "stream",
     "text": [
      "\r",
      " 86%|███████████████████████████████████████████████████████████████████▉           | 86/100 [1:01:58<09:25, 40.39s/it]"
     ]
    },
    {
     "name": "stdout",
     "output_type": "stream",
     "text": [
      "SAVING PLOTS COMPLETE...\n",
      "[INFO] EPOCH: 87/100\n",
      "Train loss: 0.123616, Test loss: 0.3001\n"
     ]
    },
    {
     "name": "stderr",
     "output_type": "stream",
     "text": [
      "\r",
      " 87%|████████████████████████████████████████████████████████████████████▋          | 87/100 [1:02:39<08:45, 40.44s/it]"
     ]
    },
    {
     "name": "stdout",
     "output_type": "stream",
     "text": [
      "SAVING PLOTS COMPLETE...\n",
      "[INFO] EPOCH: 88/100\n",
      "Train loss: 0.116711, Test loss: 0.2793\n"
     ]
    },
    {
     "name": "stderr",
     "output_type": "stream",
     "text": [
      "\r",
      " 88%|█████████████████████████████████████████████████████████████████████▌         | 88/100 [1:03:20<08:06, 40.58s/it]"
     ]
    },
    {
     "name": "stdout",
     "output_type": "stream",
     "text": [
      "SAVING PLOTS COMPLETE...\n",
      "[INFO] EPOCH: 89/100\n",
      "Train loss: 0.113569, Test loss: 0.2881\n"
     ]
    },
    {
     "name": "stderr",
     "output_type": "stream",
     "text": [
      "\r",
      " 89%|██████████████████████████████████████████████████████████████████████▎        | 89/100 [1:04:00<07:26, 40.58s/it]"
     ]
    },
    {
     "name": "stdout",
     "output_type": "stream",
     "text": [
      "SAVING PLOTS COMPLETE...\n",
      "[INFO] EPOCH: 90/100\n",
      "Train loss: 0.109680, Test loss: 0.2909\n"
     ]
    },
    {
     "name": "stderr",
     "output_type": "stream",
     "text": [
      "\r",
      " 90%|███████████████████████████████████████████████████████████████████████        | 90/100 [1:04:41<06:45, 40.56s/it]"
     ]
    },
    {
     "name": "stdout",
     "output_type": "stream",
     "text": [
      "SAVING PLOTS COMPLETE...\n",
      "[INFO] EPOCH: 91/100\n",
      "Train loss: 0.108177, Test loss: 0.2809\n"
     ]
    },
    {
     "name": "stderr",
     "output_type": "stream",
     "text": [
      "\r",
      " 91%|███████████████████████████████████████████████████████████████████████▉       | 91/100 [1:05:21<06:04, 40.50s/it]"
     ]
    },
    {
     "name": "stdout",
     "output_type": "stream",
     "text": [
      "SAVING PLOTS COMPLETE...\n",
      "[INFO] EPOCH: 92/100\n",
      "Train loss: 0.105802, Test loss: 0.2973\n"
     ]
    },
    {
     "name": "stderr",
     "output_type": "stream",
     "text": [
      "\r",
      " 92%|████████████████████████████████████████████████████████████████████████▋      | 92/100 [1:06:01<05:23, 40.45s/it]"
     ]
    },
    {
     "name": "stdout",
     "output_type": "stream",
     "text": [
      "SAVING PLOTS COMPLETE...\n",
      "[INFO] EPOCH: 93/100\n",
      "Train loss: 0.105368, Test loss: 0.3012\n"
     ]
    },
    {
     "name": "stderr",
     "output_type": "stream",
     "text": [
      "\r",
      " 93%|█████████████████████████████████████████████████████████████████████████▍     | 93/100 [1:06:42<04:43, 40.46s/it]"
     ]
    },
    {
     "name": "stdout",
     "output_type": "stream",
     "text": [
      "SAVING PLOTS COMPLETE...\n",
      "[INFO] EPOCH: 94/100\n",
      "Train loss: 0.105325, Test loss: 0.2878\n"
     ]
    },
    {
     "name": "stderr",
     "output_type": "stream",
     "text": [
      "\r",
      " 94%|██████████████████████████████████████████████████████████████████████████▎    | 94/100 [1:07:22<04:02, 40.44s/it]"
     ]
    },
    {
     "name": "stdout",
     "output_type": "stream",
     "text": [
      "SAVING PLOTS COMPLETE...\n",
      "[INFO] EPOCH: 95/100\n",
      "Train loss: 0.105060, Test loss: 0.2943\n"
     ]
    },
    {
     "name": "stderr",
     "output_type": "stream",
     "text": [
      "\r",
      " 95%|███████████████████████████████████████████████████████████████████████████    | 95/100 [1:08:03<03:22, 40.41s/it]"
     ]
    },
    {
     "name": "stdout",
     "output_type": "stream",
     "text": [
      "SAVING PLOTS COMPLETE...\n",
      "[INFO] EPOCH: 96/100\n",
      "Train loss: 0.103610, Test loss: 0.2828\n"
     ]
    },
    {
     "name": "stderr",
     "output_type": "stream",
     "text": [
      "\r",
      " 96%|███████████████████████████████████████████████████████████████████████████▊   | 96/100 [1:08:43<02:41, 40.49s/it]"
     ]
    },
    {
     "name": "stdout",
     "output_type": "stream",
     "text": [
      "SAVING PLOTS COMPLETE...\n",
      "[INFO] EPOCH: 97/100\n",
      "Train loss: 0.105250, Test loss: 0.2782\n"
     ]
    },
    {
     "name": "stderr",
     "output_type": "stream",
     "text": [
      "\r",
      " 97%|████████████████████████████████████████████████████████████████████████████▋  | 97/100 [1:09:24<02:01, 40.48s/it]"
     ]
    },
    {
     "name": "stdout",
     "output_type": "stream",
     "text": [
      "SAVING PLOTS COMPLETE...\n",
      "[INFO] EPOCH: 98/100\n",
      "Train loss: 0.101678, Test loss: 0.2913\n"
     ]
    },
    {
     "name": "stderr",
     "output_type": "stream",
     "text": [
      "\r",
      " 98%|█████████████████████████████████████████████████████████████████████████████▍ | 98/100 [1:10:04<01:20, 40.49s/it]"
     ]
    },
    {
     "name": "stdout",
     "output_type": "stream",
     "text": [
      "SAVING PLOTS COMPLETE...\n",
      "[INFO] EPOCH: 99/100\n",
      "Train loss: 0.102669, Test loss: 0.2959\n"
     ]
    },
    {
     "name": "stderr",
     "output_type": "stream",
     "text": [
      "\r",
      " 99%|██████████████████████████████████████████████████████████████████████████████▏| 99/100 [1:10:45<00:40, 40.47s/it]"
     ]
    },
    {
     "name": "stdout",
     "output_type": "stream",
     "text": [
      "SAVING PLOTS COMPLETE...\n",
      "[INFO] EPOCH: 100/100\n",
      "Train loss: 0.106046, Test loss: 0.2963\n"
     ]
    },
    {
     "name": "stderr",
     "output_type": "stream",
     "text": [
      "100%|██████████████████████████████████████████████████████████████████████████████| 100/100 [1:11:25<00:00, 42.85s/it]"
     ]
    },
    {
     "name": "stdout",
     "output_type": "stream",
     "text": [
      "SAVING PLOTS COMPLETE...\n",
      "[INFO] total time taken to train the model: 4285.35s\n"
     ]
    },
    {
     "name": "stderr",
     "output_type": "stream",
     "text": [
      "\n"
     ]
    }
   ],
   "source": [
    "print(\"[INFO] training the network...\")\n",
    "\n",
    "save_best_model = utils.SaveBestModel()\n",
    "train_loss_list = []\n",
    "val_loss_list = []\n",
    "\n",
    "startTime = time.time()\n",
    "for e in tqdm(range(config.NUM_EPOCHS)):\n",
    "    # 每次驗證都需要轉換為eval，訓練時要轉換回來\n",
    "    unet.train()\n",
    "    \n",
    "    totalTrainLoss = 0\n",
    "    totalTestLoss = 0\n",
    "    \n",
    "    # training\n",
    "    for (i, (images, masks)) in enumerate(trainLoader):\n",
    "        (images, masks) = (images.to(config.DEVICE), masks.to(config.DEVICE))\n",
    "        # forward pass\n",
    "        pred = unet(images)\n",
    "        # training loss\n",
    "        loss = lossFunc(pred, masks)\n",
    "        opt.zero_grad()\n",
    "        loss.backward()\n",
    "        opt.step()\n",
    "        # totalloss\n",
    "        totalTrainLoss += loss\n",
    "    # valid\n",
    "    with torch.no_grad():\n",
    "        unet.eval()\n",
    "        \n",
    "        for (images, masks) in testLoader:\n",
    "            (images, masks) = (images.to(config.DEVICE), masks.to(config.DEVICE))\n",
    "            pred = unet(images)\n",
    "            totalTestLoss += lossFunc(pred, masks)\n",
    "            \n",
    "    avgTrainLoss = totalTrainLoss / trainSteps\n",
    "    avgTestLoss = totalTestLoss / testSteps\n",
    "    # update training history\n",
    "    H[\"train_loss\"].append(avgTrainLoss.cpu().detach().numpy())\n",
    "    H[\"test_loss\"].append(avgTestLoss.cpu().detach().numpy())\n",
    "    \n",
    "    print(\"[INFO] EPOCH: {}/{}\".format(e + 1, config.NUM_EPOCHS))\n",
    "    print(\"Train loss: {:.6f}, Test loss: {:.4f}\".format(\n",
    "        avgTrainLoss, avgTestLoss))\n",
    "    \n",
    "    save_best_model(\n",
    "        avgTestLoss, e+1, unet, opt\n",
    "    )\n",
    "    utils.save_model(\n",
    "        e+1, unet, opt\n",
    "    )\n",
    "    utils.save_loss_plot(\n",
    "        config.BASE_OUTPUT, H[\"train_loss\"],  H[\"test_loss\"]\n",
    "    )\n",
    "    \n",
    "endTime = time.time()\n",
    "print(\"[INFO] total time taken to train the model: {:.2f}s\".format(\n",
    "    endTime - startTime))"
   ]
  }
 ],
 "metadata": {
  "kernelspec": {
   "display_name": "Python 3 (ipykernel)",
   "language": "python",
   "name": "python3"
  },
  "language_info": {
   "codemirror_mode": {
    "name": "ipython",
    "version": 3
   },
   "file_extension": ".py",
   "mimetype": "text/x-python",
   "name": "python",
   "nbconvert_exporter": "python",
   "pygments_lexer": "ipython3",
   "version": "3.7.9"
  }
 },
 "nbformat": 4,
 "nbformat_minor": 5
}

{
 "cells": [
  {
   "cell_type": "code",
   "execution_count": 1,
   "id": "2de8cdde",
   "metadata": {},
   "outputs": [
    {
     "name": "stdout",
     "output_type": "stream",
     "text": [
      "importing Jupyter notebook from model.ipynb\n",
      "importing Jupyter notebook from config.ipynb\n",
      "importing Jupyter notebook from dataset.ipynb\n"
     ]
    }
   ],
   "source": [
    "import torch\n",
    "from torch import nn\n",
    "from torchvision import transforms as trns\n",
    "from torchvision.transforms import ToTensor\n",
    "from PIL import Image, ImageDraw\n",
    "import numpy as np\n",
    "from numpy import random\n",
    "import os.path as osp\n",
    "import import_ipynb\n",
    "from model import resnet18\n",
    "from config import checkpoint_folder, label_list\n",
    "from dataset import create_datasets"
   ]
  },
  {
   "cell_type": "code",
   "execution_count": 2,
   "id": "35780475",
   "metadata": {},
   "outputs": [],
   "source": [
    "def expand(img, background=(128, 128, 128)):\n",
    "    topil = trns.ToPILImage()\n",
    "    totensor = trns.ToTensor()\n",
    "    # 輸入的img是按NCHW刑事排列的Type(Tensor),需轉換型態\n",
    "    img = np.array(topil(img)).astype(np.uint8)\n",
    "    # 隨機生成貼上位置\n",
    "    height, width, depth = img.shape\n",
    "    ratio = random.uniform(1, 2)\n",
    "    # 左邊界位置\n",
    "    left = random.uniform(0.3 * width, width * ratio - width)\n",
    "    # 右邊界位置\n",
    "    top = random.uniform(0.3 * width, width * ratio - width)\n",
    "    \n",
    "    while int(left + width) > int(width * ratio) or int(top + height) > int(height * ratio):\n",
    "        ratio = random.uniform(1, 2)\n",
    "        left = random.uniform(0.3 * width, width * ratio - width)\n",
    "        top = random.uniform(0.3 * width, width * ratio - width)\n",
    "    \n",
    "    # Create white background\n",
    "    expand_img = np.zeros(\n",
    "        (int(height * ratio), int(width * ratio),depth), dtype=img.dtype\n",
    "    )\n",
    "    \n",
    "    # 將背景填充成灰色\n",
    "    expand_img[:,:,:] = background\n",
    "    expand_img[\n",
    "        int(top) : int(top + height), int(left) : int(left + width)\n",
    "    ] = img\n",
    "    \n",
    "    return img"
   ]
  },
  {
   "cell_type": "code",
   "execution_count": 9,
   "id": "a1f51dd1",
   "metadata": {},
   "outputs": [],
   "source": [
    "if __name__ == '__main__':\n",
    "    # Load model\n",
    "    net = resnet18()\n",
    "    net.linear = nn.Linear(in_features=512, out_features=4, bias=True)\n",
    "    net.eval()\n",
    "    totensor = ToTensor()\n",
    "    net.load_state_dict(torch.load(osp.join(checkpoint_folder, \"reg.pth\")))\n",
    "    \n",
    "    img_path = \"./img/plane.jpg\"\n",
    "    img = Image.open(img_path)\n",
    "    img = np.array(img)\n",
    "    expand_img = expand(img)\n",
    "    height, width = expand_img.shape[:2]\n",
    "    \n",
    "    # Coordinate dencryption\n",
    "    inp = totensor(Image.fromarray((expand_img)).resize((32, 32))).unsqueeze(0)\n",
    "    out = net(inp)\n",
    "    xmin, ymin, xmax, ymax = out.view(-1)\n",
    "    xmin, ymin, xmax, ymax =(\n",
    "        xmin * width,\n",
    "        ymin * height,\n",
    "        xmax * width,\n",
    "        ymax * height,\n",
    "    )\n",
    "    \n",
    "    # draw predict img\n",
    "    expand_img = Image.fromarray(expand_img)\n",
    "    draw = ImageDraw.Draw(expand_img)\n",
    "    draw.rectangle([(xmin, ymin), (xmax, ymax)], outline=(0, 255, 0), width=10)\n",
    "    expand_img.show()"
   ]
  }
 ],
 "metadata": {
  "kernelspec": {
   "display_name": "Python 3 (ipykernel)",
   "language": "python",
   "name": "python3"
  },
  "language_info": {
   "codemirror_mode": {
    "name": "ipython",
    "version": 3
   },
   "file_extension": ".py",
   "mimetype": "text/x-python",
   "name": "python",
   "nbconvert_exporter": "python",
   "pygments_lexer": "ipython3",
   "version": "3.7.9"
  }
 },
 "nbformat": 4,
 "nbformat_minor": 5
}

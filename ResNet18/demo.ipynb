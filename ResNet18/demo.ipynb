{
 "cells": [
  {
   "cell_type": "code",
   "execution_count": 9,
   "id": "602047b4",
   "metadata": {},
   "outputs": [],
   "source": [
    "import torch\n",
    "import os.path as osp\n",
    "from torchvision import transforms\n",
    "from PIL import Image\n",
    "import matplotlib.pyplot as plt\n",
    "import numpy as np\n",
    "import import_ipynb\n",
    "\n",
    "from model import resnet18\n",
    "from config import checkpoint_folder, label_list\n",
    "from dataset import create_datasets"
   ]
  },
  {
   "cell_type": "code",
   "execution_count": 10,
   "id": "70407bd3",
   "metadata": {},
   "outputs": [],
   "source": [
    "def demo(img_path):\n",
    "    totensor = transforms.ToTensor()\n",
    "    # 輸入前調整size\n",
    "    img = Image.open(img_path).resize((32, 32))\n",
    "    # 增加一個維度，以適應(N,C,H,W)\n",
    "    img_tensor = totensor(img).unsqueeze(0)\n",
    "    net = resnet18()\n",
    "    # load model\n",
    "    net.load_state_dict(torch.load(osp.join(checkpoint_folder, \"cls.pth\")))\n",
    "    # eval mode\n",
    "    net.eval()\n",
    "    output = net(img_tensor)\n",
    "    # predict\n",
    "    label = torch.argmax(output, dim=1)\n",
    "    plt.imshow(np.array(img))\n",
    "    plt.title(str(label_list[label]))\n",
    "    plt.show()"
   ]
  },
  {
   "cell_type": "code",
   "execution_count": 15,
   "id": "49ac185b",
   "metadata": {
    "scrolled": true
   },
   "outputs": [
    {
     "data": {
      "image/png": "[encoded data removed]",
      "text/plain": [
       "<Figure size 432x288 with 1 Axes>"
      ]
     },
     "metadata": {
      "needs_background": "light"
     },
     "output_type": "display_data"
    }
   ],
   "source": [
    "if __name__ == \"__main__\":\n",
    "    demo(\"./img/car.jpg\")"
   ]
  }
 ],
 "metadata": {
  "kernelspec": {
   "display_name": "Python 3 (ipykernel)",
   "language": "python",
   "name": "python3"
  },
  "language_info": {
   "codemirror_mode": {
    "name": "ipython",
    "version": 3
   },
   "file_extension": ".py",
   "mimetype": "text/x-python",
   "name": "python",
   "nbconvert_exporter": "python",
   "pygments_lexer": "ipython3",
   "version": "3.7.9"
  }
 },
 "nbformat": 4,
 "nbformat_minor": 5
}

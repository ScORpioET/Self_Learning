{
 "cells": [
  {
   "cell_type": "code",
   "execution_count": 31,
   "id": "a234b045",
   "metadata": {},
   "outputs": [],
   "source": [
    "import torch\n",
    "import os.path as osp\n",
    "import os"
   ]
  },
  {
   "cell_type": "code",
   "execution_count": 34,
   "id": "6e08c25b",
   "metadata": {},
   "outputs": [],
   "source": [
    "device = (\n",
    "    torch.device(\"cuda\") if torch.cuda.is_available() else torch.device(\"cpu\")\n",
    ")"
   ]
  },
  {
   "cell_type": "code",
   "execution_count": 35,
   "id": "8422f156",
   "metadata": {},
   "outputs": [],
   "source": [
    "data_folder = \"./data/cifar10\"\n",
    "checkpoint_folder = \"./data/chapter_one\""
   ]
  },
  {
   "cell_type": "code",
   "execution_count": 36,
   "id": "1b53e1c3",
   "metadata": {},
   "outputs": [],
   "source": [
    "batch_size = 64\n",
    "epochs = [(30, 0.001), (20, 0.001), (10, 0.0001)]"
   ]
  },
  {
   "cell_type": "code",
   "execution_count": 37,
   "id": "3bc1ff1a",
   "metadata": {},
   "outputs": [],
   "source": [
    "label_list = [\"airplane\", \"automobile\", \"bird\", \"cat\", \"deer\", \"dog\", \"frog\", \"horse\", \"ship\", \"truck\", ]"
   ]
  }
 ],
 "metadata": {
  "kernelspec": {
   "display_name": "Python 3 (ipykernel)",
   "language": "python",
   "name": "python3"
  },
  "language_info": {
   "codemirror_mode": {
    "name": "ipython",
    "version": 3
   },
   "file_extension": ".py",
   "mimetype": "text/x-python",
   "name": "python",
   "nbconvert_exporter": "python",
   "pygments_lexer": "ipython3",
   "version": "3.7.9"
  }
 },
 "nbformat": 4,
 "nbformat_minor": 5
}

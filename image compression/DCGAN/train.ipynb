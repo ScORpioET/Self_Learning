{
 "cells": [
  {
   "cell_type": "code",
   "execution_count": 1,
   "id": "d79a7928",
   "metadata": {},
   "outputs": [
    {
     "name": "stdout",
     "output_type": "stream",
     "text": [
      "importing Jupyter notebook from model.ipynb\n",
      "importing Jupyter notebook from config.ipynb\n",
      "importing Jupyter notebook from dataset.ipynb\n"
     ]
    }
   ],
   "source": [
    "import import_ipynb\n",
    "from model import generator, discriminator\n",
    "from config import(\n",
    "    EPOCHS_LR,\n",
    "    BATCH_SIZE,\n",
    "    NOISE_LENGTH,\n",
    "    DEVICE,\n",
    "    BASE_OUTPUT,\n",
    ")\n",
    "from dataset import train_loader, val_loader\n",
    "from tqdm import tqdm\n",
    "import torch\n",
    "from torch.utils.data import DataLoader\n",
    "from torch import optim, nn\n",
    "import matplotlib.pyplot as plt"
   ]
  },
  {
   "cell_type": "code",
   "execution_count": 2,
   "id": "7c56e060",
   "metadata": {},
   "outputs": [],
   "source": [
    "def save_loss_plot(out_dir, train_loss, val_loss , x):\n",
    "    figure_1, train_ax = plt.subplots()\n",
    "    figure_2, valid_ax = plt.subplots()\n",
    "    train_ax.plot(train_loss, color='tab:blue')\n",
    "    train_ax.set_xlabel('iterations')\n",
    "    train_ax.set_ylabel('train loss')\n",
    "    valid_ax.plot(val_loss, color='tab:red')\n",
    "    valid_ax.set_xlabel('iterations')\n",
    "    valid_ax.set_ylabel('validation loss')\n",
    "    figure_1.savefig(f\"{out_dir}/{x}train_loss.png\")\n",
    "    figure_2.savefig(f\"{out_dir}/{x}valid_loss.png\")\n",
    "    print('SAVING PLOTS COMPLETE...')\n",
    "    \n",
    "    plt.close('all')"
   ]
  },
  {
   "cell_type": "code",
   "execution_count": 3,
   "id": "c2451487",
   "metadata": {},
   "outputs": [],
   "source": [
    "H = {\"G_train_loss\": [], \"G_valid_loss\": [], \"D_train_loss\": [], \"D_valid_loss\": []}"
   ]
  },
  {
   "cell_type": "code",
   "execution_count": 4,
   "id": "ae4c2247",
   "metadata": {},
   "outputs": [],
   "source": [
    "G = generator(128).to(DEVICE)\n",
    "D = discriminator(128).to(DEVICE)"
   ]
  },
  {
   "cell_type": "code",
   "execution_count": 5,
   "id": "53e5c960",
   "metadata": {},
   "outputs": [],
   "source": [
    "G.weight_init(mean=0.0, std=0.02)\n",
    "D.weight_init(mean=0.0, std=0.02)\n",
    "\n",
    "BCE_loss = nn.BCELoss()"
   ]
  },
  {
   "cell_type": "code",
   "execution_count": 6,
   "id": "8fc59ad6",
   "metadata": {},
   "outputs": [
    {
     "name": "stderr",
     "output_type": "stream",
     "text": [
      "100%|██████████████████████████████████████████████████████████████████████████████████| 83/83 [00:59<00:00,  1.40it/s]\n"
     ]
    },
    {
     "name": "stdout",
     "output_type": "stream",
     "text": [
      "D train loss : 0.9031909108161926 , G train loss : 1.6490641883137869e-06\n"
     ]
    },
    {
     "name": "stderr",
     "output_type": "stream",
     "text": [
      "100%|██████████████████████████████████████████████████████████████████████████████████| 11/11 [00:07<00:00,  1.46it/s]\n"
     ]
    },
    {
     "name": "stdout",
     "output_type": "stream",
     "text": [
      "D val loss : 0.2241174727678299 , G val loss : 0.0010753822280094028\n",
      "SAVING PLOTS COMPLETE...\n",
      "SAVING PLOTS COMPLETE...\n"
     ]
    },
    {
     "name": "stderr",
     "output_type": "stream",
     "text": [
      "100%|██████████████████████████████████████████████████████████████████████████████████| 83/83 [00:57<00:00,  1.44it/s]\n"
     ]
    },
    {
     "name": "stdout",
     "output_type": "stream",
     "text": [
      "D train loss : 0.9078018665313721 , G train loss : 6.8523297613865e-07\n"
     ]
    },
    {
     "name": "stderr",
     "output_type": "stream",
     "text": [
      "100%|██████████████████████████████████████████████████████████████████████████████████| 11/11 [00:07<00:00,  1.42it/s]\n"
     ]
    },
    {
     "name": "stdout",
     "output_type": "stream",
     "text": [
      "D val loss : 0.23200474679470062 , G val loss : 0.0006951634422875941\n",
      "SAVING PLOTS COMPLETE...\n",
      "SAVING PLOTS COMPLETE...\n"
     ]
    },
    {
     "name": "stderr",
     "output_type": "stream",
     "text": [
      "100%|██████████████████████████████████████████████████████████████████████████████████| 83/83 [00:55<00:00,  1.49it/s]\n"
     ]
    },
    {
     "name": "stdout",
     "output_type": "stream",
     "text": [
      "D train loss : 0.9075782895088196 , G train loss : 3.417333971356129e-07\n"
     ]
    },
    {
     "name": "stderr",
     "output_type": "stream",
     "text": [
      "100%|██████████████████████████████████████████████████████████████████████████████████| 11/11 [00:07<00:00,  1.43it/s]\n"
     ]
    },
    {
     "name": "stdout",
     "output_type": "stream",
     "text": [
      "D val loss : 0.23661141097545624 , G val loss : 0.000500276917591691\n",
      "SAVING PLOTS COMPLETE...\n",
      "SAVING PLOTS COMPLETE...\n"
     ]
    },
    {
     "name": "stderr",
     "output_type": "stream",
     "text": [
      "100%|██████████████████████████████████████████████████████████████████████████████████| 83/83 [00:57<00:00,  1.44it/s]\n"
     ]
    },
    {
     "name": "stdout",
     "output_type": "stream",
     "text": [
      "D train loss : 0.9011558294296265 , G train loss : 2.5652079216342827e-07\n"
     ]
    },
    {
     "name": "stderr",
     "output_type": "stream",
     "text": [
      "100%|██████████████████████████████████████████████████████████████████████████████████| 11/11 [00:07<00:00,  1.45it/s]\n"
     ]
    },
    {
     "name": "stdout",
     "output_type": "stream",
     "text": [
      "D val loss : 0.2397717386484146 , G val loss : 0.00042172567918896675\n",
      "SAVING PLOTS COMPLETE...\n",
      "SAVING PLOTS COMPLETE...\n"
     ]
    },
    {
     "name": "stderr",
     "output_type": "stream",
     "text": [
      "100%|██████████████████████████████████████████████████████████████████████████████████| 83/83 [00:59<00:00,  1.39it/s]\n"
     ]
    },
    {
     "name": "stdout",
     "output_type": "stream",
     "text": [
      "D train loss : 0.8939242362976074 , G train loss : 2.0309732917667134e-07\n"
     ]
    },
    {
     "name": "stderr",
     "output_type": "stream",
     "text": [
      "100%|██████████████████████████████████████████████████████████████████████████████████| 11/11 [00:07<00:00,  1.56it/s]\n"
     ]
    },
    {
     "name": "stdout",
     "output_type": "stream",
     "text": [
      "D val loss : 0.25495606660842896 , G val loss : 0.0003795149677898735\n",
      "SAVING PLOTS COMPLETE...\n",
      "SAVING PLOTS COMPLETE...\n"
     ]
    },
    {
     "name": "stderr",
     "output_type": "stream",
     "text": [
      "100%|██████████████████████████████████████████████████████████████████████████████████| 83/83 [00:54<00:00,  1.52it/s]\n"
     ]
    },
    {
     "name": "stdout",
     "output_type": "stream",
     "text": [
      "D train loss : 0.9220414161682129 , G train loss : 1.4481723553672055e-07\n"
     ]
    },
    {
     "name": "stderr",
     "output_type": "stream",
     "text": [
      "100%|██████████████████████████████████████████████████████████████████████████████████| 11/11 [00:07<00:00,  1.51it/s]\n"
     ]
    },
    {
     "name": "stdout",
     "output_type": "stream",
     "text": [
      "D val loss : 0.25120899081230164 , G val loss : 0.00029605499003082514\n",
      "SAVING PLOTS COMPLETE...\n",
      "SAVING PLOTS COMPLETE...\n"
     ]
    },
    {
     "name": "stderr",
     "output_type": "stream",
     "text": [
      "100%|██████████████████████████████████████████████████████████████████████████████████| 83/83 [00:58<00:00,  1.43it/s]\n"
     ]
    },
    {
     "name": "stdout",
     "output_type": "stream",
     "text": [
      "D train loss : 0.8955426216125488 , G train loss : 1.0993748134069392e-07\n"
     ]
    },
    {
     "name": "stderr",
     "output_type": "stream",
     "text": [
      "100%|██████████████████████████████████████████████████████████████████████████████████| 11/11 [00:07<00:00,  1.46it/s]\n"
     ]
    },
    {
     "name": "stdout",
     "output_type": "stream",
     "text": [
      "D val loss : 0.2668830454349518 , G val loss : 0.00025859795277938247\n",
      "SAVING PLOTS COMPLETE...\n",
      "SAVING PLOTS COMPLETE...\n"
     ]
    },
    {
     "name": "stderr",
     "output_type": "stream",
     "text": [
      "100%|██████████████████████████████████████████████████████████████████████████████████| 83/83 [00:58<00:00,  1.42it/s]\n"
     ]
    },
    {
     "name": "stdout",
     "output_type": "stream",
     "text": [
      "D train loss : 0.9180005192756653 , G train loss : 8.786167171592751e-08\n"
     ]
    },
    {
     "name": "stderr",
     "output_type": "stream",
     "text": [
      "100%|██████████████████████████████████████████████████████████████████████████████████| 11/11 [00:07<00:00,  1.43it/s]\n"
     ]
    },
    {
     "name": "stdout",
     "output_type": "stream",
     "text": [
      "D val loss : 0.2565516531467438 , G val loss : 0.0002444310230202973\n",
      "SAVING PLOTS COMPLETE...\n",
      "SAVING PLOTS COMPLETE...\n"
     ]
    },
    {
     "name": "stderr",
     "output_type": "stream",
     "text": [
      "100%|██████████████████████████████████████████████████████████████████████████████████| 83/83 [00:57<00:00,  1.43it/s]\n"
     ]
    },
    {
     "name": "stdout",
     "output_type": "stream",
     "text": [
      "D train loss : 0.912284255027771 , G train loss : 6.357829818171012e-08\n"
     ]
    },
    {
     "name": "stderr",
     "output_type": "stream",
     "text": [
      "100%|██████████████████████████████████████████████████████████████████████████████████| 11/11 [00:07<00:00,  1.39it/s]\n"
     ]
    },
    {
     "name": "stdout",
     "output_type": "stream",
     "text": [
      "D val loss : 0.264931857585907 , G val loss : 0.00024257674522232264\n",
      "SAVING PLOTS COMPLETE...\n",
      "SAVING PLOTS COMPLETE...\n"
     ]
    },
    {
     "name": "stderr",
     "output_type": "stream",
     "text": [
      "100%|██████████████████████████████████████████████████████████████████████████████████| 83/83 [00:58<00:00,  1.42it/s]\n"
     ]
    },
    {
     "name": "stdout",
     "output_type": "stream",
     "text": [
      "D train loss : 0.9234858155250549 , G train loss : 5.209888342960767e-08\n"
     ]
    },
    {
     "name": "stderr",
     "output_type": "stream",
     "text": [
      "100%|██████████████████████████████████████████████████████████████████████████████████| 11/11 [00:07<00:00,  1.45it/s]\n"
     ]
    },
    {
     "name": "stdout",
     "output_type": "stream",
     "text": [
      "D val loss : 0.25488993525505066 , G val loss : 0.00021858810214325786\n",
      "SAVING PLOTS COMPLETE...\n",
      "SAVING PLOTS COMPLETE...\n"
     ]
    },
    {
     "name": "stderr",
     "output_type": "stream",
     "text": [
      "100%|██████████████████████████████████████████████████████████████████████████████████| 83/83 [00:57<00:00,  1.44it/s]\n"
     ]
    },
    {
     "name": "stdout",
     "output_type": "stream",
     "text": [
      "D train loss : 0.9152728915214539 , G train loss : 3.090611855327552e-08\n"
     ]
    },
    {
     "name": "stderr",
     "output_type": "stream",
     "text": [
      "100%|██████████████████████████████████████████████████████████████████████████████████| 11/11 [00:07<00:00,  1.48it/s]\n"
     ]
    },
    {
     "name": "stdout",
     "output_type": "stream",
     "text": [
      "D val loss : 0.2679259181022644 , G val loss : 0.00020293497072998434\n",
      "SAVING PLOTS COMPLETE...\n",
      "SAVING PLOTS COMPLETE...\n"
     ]
    },
    {
     "name": "stderr",
     "output_type": "stream",
     "text": [
      "100%|██████████████████████████████████████████████████████████████████████████████████| 83/83 [00:57<00:00,  1.45it/s]\n"
     ]
    },
    {
     "name": "stdout",
     "output_type": "stream",
     "text": [
      "D train loss : 0.9014120697975159 , G train loss : 3.6204308884180136e-08\n"
     ]
    },
    {
     "name": "stderr",
     "output_type": "stream",
     "text": [
      "100%|██████████████████████████████████████████████████████████████████████████████████| 11/11 [00:07<00:00,  1.45it/s]\n"
     ]
    },
    {
     "name": "stdout",
     "output_type": "stream",
     "text": [
      "D val loss : 0.25897282361984253 , G val loss : 0.00020303373457863927\n",
      "SAVING PLOTS COMPLETE...\n",
      "SAVING PLOTS COMPLETE...\n"
     ]
    },
    {
     "name": "stderr",
     "output_type": "stream",
     "text": [
      "100%|██████████████████████████████████████████████████████████████████████████████████| 83/83 [00:57<00:00,  1.45it/s]\n"
     ]
    },
    {
     "name": "stdout",
     "output_type": "stream",
     "text": [
      "D train loss : 0.9195665121078491 , G train loss : 2.4283377086931068e-08\n"
     ]
    },
    {
     "name": "stderr",
     "output_type": "stream",
     "text": [
      "100%|██████████████████████████████████████████████████████████████████████████████████| 11/11 [00:07<00:00,  1.46it/s]\n"
     ]
    },
    {
     "name": "stdout",
     "output_type": "stream",
     "text": [
      "D val loss : 0.24839796125888824 , G val loss : 0.00019042784697376192\n",
      "SAVING PLOTS COMPLETE...\n",
      "SAVING PLOTS COMPLETE...\n"
     ]
    },
    {
     "name": "stderr",
     "output_type": "stream",
     "text": [
      "100%|██████████████████████████████████████████████████████████████████████████████████| 83/83 [00:57<00:00,  1.45it/s]\n"
     ]
    },
    {
     "name": "stdout",
     "output_type": "stream",
     "text": [
      "D train loss : 0.916835606098175 , G train loss : 2.5607924669657223e-08\n"
     ]
    },
    {
     "name": "stderr",
     "output_type": "stream",
     "text": [
      "100%|██████████████████████████████████████████████████████████████████████████████████| 11/11 [00:07<00:00,  1.47it/s]\n"
     ]
    },
    {
     "name": "stdout",
     "output_type": "stream",
     "text": [
      "D val loss : 0.25375550985336304 , G val loss : 0.00019581087690312415\n",
      "SAVING PLOTS COMPLETE...\n",
      "SAVING PLOTS COMPLETE...\n"
     ]
    },
    {
     "name": "stderr",
     "output_type": "stream",
     "text": [
      "100%|██████████████████████████████████████████████████████████████████████████████████| 83/83 [00:56<00:00,  1.47it/s]\n"
     ]
    },
    {
     "name": "stdout",
     "output_type": "stream",
     "text": [
      "D train loss : 0.8983123898506165 , G train loss : 2.2958829504204914e-08\n"
     ]
    },
    {
     "name": "stderr",
     "output_type": "stream",
     "text": [
      "100%|██████████████████████████████████████████████████████████████████████████████████| 11/11 [00:07<00:00,  1.57it/s]\n"
     ]
    },
    {
     "name": "stdout",
     "output_type": "stream",
     "text": [
      "D val loss : 0.2833349406719208 , G val loss : 0.0001758159778546542\n",
      "SAVING PLOTS COMPLETE...\n",
      "SAVING PLOTS COMPLETE...\n"
     ]
    },
    {
     "name": "stderr",
     "output_type": "stream",
     "text": [
      "100%|██████████████████████████████████████████████████████████████████████████████████| 83/83 [00:55<00:00,  1.48it/s]\n"
     ]
    },
    {
     "name": "stdout",
     "output_type": "stream",
     "text": [
      "D train loss : 0.8894941210746765 , G train loss : 1.9868217293605994e-08\n"
     ]
    },
    {
     "name": "stderr",
     "output_type": "stream",
     "text": [
      "100%|██████████████████████████████████████████████████████████████████████████████████| 11/11 [00:07<00:00,  1.56it/s]\n"
     ]
    },
    {
     "name": "stdout",
     "output_type": "stream",
     "text": [
      "D val loss : 0.25238558650016785 , G val loss : 0.00018694528262130916\n",
      "SAVING PLOTS COMPLETE...\n",
      "SAVING PLOTS COMPLETE...\n"
     ]
    },
    {
     "name": "stderr",
     "output_type": "stream",
     "text": [
      "100%|██████████████████████████████████████████████████████████████████████████████████| 83/83 [00:54<00:00,  1.52it/s]\n"
     ]
    },
    {
     "name": "stdout",
     "output_type": "stream",
     "text": [
      "D train loss : 0.9071188569068909 , G train loss : 1.236244617786042e-08\n"
     ]
    },
    {
     "name": "stderr",
     "output_type": "stream",
     "text": [
      "100%|██████████████████████████████████████████████████████████████████████████████████| 11/11 [00:06<00:00,  1.60it/s]\n"
     ]
    },
    {
     "name": "stdout",
     "output_type": "stream",
     "text": [
      "D val loss : 0.2526579201221466 , G val loss : 0.00017219228902831674\n",
      "SAVING PLOTS COMPLETE...\n",
      "SAVING PLOTS COMPLETE...\n"
     ]
    },
    {
     "name": "stderr",
     "output_type": "stream",
     "text": [
      "100%|██████████████████████████████████████████████████████████████████████████████████| 83/83 [00:55<00:00,  1.50it/s]\n"
     ]
    },
    {
     "name": "stdout",
     "output_type": "stream",
     "text": [
      "D train loss : 0.9247397184371948 , G train loss : 1.8102154442090068e-08\n"
     ]
    },
    {
     "name": "stderr",
     "output_type": "stream",
     "text": [
      "100%|██████████████████████████████████████████████████████████████████████████████████| 11/11 [00:07<00:00,  1.55it/s]\n"
     ]
    },
    {
     "name": "stdout",
     "output_type": "stream",
     "text": [
      "D val loss : 0.26269909739494324 , G val loss : 0.00017882202519103885\n",
      "SAVING PLOTS COMPLETE...\n",
      "SAVING PLOTS COMPLETE...\n"
     ]
    },
    {
     "name": "stderr",
     "output_type": "stream",
     "text": [
      "100%|██████████████████████████████████████████████████████████████████████████████████| 83/83 [00:56<00:00,  1.48it/s]\n"
     ]
    },
    {
     "name": "stdout",
     "output_type": "stream",
     "text": [
      "D train loss : 0.9084799289703369 , G train loss : 8.830319586650148e-09\n"
     ]
    },
    {
     "name": "stderr",
     "output_type": "stream",
     "text": [
      "100%|██████████████████████████████████████████████████████████████████████████████████| 11/11 [00:07<00:00,  1.54it/s]\n"
     ]
    },
    {
     "name": "stdout",
     "output_type": "stream",
     "text": [
      "D val loss : 0.263664186000824 , G val loss : 0.00016605736163910478\n",
      "SAVING PLOTS COMPLETE...\n",
      "SAVING PLOTS COMPLETE...\n"
     ]
    },
    {
     "name": "stderr",
     "output_type": "stream",
     "text": [
      "100%|██████████████████████████████████████████████████████████████████████████████████| 83/83 [00:55<00:00,  1.50it/s]\n"
     ]
    },
    {
     "name": "stdout",
     "output_type": "stream",
     "text": [
      "D train loss : 0.9029464721679688 , G train loss : 1.0154867169376303e-08\n"
     ]
    },
    {
     "name": "stderr",
     "output_type": "stream",
     "text": [
      "100%|██████████████████████████████████████████████████████████████████████████████████| 11/11 [00:06<00:00,  1.58it/s]\n"
     ]
    },
    {
     "name": "stdout",
     "output_type": "stream",
     "text": [
      "D val loss : 0.2398097813129425 , G val loss : 0.00016197947843465954\n",
      "SAVING PLOTS COMPLETE...\n",
      "SAVING PLOTS COMPLETE...\n"
     ]
    },
    {
     "name": "stderr",
     "output_type": "stream",
     "text": [
      "100%|██████████████████████████████████████████████████████████████████████████████████| 83/83 [00:55<00:00,  1.50it/s]\n"
     ]
    },
    {
     "name": "stdout",
     "output_type": "stream",
     "text": [
      "D train loss : 0.9062654376029968 , G train loss : 6.622739245898401e-09\n"
     ]
    },
    {
     "name": "stderr",
     "output_type": "stream",
     "text": [
      "100%|██████████████████████████████████████████████████████████████████████████████████| 11/11 [00:07<00:00,  1.50it/s]\n"
     ]
    },
    {
     "name": "stdout",
     "output_type": "stream",
     "text": [
      "D val loss : 0.26508960127830505 , G val loss : 0.000157796690473333\n",
      "SAVING PLOTS COMPLETE...\n",
      "SAVING PLOTS COMPLETE...\n"
     ]
    },
    {
     "name": "stderr",
     "output_type": "stream",
     "text": [
      "100%|██████████████████████████████████████████████████████████████████████████████████| 83/83 [00:58<00:00,  1.42it/s]\n"
     ]
    },
    {
     "name": "stdout",
     "output_type": "stream",
     "text": [
      "D train loss : 0.8928059935569763 , G train loss : 6.622739245898401e-09\n"
     ]
    },
    {
     "name": "stderr",
     "output_type": "stream",
     "text": [
      "100%|██████████████████████████████████████████████████████████████████████████████████| 11/11 [00:07<00:00,  1.46it/s]\n"
     ]
    },
    {
     "name": "stdout",
     "output_type": "stream",
     "text": [
      "D val loss : 0.2349381446838379 , G val loss : 0.00016149882867466658\n",
      "SAVING PLOTS COMPLETE...\n",
      "SAVING PLOTS COMPLETE...\n"
     ]
    },
    {
     "name": "stderr",
     "output_type": "stream",
     "text": [
      "100%|██████████████████████████████████████████████████████████████████████████████████| 83/83 [00:56<00:00,  1.46it/s]\n"
     ]
    },
    {
     "name": "stdout",
     "output_type": "stream",
     "text": [
      "D train loss : 0.9193294048309326 , G train loss : 6.622739245898401e-09\n"
     ]
    },
    {
     "name": "stderr",
     "output_type": "stream",
     "text": [
      "100%|██████████████████████████████████████████████████████████████████████████████████| 11/11 [00:07<00:00,  1.49it/s]\n"
     ]
    },
    {
     "name": "stdout",
     "output_type": "stream",
     "text": [
      "D val loss : 0.26011550426483154 , G val loss : 0.00016334507381543517\n",
      "SAVING PLOTS COMPLETE...\n",
      "SAVING PLOTS COMPLETE...\n"
     ]
    },
    {
     "name": "stderr",
     "output_type": "stream",
     "text": [
      "100%|██████████████████████████████████████████████████████████████████████████████████| 83/83 [00:59<00:00,  1.40it/s]\n"
     ]
    },
    {
     "name": "stdout",
     "output_type": "stream",
     "text": [
      "D train loss : 0.9194684624671936 , G train loss : 4.856675062114846e-09\n"
     ]
    },
    {
     "name": "stderr",
     "output_type": "stream",
     "text": [
      "100%|██████████████████████████████████████████████████████████████████████████████████| 11/11 [00:07<00:00,  1.46it/s]\n"
     ]
    },
    {
     "name": "stdout",
     "output_type": "stream",
     "text": [
      "D val loss : 0.2442132532596588 , G val loss : 0.0001663852162891999\n",
      "SAVING PLOTS COMPLETE...\n",
      "SAVING PLOTS COMPLETE...\n"
     ]
    },
    {
     "name": "stderr",
     "output_type": "stream",
     "text": [
      "100%|██████████████████████████████████████████████████████████████████████████████████| 83/83 [01:02<00:00,  1.33it/s]\n"
     ]
    },
    {
     "name": "stdout",
     "output_type": "stream",
     "text": [
      "D train loss : 0.9203327298164368 , G train loss : 4.856675506204056e-09\n"
     ]
    },
    {
     "name": "stderr",
     "output_type": "stream",
     "text": [
      "100%|██████████████████████████████████████████████████████████████████████████████████| 11/11 [00:08<00:00,  1.28it/s]\n"
     ]
    },
    {
     "name": "stdout",
     "output_type": "stream",
     "text": [
      "D val loss : 0.24247965216636658 , G val loss : 0.0001562080578878522\n",
      "SAVING PLOTS COMPLETE...\n",
      "SAVING PLOTS COMPLETE...\n"
     ]
    },
    {
     "name": "stderr",
     "output_type": "stream",
     "text": [
      "100%|██████████████████████████████████████████████████████████████████████████████████| 83/83 [01:04<00:00,  1.29it/s]\n"
     ]
    },
    {
     "name": "stdout",
     "output_type": "stream",
     "text": [
      "D train loss : 0.9191228151321411 , G train loss : 1.7660637396943457e-09\n"
     ]
    },
    {
     "name": "stderr",
     "output_type": "stream",
     "text": [
      "100%|██████████████████████████████████████████████████████████████████████████████████| 11/11 [00:07<00:00,  1.48it/s]\n"
     ]
    },
    {
     "name": "stdout",
     "output_type": "stream",
     "text": [
      "D val loss : 0.2540404796600342 , G val loss : 0.00015985137724783272\n",
      "SAVING PLOTS COMPLETE...\n",
      "SAVING PLOTS COMPLETE...\n"
     ]
    },
    {
     "name": "stderr",
     "output_type": "stream",
     "text": [
      "100%|██████████████████████████████████████████████████████████████████████████████████| 83/83 [00:54<00:00,  1.52it/s]\n"
     ]
    },
    {
     "name": "stdout",
     "output_type": "stream",
     "text": [
      "D train loss : 0.9076371788978577 , G train loss : 3.973643636356883e-09\n"
     ]
    },
    {
     "name": "stderr",
     "output_type": "stream",
     "text": [
      "100%|██████████████████████████████████████████████████████████████████████████████████| 11/11 [00:06<00:00,  1.60it/s]\n"
     ]
    },
    {
     "name": "stdout",
     "output_type": "stream",
     "text": [
      "D val loss : 0.27127665281295776 , G val loss : 0.00015653275477234274\n",
      "SAVING PLOTS COMPLETE...\n",
      "SAVING PLOTS COMPLETE...\n"
     ]
    },
    {
     "name": "stderr",
     "output_type": "stream",
     "text": [
      "100%|██████████████████████████████████████████████████████████████████████████████████| 83/83 [00:54<00:00,  1.53it/s]\n"
     ]
    },
    {
     "name": "stdout",
     "output_type": "stream",
     "text": [
      "D train loss : 0.9079346060752869 , G train loss : 4.415159793325074e-09\n"
     ]
    },
    {
     "name": "stderr",
     "output_type": "stream",
     "text": [
      "100%|██████████████████████████████████████████████████████████████████████████████████| 11/11 [00:06<00:00,  1.60it/s]\n"
     ]
    },
    {
     "name": "stdout",
     "output_type": "stream",
     "text": [
      "D val loss : 0.26625147461891174 , G val loss : 0.00015315954806283116\n",
      "SAVING PLOTS COMPLETE...\n",
      "SAVING PLOTS COMPLETE...\n"
     ]
    },
    {
     "name": "stderr",
     "output_type": "stream",
     "text": [
      "100%|██████████████████████████████████████████████████████████████████████████████████| 83/83 [00:54<00:00,  1.53it/s]\n"
     ]
    },
    {
     "name": "stdout",
     "output_type": "stream",
     "text": [
      "D train loss : 0.9013924598693848 , G train loss : 3.090611544465105e-09\n"
     ]
    },
    {
     "name": "stderr",
     "output_type": "stream",
     "text": [
      "100%|██████████████████████████████████████████████████████████████████████████████████| 11/11 [00:06<00:00,  1.60it/s]\n"
     ]
    },
    {
     "name": "stdout",
     "output_type": "stream",
     "text": [
      "D val loss : 0.2650996148586273 , G val loss : 0.0001525020197732374\n",
      "SAVING PLOTS COMPLETE...\n",
      "SAVING PLOTS COMPLETE...\n"
     ]
    },
    {
     "name": "stderr",
     "output_type": "stream",
     "text": [
      "100%|██████████████████████████████████████████████████████████████████████████████████| 83/83 [00:54<00:00,  1.53it/s]\n"
     ]
    },
    {
     "name": "stdout",
     "output_type": "stream",
     "text": [
      "D train loss : 0.9071751832962036 , G train loss : 3.5321274793886914e-09\n"
     ]
    },
    {
     "name": "stderr",
     "output_type": "stream",
     "text": [
      "100%|██████████████████████████████████████████████████████████████████████████████████| 11/11 [00:07<00:00,  1.55it/s]\n"
     ]
    },
    {
     "name": "stdout",
     "output_type": "stream",
     "text": [
      "D val loss : 0.25703516602516174 , G val loss : 0.00014900935639161617\n",
      "SAVING PLOTS COMPLETE...\n",
      "SAVING PLOTS COMPLETE...\n"
     ]
    },
    {
     "name": "stderr",
     "output_type": "stream",
     "text": [
      "100%|██████████████████████████████████████████████████████████████████████████████████| 83/83 [00:54<00:00,  1.52it/s]\n"
     ]
    },
    {
     "name": "stdout",
     "output_type": "stream",
     "text": [
      "D train loss : 0.912229597568512 , G train loss : 0.0\n"
     ]
    },
    {
     "name": "stderr",
     "output_type": "stream",
     "text": [
      "100%|██████████████████████████████████████████████████████████████████████████████████| 11/11 [00:06<00:00,  1.59it/s]\n"
     ]
    },
    {
     "name": "stdout",
     "output_type": "stream",
     "text": [
      "D val loss : 0.27104923129081726 , G val loss : 9.84742509899661e-05\n",
      "SAVING PLOTS COMPLETE...\n",
      "SAVING PLOTS COMPLETE...\n"
     ]
    },
    {
     "name": "stderr",
     "output_type": "stream",
     "text": [
      "100%|██████████████████████████████████████████████████████████████████████████████████| 83/83 [00:54<00:00,  1.52it/s]\n"
     ]
    },
    {
     "name": "stdout",
     "output_type": "stream",
     "text": [
      "D train loss : 0.9157435894012451 , G train loss : 0.0\n"
     ]
    },
    {
     "name": "stderr",
     "output_type": "stream",
     "text": [
      "100%|██████████████████████████████████████████████████████████████████████████████████| 11/11 [00:06<00:00,  1.60it/s]\n"
     ]
    },
    {
     "name": "stdout",
     "output_type": "stream",
     "text": [
      "D val loss : 0.2547299265861511 , G val loss : 0.00010579228546703234\n",
      "SAVING PLOTS COMPLETE...\n",
      "SAVING PLOTS COMPLETE...\n"
     ]
    },
    {
     "name": "stderr",
     "output_type": "stream",
     "text": [
      "100%|██████████████████████████████████████████████████████████████████████████████████| 83/83 [00:54<00:00,  1.53it/s]\n"
     ]
    },
    {
     "name": "stdout",
     "output_type": "stream",
     "text": [
      "D train loss : 0.9017776250839233 , G train loss : 0.0\n"
     ]
    },
    {
     "name": "stderr",
     "output_type": "stream",
     "text": [
      "100%|██████████████████████████████████████████████████████████████████████████████████| 11/11 [00:06<00:00,  1.61it/s]\n"
     ]
    },
    {
     "name": "stdout",
     "output_type": "stream",
     "text": [
      "D val loss : 0.24590037763118744 , G val loss : 9.784985013538972e-05\n",
      "SAVING PLOTS COMPLETE...\n",
      "SAVING PLOTS COMPLETE...\n"
     ]
    },
    {
     "name": "stderr",
     "output_type": "stream",
     "text": [
      "100%|██████████████████████████████████████████████████████████████████████████████████| 83/83 [00:54<00:00,  1.53it/s]\n"
     ]
    },
    {
     "name": "stdout",
     "output_type": "stream",
     "text": [
      "D train loss : 0.9059043526649475 , G train loss : 0.0\n"
     ]
    },
    {
     "name": "stderr",
     "output_type": "stream",
     "text": [
      "100%|██████████████████████████████████████████████████████████████████████████████████| 11/11 [00:06<00:00,  1.61it/s]\n"
     ]
    },
    {
     "name": "stdout",
     "output_type": "stream",
     "text": [
      "D val loss : 0.2374163269996643 , G val loss : 9.808407776290551e-05\n",
      "SAVING PLOTS COMPLETE...\n",
      "SAVING PLOTS COMPLETE...\n"
     ]
    },
    {
     "name": "stderr",
     "output_type": "stream",
     "text": [
      "100%|██████████████████████████████████████████████████████████████████████████████████| 83/83 [00:54<00:00,  1.54it/s]\n"
     ]
    },
    {
     "name": "stdout",
     "output_type": "stream",
     "text": [
      "D train loss : 0.9055579900741577 , G train loss : 0.0\n"
     ]
    },
    {
     "name": "stderr",
     "output_type": "stream",
     "text": [
      "100%|██████████████████████████████████████████████████████████████████████████████████| 11/11 [00:06<00:00,  1.62it/s]\n"
     ]
    },
    {
     "name": "stdout",
     "output_type": "stream",
     "text": [
      "D val loss : 0.27193084359169006 , G val loss : 9.205665264744312e-05\n",
      "SAVING PLOTS COMPLETE...\n",
      "SAVING PLOTS COMPLETE...\n"
     ]
    },
    {
     "name": "stderr",
     "output_type": "stream",
     "text": [
      "100%|██████████████████████████████████████████████████████████████████████████████████| 83/83 [00:54<00:00,  1.54it/s]\n"
     ]
    },
    {
     "name": "stdout",
     "output_type": "stream",
     "text": [
      "D train loss : 0.9217907786369324 , G train loss : 0.0\n"
     ]
    },
    {
     "name": "stderr",
     "output_type": "stream",
     "text": [
      "100%|██████████████████████████████████████████████████████████████████████████████████| 11/11 [00:06<00:00,  1.61it/s]\n"
     ]
    },
    {
     "name": "stdout",
     "output_type": "stream",
     "text": [
      "D val loss : 0.25991085171699524 , G val loss : 9.5327319286298e-05\n",
      "SAVING PLOTS COMPLETE...\n",
      "SAVING PLOTS COMPLETE...\n"
     ]
    },
    {
     "name": "stderr",
     "output_type": "stream",
     "text": [
      "100%|██████████████████████████████████████████████████████████████████████████████████| 83/83 [00:51<00:00,  1.61it/s]\n"
     ]
    },
    {
     "name": "stdout",
     "output_type": "stream",
     "text": [
      "D train loss : 0.9130942821502686 , G train loss : 0.0\n"
     ]
    },
    {
     "name": "stderr",
     "output_type": "stream",
     "text": [
      "100%|██████████████████████████████████████████████████████████████████████████████████| 11/11 [00:06<00:00,  1.68it/s]\n"
     ]
    },
    {
     "name": "stdout",
     "output_type": "stream",
     "text": [
      "D val loss : 0.24753259122371674 , G val loss : 9.874971874523908e-05\n",
      "SAVING PLOTS COMPLETE...\n",
      "SAVING PLOTS COMPLETE...\n"
     ]
    },
    {
     "name": "stderr",
     "output_type": "stream",
     "text": [
      "100%|██████████████████████████████████████████████████████████████████████████████████| 83/83 [00:51<00:00,  1.60it/s]\n"
     ]
    },
    {
     "name": "stdout",
     "output_type": "stream",
     "text": [
      "D train loss : 0.9052038788795471 , G train loss : 0.0\n"
     ]
    },
    {
     "name": "stderr",
     "output_type": "stream",
     "text": [
      "100%|██████████████████████████████████████████████████████████████████████████████████| 11/11 [00:06<00:00,  1.69it/s]\n"
     ]
    },
    {
     "name": "stdout",
     "output_type": "stream",
     "text": [
      "D val loss : 0.2711293399333954 , G val loss : 9.477796993451193e-05\n",
      "SAVING PLOTS COMPLETE...\n",
      "SAVING PLOTS COMPLETE...\n"
     ]
    },
    {
     "name": "stderr",
     "output_type": "stream",
     "text": [
      "100%|██████████████████████████████████████████████████████████████████████████████████| 83/83 [00:51<00:00,  1.61it/s]\n"
     ]
    },
    {
     "name": "stdout",
     "output_type": "stream",
     "text": [
      "D train loss : 0.8972443342208862 , G train loss : 0.0\n"
     ]
    },
    {
     "name": "stderr",
     "output_type": "stream",
     "text": [
      "100%|██████████████████████████████████████████████████████████████████████████████████| 11/11 [00:06<00:00,  1.69it/s]\n"
     ]
    },
    {
     "name": "stdout",
     "output_type": "stream",
     "text": [
      "D val loss : 0.2580893635749817 , G val loss : 9.201439388561994e-05\n",
      "SAVING PLOTS COMPLETE...\n",
      "SAVING PLOTS COMPLETE...\n"
     ]
    },
    {
     "name": "stderr",
     "output_type": "stream",
     "text": [
      "100%|██████████████████████████████████████████████████████████████████████████████████| 83/83 [00:51<00:00,  1.61it/s]\n"
     ]
    },
    {
     "name": "stdout",
     "output_type": "stream",
     "text": [
      "D train loss : 0.9025612473487854 , G train loss : 0.0\n"
     ]
    },
    {
     "name": "stderr",
     "output_type": "stream",
     "text": [
      "100%|██████████████████████████████████████████████████████████████████████████████████| 11/11 [00:06<00:00,  1.68it/s]\n"
     ]
    },
    {
     "name": "stdout",
     "output_type": "stream",
     "text": [
      "D val loss : 0.24736782908439636 , G val loss : 9.704540570965037e-05\n",
      "SAVING PLOTS COMPLETE...\n",
      "SAVING PLOTS COMPLETE...\n"
     ]
    },
    {
     "name": "stderr",
     "output_type": "stream",
     "text": [
      "100%|██████████████████████████████████████████████████████████████████████████████████| 83/83 [00:51<00:00,  1.61it/s]\n"
     ]
    },
    {
     "name": "stdout",
     "output_type": "stream",
     "text": [
      "D train loss : 0.9170841574668884 , G train loss : 0.0\n"
     ]
    },
    {
     "name": "stderr",
     "output_type": "stream",
     "text": [
      "100%|██████████████████████████████████████████████████████████████████████████████████| 11/11 [00:06<00:00,  1.69it/s]\n"
     ]
    },
    {
     "name": "stdout",
     "output_type": "stream",
     "text": [
      "D val loss : 0.2524498701095581 , G val loss : 9.814351506065577e-05\n",
      "SAVING PLOTS COMPLETE...\n",
      "SAVING PLOTS COMPLETE...\n"
     ]
    },
    {
     "name": "stderr",
     "output_type": "stream",
     "text": [
      "100%|██████████████████████████████████████████████████████████████████████████████████| 83/83 [00:51<00:00,  1.61it/s]\n"
     ]
    },
    {
     "name": "stdout",
     "output_type": "stream",
     "text": [
      "D train loss : 0.9255743622779846 , G train loss : 0.0\n"
     ]
    },
    {
     "name": "stderr",
     "output_type": "stream",
     "text": [
      "100%|██████████████████████████████████████████████████████████████████████████████████| 11/11 [00:06<00:00,  1.69it/s]\n"
     ]
    },
    {
     "name": "stdout",
     "output_type": "stream",
     "text": [
      "D val loss : 0.25114837288856506 , G val loss : 9.000187128549442e-05\n",
      "SAVING PLOTS COMPLETE...\n",
      "SAVING PLOTS COMPLETE...\n"
     ]
    },
    {
     "name": "stderr",
     "output_type": "stream",
     "text": [
      "100%|██████████████████████████████████████████████████████████████████████████████████| 83/83 [00:51<00:00,  1.61it/s]\n"
     ]
    },
    {
     "name": "stdout",
     "output_type": "stream",
     "text": [
      "D train loss : 0.915988564491272 , G train loss : 0.0\n"
     ]
    },
    {
     "name": "stderr",
     "output_type": "stream",
     "text": [
      "100%|██████████████████████████████████████████████████████████████████████████████████| 11/11 [00:06<00:00,  1.68it/s]\n"
     ]
    },
    {
     "name": "stdout",
     "output_type": "stream",
     "text": [
      "D val loss : 0.23877424001693726 , G val loss : 8.980036363936961e-05\n",
      "SAVING PLOTS COMPLETE...\n",
      "SAVING PLOTS COMPLETE...\n"
     ]
    },
    {
     "name": "stderr",
     "output_type": "stream",
     "text": [
      "100%|██████████████████████████████████████████████████████████████████████████████████| 83/83 [00:51<00:00,  1.61it/s]\n"
     ]
    },
    {
     "name": "stdout",
     "output_type": "stream",
     "text": [
      "D train loss : 0.8862725496292114 , G train loss : 0.0\n"
     ]
    },
    {
     "name": "stderr",
     "output_type": "stream",
     "text": [
      "100%|██████████████████████████████████████████████████████████████████████████████████| 11/11 [00:06<00:00,  1.68it/s]\n"
     ]
    },
    {
     "name": "stdout",
     "output_type": "stream",
     "text": [
      "D val loss : 0.24805916845798492 , G val loss : 9.04144617379643e-05\n",
      "SAVING PLOTS COMPLETE...\n",
      "SAVING PLOTS COMPLETE...\n"
     ]
    },
    {
     "name": "stderr",
     "output_type": "stream",
     "text": [
      "100%|██████████████████████████████████████████████████████████████████████████████████| 83/83 [00:51<00:00,  1.61it/s]\n"
     ]
    },
    {
     "name": "stdout",
     "output_type": "stream",
     "text": [
      "D train loss : 0.9274011850357056 , G train loss : 0.0\n"
     ]
    },
    {
     "name": "stderr",
     "output_type": "stream",
     "text": [
      "100%|██████████████████████████████████████████████████████████████████████████████████| 11/11 [00:06<00:00,  1.69it/s]\n"
     ]
    },
    {
     "name": "stdout",
     "output_type": "stream",
     "text": [
      "D val loss : 0.2415521740913391 , G val loss : 0.00010043518705060706\n",
      "SAVING PLOTS COMPLETE...\n",
      "SAVING PLOTS COMPLETE...\n"
     ]
    },
    {
     "name": "stderr",
     "output_type": "stream",
     "text": [
      "100%|██████████████████████████████████████████████████████████████████████████████████| 83/83 [00:51<00:00,  1.61it/s]\n"
     ]
    },
    {
     "name": "stdout",
     "output_type": "stream",
     "text": [
      "D train loss : 0.8949193358421326 , G train loss : 0.0\n"
     ]
    },
    {
     "name": "stderr",
     "output_type": "stream",
     "text": [
      "100%|██████████████████████████████████████████████████████████████████████████████████| 11/11 [00:06<00:00,  1.69it/s]\n"
     ]
    },
    {
     "name": "stdout",
     "output_type": "stream",
     "text": [
      "D val loss : 0.2510337829589844 , G val loss : 8.675843855598941e-05\n",
      "SAVING PLOTS COMPLETE...\n",
      "SAVING PLOTS COMPLETE...\n"
     ]
    },
    {
     "name": "stderr",
     "output_type": "stream",
     "text": [
      "100%|██████████████████████████████████████████████████████████████████████████████████| 83/83 [00:51<00:00,  1.61it/s]\n"
     ]
    },
    {
     "name": "stdout",
     "output_type": "stream",
     "text": [
      "D train loss : 0.9041140079498291 , G train loss : 0.0\n"
     ]
    },
    {
     "name": "stderr",
     "output_type": "stream",
     "text": [
      "100%|██████████████████████████████████████████████████████████████████████████████████| 11/11 [00:06<00:00,  1.68it/s]\n"
     ]
    },
    {
     "name": "stdout",
     "output_type": "stream",
     "text": [
      "D val loss : 0.24924881756305695 , G val loss : 9.135757863987237e-05\n",
      "SAVING PLOTS COMPLETE...\n",
      "SAVING PLOTS COMPLETE...\n"
     ]
    },
    {
     "name": "stderr",
     "output_type": "stream",
     "text": [
      "100%|██████████████████████████████████████████████████████████████████████████████████| 83/83 [00:51<00:00,  1.61it/s]\n"
     ]
    },
    {
     "name": "stdout",
     "output_type": "stream",
     "text": [
      "D train loss : 0.8973665237426758 , G train loss : 0.0\n"
     ]
    },
    {
     "name": "stderr",
     "output_type": "stream",
     "text": [
      "100%|██████████████████████████████████████████████████████████████████████████████████| 11/11 [00:06<00:00,  1.69it/s]\n"
     ]
    },
    {
     "name": "stdout",
     "output_type": "stream",
     "text": [
      "D val loss : 0.23676329851150513 , G val loss : 8.902391709852964e-05\n",
      "SAVING PLOTS COMPLETE...\n",
      "SAVING PLOTS COMPLETE...\n"
     ]
    },
    {
     "name": "stderr",
     "output_type": "stream",
     "text": [
      "100%|██████████████████████████████████████████████████████████████████████████████████| 83/83 [00:51<00:00,  1.60it/s]\n"
     ]
    },
    {
     "name": "stdout",
     "output_type": "stream",
     "text": [
      "D train loss : 0.9075995683670044 , G train loss : 0.0\n"
     ]
    },
    {
     "name": "stderr",
     "output_type": "stream",
     "text": [
      "100%|██████████████████████████████████████████████████████████████████████████████████| 11/11 [00:06<00:00,  1.70it/s]\n"
     ]
    },
    {
     "name": "stdout",
     "output_type": "stream",
     "text": [
      "D val loss : 0.24206188321113586 , G val loss : 9.356363443657756e-05\n",
      "SAVING PLOTS COMPLETE...\n",
      "SAVING PLOTS COMPLETE...\n"
     ]
    },
    {
     "name": "stderr",
     "output_type": "stream",
     "text": [
      "100%|██████████████████████████████████████████████████████████████████████████████████| 83/83 [00:51<00:00,  1.61it/s]\n"
     ]
    },
    {
     "name": "stdout",
     "output_type": "stream",
     "text": [
      "D train loss : 0.9119861125946045 , G train loss : 0.0\n"
     ]
    },
    {
     "name": "stderr",
     "output_type": "stream",
     "text": [
      "100%|██████████████████████████████████████████████████████████████████████████████████| 11/11 [00:06<00:00,  1.69it/s]\n"
     ]
    },
    {
     "name": "stdout",
     "output_type": "stream",
     "text": [
      "D val loss : 0.254272997379303 , G val loss : 8.629305375507101e-05\n",
      "SAVING PLOTS COMPLETE...\n",
      "SAVING PLOTS COMPLETE...\n"
     ]
    },
    {
     "name": "stderr",
     "output_type": "stream",
     "text": [
      "100%|██████████████████████████████████████████████████████████████████████████████████| 83/83 [00:51<00:00,  1.61it/s]\n"
     ]
    },
    {
     "name": "stdout",
     "output_type": "stream",
     "text": [
      "D train loss : 0.9139510989189148 , G train loss : 0.0\n"
     ]
    },
    {
     "name": "stderr",
     "output_type": "stream",
     "text": [
      "100%|██████████████████████████████████████████████████████████████████████████████████| 11/11 [00:06<00:00,  1.69it/s]\n"
     ]
    },
    {
     "name": "stdout",
     "output_type": "stream",
     "text": [
      "D val loss : 0.25229761004447937 , G val loss : 9.099709131987765e-05\n",
      "SAVING PLOTS COMPLETE...\n",
      "SAVING PLOTS COMPLETE...\n"
     ]
    },
    {
     "name": "stderr",
     "output_type": "stream",
     "text": [
      "100%|██████████████████████████████████████████████████████████████████████████████████| 83/83 [00:51<00:00,  1.61it/s]\n"
     ]
    },
    {
     "name": "stdout",
     "output_type": "stream",
     "text": [
      "D train loss : 0.9110893607139587 , G train loss : 0.0\n"
     ]
    },
    {
     "name": "stderr",
     "output_type": "stream",
     "text": [
      "100%|██████████████████████████████████████████████████████████████████████████████████| 11/11 [00:06<00:00,  1.70it/s]\n"
     ]
    },
    {
     "name": "stdout",
     "output_type": "stream",
     "text": [
      "D val loss : 0.24590721726417542 , G val loss : 9.645766840549186e-05\n",
      "SAVING PLOTS COMPLETE...\n",
      "SAVING PLOTS COMPLETE...\n"
     ]
    },
    {
     "name": "stderr",
     "output_type": "stream",
     "text": [
      "100%|██████████████████████████████████████████████████████████████████████████████████| 83/83 [00:51<00:00,  1.61it/s]\n"
     ]
    },
    {
     "name": "stdout",
     "output_type": "stream",
     "text": [
      "D train loss : 0.9126225113868713 , G train loss : 0.0\n"
     ]
    },
    {
     "name": "stderr",
     "output_type": "stream",
     "text": [
      "100%|██████████████████████████████████████████████████████████████████████████████████| 11/11 [00:06<00:00,  1.70it/s]\n"
     ]
    },
    {
     "name": "stdout",
     "output_type": "stream",
     "text": [
      "D val loss : 0.2352771759033203 , G val loss : 9.25119747989811e-05\n",
      "SAVING PLOTS COMPLETE...\n",
      "SAVING PLOTS COMPLETE...\n"
     ]
    },
    {
     "name": "stderr",
     "output_type": "stream",
     "text": [
      "100%|██████████████████████████████████████████████████████████████████████████████████| 83/83 [00:51<00:00,  1.61it/s]\n"
     ]
    },
    {
     "name": "stdout",
     "output_type": "stream",
     "text": [
      "D train loss : 0.9165673851966858 , G train loss : 0.0\n"
     ]
    },
    {
     "name": "stderr",
     "output_type": "stream",
     "text": [
      "100%|██████████████████████████████████████████████████████████████████████████████████| 11/11 [00:06<00:00,  1.68it/s]\n"
     ]
    },
    {
     "name": "stdout",
     "output_type": "stream",
     "text": [
      "D val loss : 0.2398054450750351 , G val loss : 8.810465806163847e-05\n",
      "SAVING PLOTS COMPLETE...\n",
      "SAVING PLOTS COMPLETE...\n"
     ]
    },
    {
     "name": "stderr",
     "output_type": "stream",
     "text": [
      "100%|██████████████████████████████████████████████████████████████████████████████████| 83/83 [00:51<00:00,  1.61it/s]\n"
     ]
    },
    {
     "name": "stdout",
     "output_type": "stream",
     "text": [
      "D train loss : 0.9134595990180969 , G train loss : 0.0\n"
     ]
    },
    {
     "name": "stderr",
     "output_type": "stream",
     "text": [
      "100%|██████████████████████████████████████████████████████████████████████████████████| 11/11 [00:06<00:00,  1.69it/s]\n"
     ]
    },
    {
     "name": "stdout",
     "output_type": "stream",
     "text": [
      "D val loss : 0.2376783937215805 , G val loss : 8.909818279789761e-05\n",
      "SAVING PLOTS COMPLETE...\n",
      "SAVING PLOTS COMPLETE...\n"
     ]
    },
    {
     "name": "stderr",
     "output_type": "stream",
     "text": [
      "100%|██████████████████████████████████████████████████████████████████████████████████| 83/83 [00:51<00:00,  1.60it/s]\n"
     ]
    },
    {
     "name": "stdout",
     "output_type": "stream",
     "text": [
      "D train loss : 0.8981078267097473 , G train loss : 0.0\n"
     ]
    },
    {
     "name": "stderr",
     "output_type": "stream",
     "text": [
      "100%|██████████████████████████████████████████████████████████████████████████████████| 11/11 [00:06<00:00,  1.70it/s]\n"
     ]
    },
    {
     "name": "stdout",
     "output_type": "stream",
     "text": [
      "D val loss : 0.2392529547214508 , G val loss : 9.865561150945723e-05\n",
      "SAVING PLOTS COMPLETE...\n",
      "SAVING PLOTS COMPLETE...\n"
     ]
    },
    {
     "name": "stderr",
     "output_type": "stream",
     "text": [
      "100%|██████████████████████████████████████████████████████████████████████████████████| 83/83 [00:51<00:00,  1.60it/s]\n"
     ]
    },
    {
     "name": "stdout",
     "output_type": "stream",
     "text": [
      "D train loss : 0.9220616221427917 , G train loss : 0.0\n"
     ]
    },
    {
     "name": "stderr",
     "output_type": "stream",
     "text": [
      "100%|██████████████████████████████████████████████████████████████████████████████████| 11/11 [00:06<00:00,  1.66it/s]\n"
     ]
    },
    {
     "name": "stdout",
     "output_type": "stream",
     "text": [
      "D val loss : 0.2501460611820221 , G val loss : 9.410992788616568e-05\n",
      "SAVING PLOTS COMPLETE...\n",
      "SAVING PLOTS COMPLETE...\n"
     ]
    },
    {
     "name": "stderr",
     "output_type": "stream",
     "text": [
      "100%|██████████████████████████████████████████████████████████████████████████████████| 83/83 [00:51<00:00,  1.61it/s]\n"
     ]
    },
    {
     "name": "stdout",
     "output_type": "stream",
     "text": [
      "D train loss : 0.9201505184173584 , G train loss : 0.0\n"
     ]
    },
    {
     "name": "stderr",
     "output_type": "stream",
     "text": [
      "100%|██████████████████████████████████████████████████████████████████████████████████| 11/11 [00:06<00:00,  1.69it/s]\n"
     ]
    },
    {
     "name": "stdout",
     "output_type": "stream",
     "text": [
      "D val loss : 0.23623648285865784 , G val loss : 8.769918349571526e-05\n",
      "SAVING PLOTS COMPLETE...\n",
      "SAVING PLOTS COMPLETE...\n"
     ]
    },
    {
     "name": "stderr",
     "output_type": "stream",
     "text": [
      "100%|██████████████████████████████████████████████████████████████████████████████████| 83/83 [00:51<00:00,  1.62it/s]\n"
     ]
    },
    {
     "name": "stdout",
     "output_type": "stream",
     "text": [
      "D train loss : 0.9130311012268066 , G train loss : 0.0\n"
     ]
    },
    {
     "name": "stderr",
     "output_type": "stream",
     "text": [
      "100%|██████████████████████████████████████████████████████████████████████████████████| 11/11 [00:06<00:00,  1.69it/s]\n"
     ]
    },
    {
     "name": "stdout",
     "output_type": "stream",
     "text": [
      "D val loss : 0.2448863834142685 , G val loss : 9.289563604397699e-05\n",
      "SAVING PLOTS COMPLETE...\n",
      "SAVING PLOTS COMPLETE...\n"
     ]
    },
    {
     "name": "stderr",
     "output_type": "stream",
     "text": [
      "100%|██████████████████████████████████████████████████████████████████████████████████| 83/83 [00:51<00:00,  1.62it/s]\n"
     ]
    },
    {
     "name": "stdout",
     "output_type": "stream",
     "text": [
      "D train loss : 0.9020287990570068 , G train loss : 0.0\n"
     ]
    },
    {
     "name": "stderr",
     "output_type": "stream",
     "text": [
      "100%|██████████████████████████████████████████████████████████████████████████████████| 11/11 [00:06<00:00,  1.69it/s]\n"
     ]
    },
    {
     "name": "stdout",
     "output_type": "stream",
     "text": [
      "D val loss : 0.23839882016181946 , G val loss : 8.659492596052587e-05\n",
      "SAVING PLOTS COMPLETE...\n",
      "SAVING PLOTS COMPLETE...\n"
     ]
    },
    {
     "name": "stderr",
     "output_type": "stream",
     "text": [
      "100%|██████████████████████████████████████████████████████████████████████████████████| 83/83 [00:51<00:00,  1.62it/s]\n"
     ]
    },
    {
     "name": "stdout",
     "output_type": "stream",
     "text": [
      "D train loss : 0.9205281734466553 , G train loss : 0.0\n"
     ]
    },
    {
     "name": "stderr",
     "output_type": "stream",
     "text": [
      "100%|██████████████████████████████████████████████████████████████████████████████████| 11/11 [00:06<00:00,  1.68it/s]\n"
     ]
    },
    {
     "name": "stdout",
     "output_type": "stream",
     "text": [
      "D val loss : 0.23737522959709167 , G val loss : 9.082542965188622e-05\n",
      "SAVING PLOTS COMPLETE...\n",
      "SAVING PLOTS COMPLETE...\n"
     ]
    },
    {
     "name": "stderr",
     "output_type": "stream",
     "text": [
      "100%|██████████████████████████████████████████████████████████████████████████████████| 83/83 [00:51<00:00,  1.61it/s]\n"
     ]
    },
    {
     "name": "stdout",
     "output_type": "stream",
     "text": [
      "D train loss : 0.9139347076416016 , G train loss : 0.0\n"
     ]
    },
    {
     "name": "stderr",
     "output_type": "stream",
     "text": [
      "100%|██████████████████████████████████████████████████████████████████████████████████| 11/11 [00:06<00:00,  1.68it/s]\n"
     ]
    },
    {
     "name": "stdout",
     "output_type": "stream",
     "text": [
      "D val loss : 0.24879373610019684 , G val loss : 8.949548646342009e-05\n",
      "SAVING PLOTS COMPLETE...\n",
      "SAVING PLOTS COMPLETE...\n"
     ]
    },
    {
     "name": "stderr",
     "output_type": "stream",
     "text": [
      "100%|██████████████████████████████████████████████████████████████████████████████████| 83/83 [00:51<00:00,  1.61it/s]\n"
     ]
    },
    {
     "name": "stdout",
     "output_type": "stream",
     "text": [
      "D train loss : 0.9164309501647949 , G train loss : 0.0\n"
     ]
    },
    {
     "name": "stderr",
     "output_type": "stream",
     "text": [
      "100%|██████████████████████████████████████████████████████████████████████████████████| 11/11 [00:06<00:00,  1.69it/s]\n"
     ]
    },
    {
     "name": "stdout",
     "output_type": "stream",
     "text": [
      "D val loss : 0.2408115714788437 , G val loss : 9.247697016689926e-05\n",
      "SAVING PLOTS COMPLETE...\n",
      "SAVING PLOTS COMPLETE...\n"
     ]
    },
    {
     "name": "stderr",
     "output_type": "stream",
     "text": [
      "100%|██████████████████████████████████████████████████████████████████████████████████| 83/83 [00:51<00:00,  1.61it/s]\n"
     ]
    },
    {
     "name": "stdout",
     "output_type": "stream",
     "text": [
      "D train loss : 0.9079635739326477 , G train loss : 0.0\n"
     ]
    },
    {
     "name": "stderr",
     "output_type": "stream",
     "text": [
      "100%|██████████████████████████████████████████████████████████████████████████████████| 11/11 [00:06<00:00,  1.66it/s]\n"
     ]
    },
    {
     "name": "stdout",
     "output_type": "stream",
     "text": [
      "D val loss : 0.25768575072288513 , G val loss : 9.298629447584972e-05\n",
      "SAVING PLOTS COMPLETE...\n",
      "SAVING PLOTS COMPLETE...\n"
     ]
    },
    {
     "name": "stderr",
     "output_type": "stream",
     "text": [
      "100%|██████████████████████████████████████████████████████████████████████████████████| 83/83 [00:51<00:00,  1.61it/s]\n"
     ]
    },
    {
     "name": "stdout",
     "output_type": "stream",
     "text": [
      "D train loss : 0.9128545522689819 , G train loss : 0.0\n"
     ]
    },
    {
     "name": "stderr",
     "output_type": "stream",
     "text": [
      "100%|██████████████████████████████████████████████████████████████████████████████████| 11/11 [00:06<00:00,  1.68it/s]\n"
     ]
    },
    {
     "name": "stdout",
     "output_type": "stream",
     "text": [
      "D val loss : 0.2486882209777832 , G val loss : 8.731319394428283e-05\n",
      "SAVING PLOTS COMPLETE...\n",
      "SAVING PLOTS COMPLETE...\n"
     ]
    },
    {
     "name": "stderr",
     "output_type": "stream",
     "text": [
      "100%|██████████████████████████████████████████████████████████████████████████████████| 83/83 [00:51<00:00,  1.61it/s]\n"
     ]
    },
    {
     "name": "stdout",
     "output_type": "stream",
     "text": [
      "D train loss : 0.9146145582199097 , G train loss : 0.0\n"
     ]
    },
    {
     "name": "stderr",
     "output_type": "stream",
     "text": [
      "100%|██████████████████████████████████████████████████████████████████████████████████| 11/11 [00:06<00:00,  1.68it/s]\n"
     ]
    },
    {
     "name": "stdout",
     "output_type": "stream",
     "text": [
      "D val loss : 0.2356347143650055 , G val loss : 9.218213381245732e-05\n",
      "SAVING PLOTS COMPLETE...\n",
      "SAVING PLOTS COMPLETE...\n"
     ]
    },
    {
     "name": "stderr",
     "output_type": "stream",
     "text": [
      "100%|██████████████████████████████████████████████████████████████████████████████████| 83/83 [00:51<00:00,  1.61it/s]\n"
     ]
    },
    {
     "name": "stdout",
     "output_type": "stream",
     "text": [
      "D train loss : 0.9041290283203125 , G train loss : 0.0\n"
     ]
    },
    {
     "name": "stderr",
     "output_type": "stream",
     "text": [
      "100%|██████████████████████████████████████████████████████████████████████████████████| 11/11 [00:06<00:00,  1.69it/s]\n"
     ]
    },
    {
     "name": "stdout",
     "output_type": "stream",
     "text": [
      "D val loss : 0.250679612159729 , G val loss : 8.341294596903026e-05\n",
      "SAVING PLOTS COMPLETE...\n",
      "SAVING PLOTS COMPLETE...\n"
     ]
    },
    {
     "name": "stderr",
     "output_type": "stream",
     "text": [
      "100%|██████████████████████████████████████████████████████████████████████████████████| 83/83 [00:51<00:00,  1.61it/s]\n"
     ]
    },
    {
     "name": "stdout",
     "output_type": "stream",
     "text": [
      "D train loss : 0.9186177253723145 , G train loss : 0.0\n"
     ]
    },
    {
     "name": "stderr",
     "output_type": "stream",
     "text": [
      "100%|██████████████████████████████████████████████████████████████████████████████████| 11/11 [00:06<00:00,  1.70it/s]\n"
     ]
    },
    {
     "name": "stdout",
     "output_type": "stream",
     "text": [
      "D val loss : 0.23723946511745453 , G val loss : 8.387118577957153e-05\n",
      "SAVING PLOTS COMPLETE...\n",
      "SAVING PLOTS COMPLETE...\n"
     ]
    },
    {
     "name": "stderr",
     "output_type": "stream",
     "text": [
      "100%|██████████████████████████████████████████████████████████████████████████████████| 83/83 [00:51<00:00,  1.61it/s]\n"
     ]
    },
    {
     "name": "stdout",
     "output_type": "stream",
     "text": [
      "D train loss : 0.9197598695755005 , G train loss : 0.0\n"
     ]
    },
    {
     "name": "stderr",
     "output_type": "stream",
     "text": [
      "100%|██████████████████████████████████████████████████████████████████████████████████| 11/11 [00:06<00:00,  1.70it/s]\n"
     ]
    },
    {
     "name": "stdout",
     "output_type": "stream",
     "text": [
      "D val loss : 0.23578670620918274 , G val loss : 8.85869303601794e-05\n",
      "SAVING PLOTS COMPLETE...\n",
      "SAVING PLOTS COMPLETE...\n"
     ]
    },
    {
     "name": "stderr",
     "output_type": "stream",
     "text": [
      "100%|██████████████████████████████████████████████████████████████████████████████████| 83/83 [00:51<00:00,  1.61it/s]\n"
     ]
    },
    {
     "name": "stdout",
     "output_type": "stream",
     "text": [
      "D train loss : 0.9077879786491394 , G train loss : 0.0\n"
     ]
    },
    {
     "name": "stderr",
     "output_type": "stream",
     "text": [
      "100%|██████████████████████████████████████████████████████████████████████████████████| 11/11 [00:06<00:00,  1.69it/s]\n"
     ]
    },
    {
     "name": "stdout",
     "output_type": "stream",
     "text": [
      "D val loss : 0.23872661590576172 , G val loss : 8.927106682676822e-05\n",
      "SAVING PLOTS COMPLETE...\n",
      "SAVING PLOTS COMPLETE...\n"
     ]
    },
    {
     "name": "stderr",
     "output_type": "stream",
     "text": [
      "100%|██████████████████████████████████████████████████████████████████████████████████| 83/83 [00:52<00:00,  1.59it/s]\n"
     ]
    },
    {
     "name": "stdout",
     "output_type": "stream",
     "text": [
      "D train loss : 0.912626326084137 , G train loss : 0.0\n"
     ]
    },
    {
     "name": "stderr",
     "output_type": "stream",
     "text": [
      "100%|██████████████████████████████████████████████████████████████████████████████████| 11/11 [00:06<00:00,  1.69it/s]\n"
     ]
    },
    {
     "name": "stdout",
     "output_type": "stream",
     "text": [
      "D val loss : 0.25670573115348816 , G val loss : 8.299718319904059e-05\n",
      "SAVING PLOTS COMPLETE...\n",
      "SAVING PLOTS COMPLETE...\n"
     ]
    },
    {
     "name": "stderr",
     "output_type": "stream",
     "text": [
      "100%|██████████████████████████████████████████████████████████████████████████████████| 83/83 [00:51<00:00,  1.61it/s]\n"
     ]
    },
    {
     "name": "stdout",
     "output_type": "stream",
     "text": [
      "D train loss : 0.9115005731582642 , G train loss : 0.0\n"
     ]
    },
    {
     "name": "stderr",
     "output_type": "stream",
     "text": [
      "100%|██████████████████████████████████████████████████████████████████████████████████| 11/11 [00:06<00:00,  1.69it/s]\n"
     ]
    },
    {
     "name": "stdout",
     "output_type": "stream",
     "text": [
      "D val loss : 0.21284180879592896 , G val loss : 8.5139021393843e-05\n",
      "SAVING PLOTS COMPLETE...\n",
      "SAVING PLOTS COMPLETE...\n"
     ]
    },
    {
     "name": "stderr",
     "output_type": "stream",
     "text": [
      "100%|██████████████████████████████████████████████████████████████████████████████████| 83/83 [00:51<00:00,  1.61it/s]\n"
     ]
    },
    {
     "name": "stdout",
     "output_type": "stream",
     "text": [
      "D train loss : 0.9052497148513794 , G train loss : 0.0\n"
     ]
    },
    {
     "name": "stderr",
     "output_type": "stream",
     "text": [
      "100%|██████████████████████████████████████████████████████████████████████████████████| 11/11 [00:06<00:00,  1.69it/s]\n"
     ]
    },
    {
     "name": "stdout",
     "output_type": "stream",
     "text": [
      "D val loss : 0.2372179925441742 , G val loss : 8.970438648248091e-05\n",
      "SAVING PLOTS COMPLETE...\n",
      "SAVING PLOTS COMPLETE...\n"
     ]
    },
    {
     "name": "stderr",
     "output_type": "stream",
     "text": [
      "100%|██████████████████████████████████████████████████████████████████████████████████| 83/83 [00:51<00:00,  1.61it/s]\n"
     ]
    },
    {
     "name": "stdout",
     "output_type": "stream",
     "text": [
      "D train loss : 0.9017892479896545 , G train loss : 0.0\n"
     ]
    },
    {
     "name": "stderr",
     "output_type": "stream",
     "text": [
      "100%|██████████████████████████████████████████████████████████████████████████████████| 11/11 [00:06<00:00,  1.69it/s]\n"
     ]
    },
    {
     "name": "stdout",
     "output_type": "stream",
     "text": [
      "D val loss : 0.23653791844844818 , G val loss : 9.058383147930726e-05\n",
      "SAVING PLOTS COMPLETE...\n",
      "SAVING PLOTS COMPLETE...\n"
     ]
    },
    {
     "name": "stderr",
     "output_type": "stream",
     "text": [
      "100%|██████████████████████████████████████████████████████████████████████████████████| 83/83 [00:51<00:00,  1.61it/s]\n"
     ]
    },
    {
     "name": "stdout",
     "output_type": "stream",
     "text": [
      "D train loss : 0.9166427850723267 , G train loss : 0.0\n"
     ]
    },
    {
     "name": "stderr",
     "output_type": "stream",
     "text": [
      "100%|██████████████████████████████████████████████████████████████████████████████████| 11/11 [00:06<00:00,  1.69it/s]\n"
     ]
    },
    {
     "name": "stdout",
     "output_type": "stream",
     "text": [
      "D val loss : 0.23611454665660858 , G val loss : 9.146832599071786e-05\n",
      "SAVING PLOTS COMPLETE...\n",
      "SAVING PLOTS COMPLETE...\n"
     ]
    },
    {
     "name": "stderr",
     "output_type": "stream",
     "text": [
      "100%|██████████████████████████████████████████████████████████████████████████████████| 83/83 [00:51<00:00,  1.61it/s]\n"
     ]
    },
    {
     "name": "stdout",
     "output_type": "stream",
     "text": [
      "D train loss : 0.9029598832130432 , G train loss : 0.0\n"
     ]
    },
    {
     "name": "stderr",
     "output_type": "stream",
     "text": [
      "100%|██████████████████████████████████████████████████████████████████████████████████| 11/11 [00:06<00:00,  1.70it/s]\n"
     ]
    },
    {
     "name": "stdout",
     "output_type": "stream",
     "text": [
      "D val loss : 0.21562035381793976 , G val loss : 9.4515664386563e-05\n",
      "SAVING PLOTS COMPLETE...\n",
      "SAVING PLOTS COMPLETE...\n"
     ]
    },
    {
     "name": "stderr",
     "output_type": "stream",
     "text": [
      "100%|██████████████████████████████████████████████████████████████████████████████████| 83/83 [00:51<00:00,  1.61it/s]\n"
     ]
    },
    {
     "name": "stdout",
     "output_type": "stream",
     "text": [
      "D train loss : 0.9036285877227783 , G train loss : 0.0\n"
     ]
    },
    {
     "name": "stderr",
     "output_type": "stream",
     "text": [
      "100%|██████████████████████████████████████████████████████████████████████████████████| 11/11 [00:06<00:00,  1.66it/s]\n"
     ]
    },
    {
     "name": "stdout",
     "output_type": "stream",
     "text": [
      "D val loss : 0.21649113297462463 , G val loss : 8.513407374266535e-05\n",
      "SAVING PLOTS COMPLETE...\n",
      "SAVING PLOTS COMPLETE...\n"
     ]
    },
    {
     "name": "stderr",
     "output_type": "stream",
     "text": [
      "100%|██████████████████████████████████████████████████████████████████████████████████| 83/83 [00:51<00:00,  1.61it/s]\n"
     ]
    },
    {
     "name": "stdout",
     "output_type": "stream",
     "text": [
      "D train loss : 0.901136040687561 , G train loss : 0.0\n"
     ]
    },
    {
     "name": "stderr",
     "output_type": "stream",
     "text": [
      "100%|██████████████████████████████████████████████████████████████████████████████████| 11/11 [00:06<00:00,  1.69it/s]\n"
     ]
    },
    {
     "name": "stdout",
     "output_type": "stream",
     "text": [
      "D val loss : 0.23502694070339203 , G val loss : 8.424153202213347e-05\n",
      "SAVING PLOTS COMPLETE...\n",
      "SAVING PLOTS COMPLETE...\n"
     ]
    },
    {
     "name": "stderr",
     "output_type": "stream",
     "text": [
      "100%|██████████████████████████████████████████████████████████████████████████████████| 83/83 [00:51<00:00,  1.61it/s]\n"
     ]
    },
    {
     "name": "stdout",
     "output_type": "stream",
     "text": [
      "D train loss : 0.8982266783714294 , G train loss : 0.0\n"
     ]
    },
    {
     "name": "stderr",
     "output_type": "stream",
     "text": [
      "100%|██████████████████████████████████████████████████████████████████████████████████| 11/11 [00:06<00:00,  1.61it/s]\n"
     ]
    },
    {
     "name": "stdout",
     "output_type": "stream",
     "text": [
      "D val loss : 0.25227031111717224 , G val loss : 9.380846313433722e-05\n",
      "SAVING PLOTS COMPLETE...\n",
      "SAVING PLOTS COMPLETE...\n"
     ]
    },
    {
     "name": "stderr",
     "output_type": "stream",
     "text": [
      "100%|██████████████████████████████████████████████████████████████████████████████████| 83/83 [00:51<00:00,  1.61it/s]\n"
     ]
    },
    {
     "name": "stdout",
     "output_type": "stream",
     "text": [
      "D train loss : 0.911027729511261 , G train loss : 0.0\n"
     ]
    },
    {
     "name": "stderr",
     "output_type": "stream",
     "text": [
      "100%|██████████████████████████████████████████████████████████████████████████████████| 11/11 [00:06<00:00,  1.69it/s]\n"
     ]
    },
    {
     "name": "stdout",
     "output_type": "stream",
     "text": [
      "D val loss : 0.24338683485984802 , G val loss : 8.989534399006516e-05\n",
      "SAVING PLOTS COMPLETE...\n",
      "SAVING PLOTS COMPLETE...\n"
     ]
    },
    {
     "name": "stderr",
     "output_type": "stream",
     "text": [
      "100%|██████████████████████████████████████████████████████████████████████████████████| 83/83 [00:51<00:00,  1.61it/s]\n"
     ]
    },
    {
     "name": "stdout",
     "output_type": "stream",
     "text": [
      "D train loss : 0.9017806053161621 , G train loss : 0.0\n"
     ]
    },
    {
     "name": "stderr",
     "output_type": "stream",
     "text": [
      "100%|██████████████████████████████████████████████████████████████████████████████████| 11/11 [00:06<00:00,  1.68it/s]\n"
     ]
    },
    {
     "name": "stdout",
     "output_type": "stream",
     "text": [
      "D val loss : 0.25410211086273193 , G val loss : 8.896530925994739e-05\n",
      "SAVING PLOTS COMPLETE...\n",
      "SAVING PLOTS COMPLETE...\n"
     ]
    },
    {
     "name": "stderr",
     "output_type": "stream",
     "text": [
      "100%|██████████████████████████████████████████████████████████████████████████████████| 83/83 [00:51<00:00,  1.61it/s]\n"
     ]
    },
    {
     "name": "stdout",
     "output_type": "stream",
     "text": [
      "D train loss : 0.8903676271438599 , G train loss : 0.0\n"
     ]
    },
    {
     "name": "stderr",
     "output_type": "stream",
     "text": [
      "100%|██████████████████████████████████████████████████████████████████████████████████| 11/11 [00:06<00:00,  1.67it/s]\n"
     ]
    },
    {
     "name": "stdout",
     "output_type": "stream",
     "text": [
      "D val loss : 0.24372433125972748 , G val loss : 8.626766793895513e-05\n",
      "SAVING PLOTS COMPLETE...\n",
      "SAVING PLOTS COMPLETE...\n"
     ]
    },
    {
     "name": "stderr",
     "output_type": "stream",
     "text": [
      "100%|██████████████████████████████████████████████████████████████████████████████████| 83/83 [00:51<00:00,  1.61it/s]\n"
     ]
    },
    {
     "name": "stdout",
     "output_type": "stream",
     "text": [
      "D train loss : 0.9077295660972595 , G train loss : 0.0\n"
     ]
    },
    {
     "name": "stderr",
     "output_type": "stream",
     "text": [
      "100%|██████████████████████████████████████████████████████████████████████████████████| 11/11 [00:06<00:00,  1.70it/s]\n"
     ]
    },
    {
     "name": "stdout",
     "output_type": "stream",
     "text": [
      "D val loss : 0.2450014352798462 , G val loss : 9.283710096497089e-05\n",
      "SAVING PLOTS COMPLETE...\n",
      "SAVING PLOTS COMPLETE...\n"
     ]
    },
    {
     "name": "stderr",
     "output_type": "stream",
     "text": [
      "100%|██████████████████████████████████████████████████████████████████████████████████| 83/83 [00:51<00:00,  1.61it/s]\n"
     ]
    },
    {
     "name": "stdout",
     "output_type": "stream",
     "text": [
      "D train loss : 0.9042865633964539 , G train loss : 0.0\n"
     ]
    },
    {
     "name": "stderr",
     "output_type": "stream",
     "text": [
      "100%|██████████████████████████████████████████████████████████████████████████████████| 11/11 [00:06<00:00,  1.68it/s]\n"
     ]
    },
    {
     "name": "stdout",
     "output_type": "stream",
     "text": [
      "D val loss : 0.2515813410282135 , G val loss : 8.917521336115897e-05\n",
      "SAVING PLOTS COMPLETE...\n",
      "SAVING PLOTS COMPLETE...\n"
     ]
    },
    {
     "name": "stderr",
     "output_type": "stream",
     "text": [
      "100%|██████████████████████████████████████████████████████████████████████████████████| 83/83 [00:51<00:00,  1.61it/s]\n"
     ]
    },
    {
     "name": "stdout",
     "output_type": "stream",
     "text": [
      "D train loss : 0.9008743762969971 , G train loss : 0.0\n"
     ]
    },
    {
     "name": "stderr",
     "output_type": "stream",
     "text": [
      "100%|██████████████████████████████████████████████████████████████████████████████████| 11/11 [00:06<00:00,  1.69it/s]\n"
     ]
    },
    {
     "name": "stdout",
     "output_type": "stream",
     "text": [
      "D val loss : 0.25664493441581726 , G val loss : 8.549399353796616e-05\n",
      "SAVING PLOTS COMPLETE...\n",
      "SAVING PLOTS COMPLETE...\n"
     ]
    },
    {
     "name": "stderr",
     "output_type": "stream",
     "text": [
      "100%|██████████████████████████████████████████████████████████████████████████████████| 83/83 [00:51<00:00,  1.61it/s]\n"
     ]
    },
    {
     "name": "stdout",
     "output_type": "stream",
     "text": [
      "D train loss : 0.9153204560279846 , G train loss : 0.0\n"
     ]
    },
    {
     "name": "stderr",
     "output_type": "stream",
     "text": [
      "100%|██████████████████████████████████████████████████████████████████████████████████| 11/11 [00:06<00:00,  1.68it/s]\n"
     ]
    },
    {
     "name": "stdout",
     "output_type": "stream",
     "text": [
      "D val loss : 0.2425563782453537 , G val loss : 9.303084516432136e-05\n",
      "SAVING PLOTS COMPLETE...\n",
      "SAVING PLOTS COMPLETE...\n"
     ]
    },
    {
     "name": "stderr",
     "output_type": "stream",
     "text": [
      "100%|██████████████████████████████████████████████████████████████████████████████████| 83/83 [00:51<00:00,  1.61it/s]\n"
     ]
    },
    {
     "name": "stdout",
     "output_type": "stream",
     "text": [
      "D train loss : 0.9124046564102173 , G train loss : 0.0\n"
     ]
    },
    {
     "name": "stderr",
     "output_type": "stream",
     "text": [
      "100%|██████████████████████████████████████████████████████████████████████████████████| 11/11 [00:06<00:00,  1.68it/s]\n"
     ]
    },
    {
     "name": "stdout",
     "output_type": "stream",
     "text": [
      "D val loss : 0.23608526587486267 , G val loss : 8.336665632668883e-05\n",
      "SAVING PLOTS COMPLETE...\n",
      "SAVING PLOTS COMPLETE...\n"
     ]
    },
    {
     "name": "stderr",
     "output_type": "stream",
     "text": [
      "100%|██████████████████████████████████████████████████████████████████████████████████| 83/83 [00:51<00:00,  1.61it/s]\n"
     ]
    },
    {
     "name": "stdout",
     "output_type": "stream",
     "text": [
      "D train loss : 0.902218759059906 , G train loss : 0.0\n"
     ]
    },
    {
     "name": "stderr",
     "output_type": "stream",
     "text": [
      "100%|██████████████████████████████████████████████████████████████████████████████████| 11/11 [00:06<00:00,  1.69it/s]\n"
     ]
    },
    {
     "name": "stdout",
     "output_type": "stream",
     "text": [
      "D val loss : 0.25334542989730835 , G val loss : 8.46844632178545e-05\n",
      "SAVING PLOTS COMPLETE...\n",
      "SAVING PLOTS COMPLETE...\n"
     ]
    },
    {
     "name": "stderr",
     "output_type": "stream",
     "text": [
      "100%|██████████████████████████████████████████████████████████████████████████████████| 83/83 [00:51<00:00,  1.61it/s]\n"
     ]
    },
    {
     "name": "stdout",
     "output_type": "stream",
     "text": [
      "D train loss : 0.8948045372962952 , G train loss : 0.0\n"
     ]
    },
    {
     "name": "stderr",
     "output_type": "stream",
     "text": [
      "100%|██████████████████████████████████████████████████████████████████████████████████| 11/11 [00:06<00:00,  1.68it/s]\n"
     ]
    },
    {
     "name": "stdout",
     "output_type": "stream",
     "text": [
      "D val loss : 0.24761375784873962 , G val loss : 8.066326699918136e-05\n",
      "SAVING PLOTS COMPLETE...\n",
      "SAVING PLOTS COMPLETE...\n"
     ]
    },
    {
     "name": "stderr",
     "output_type": "stream",
     "text": [
      "100%|██████████████████████████████████████████████████████████████████████████████████| 83/83 [00:51<00:00,  1.60it/s]\n"
     ]
    },
    {
     "name": "stdout",
     "output_type": "stream",
     "text": [
      "D train loss : 0.9047446250915527 , G train loss : 0.0\n"
     ]
    },
    {
     "name": "stderr",
     "output_type": "stream",
     "text": [
      "100%|██████████████████████████████████████████████████████████████████████████████████| 11/11 [00:06<00:00,  1.68it/s]\n"
     ]
    },
    {
     "name": "stdout",
     "output_type": "stream",
     "text": [
      "D val loss : 0.24588699638843536 , G val loss : 8.395556506002322e-05\n",
      "SAVING PLOTS COMPLETE...\n",
      "SAVING PLOTS COMPLETE...\n"
     ]
    },
    {
     "name": "stderr",
     "output_type": "stream",
     "text": [
      "100%|██████████████████████████████████████████████████████████████████████████████████| 83/83 [00:51<00:00,  1.61it/s]\n"
     ]
    },
    {
     "name": "stdout",
     "output_type": "stream",
     "text": [
      "D train loss : 0.9009881615638733 , G train loss : 0.0\n"
     ]
    },
    {
     "name": "stderr",
     "output_type": "stream",
     "text": [
      "100%|██████████████████████████████████████████████████████████████████████████████████| 11/11 [00:06<00:00,  1.68it/s]\n"
     ]
    },
    {
     "name": "stdout",
     "output_type": "stream",
     "text": [
      "D val loss : 0.23762916028499603 , G val loss : 7.839578029233962e-05\n",
      "SAVING PLOTS COMPLETE...\n",
      "SAVING PLOTS COMPLETE...\n"
     ]
    },
    {
     "name": "stderr",
     "output_type": "stream",
     "text": [
      "100%|██████████████████████████████████████████████████████████████████████████████████| 83/83 [00:51<00:00,  1.61it/s]\n"
     ]
    },
    {
     "name": "stdout",
     "output_type": "stream",
     "text": [
      "D train loss : 0.9114516377449036 , G train loss : 0.0\n"
     ]
    },
    {
     "name": "stderr",
     "output_type": "stream",
     "text": [
      "100%|██████████████████████████████████████████████████████████████████████████████████| 11/11 [00:06<00:00,  1.69it/s]\n"
     ]
    },
    {
     "name": "stdout",
     "output_type": "stream",
     "text": [
      "D val loss : 0.24365486204624176 , G val loss : 8.404150867136195e-05\n",
      "SAVING PLOTS COMPLETE...\n",
      "SAVING PLOTS COMPLETE...\n"
     ]
    },
    {
     "name": "stderr",
     "output_type": "stream",
     "text": [
      "100%|██████████████████████████████████████████████████████████████████████████████████| 83/83 [00:51<00:00,  1.61it/s]\n"
     ]
    },
    {
     "name": "stdout",
     "output_type": "stream",
     "text": [
      "D train loss : 0.9370958805084229 , G train loss : 0.0\n"
     ]
    },
    {
     "name": "stderr",
     "output_type": "stream",
     "text": [
      "100%|██████████████████████████████████████████████████████████████████████████████████| 11/11 [00:06<00:00,  1.69it/s]\n"
     ]
    },
    {
     "name": "stdout",
     "output_type": "stream",
     "text": [
      "D val loss : 0.23874452710151672 , G val loss : 8.745451486902311e-05\n",
      "SAVING PLOTS COMPLETE...\n",
      "SAVING PLOTS COMPLETE...\n"
     ]
    },
    {
     "name": "stderr",
     "output_type": "stream",
     "text": [
      "100%|██████████████████████████████████████████████████████████████████████████████████| 83/83 [00:51<00:00,  1.61it/s]\n"
     ]
    },
    {
     "name": "stdout",
     "output_type": "stream",
     "text": [
      "D train loss : 0.9145519733428955 , G train loss : 0.0\n"
     ]
    },
    {
     "name": "stderr",
     "output_type": "stream",
     "text": [
      "100%|██████████████████████████████████████████████████████████████████████████████████| 11/11 [00:06<00:00,  1.68it/s]\n"
     ]
    },
    {
     "name": "stdout",
     "output_type": "stream",
     "text": [
      "D val loss : 0.23565727472305298 , G val loss : 8.931870979722589e-05\n",
      "SAVING PLOTS COMPLETE...\n",
      "SAVING PLOTS COMPLETE...\n"
     ]
    },
    {
     "name": "stderr",
     "output_type": "stream",
     "text": [
      "100%|██████████████████████████████████████████████████████████████████████████████████| 83/83 [00:51<00:00,  1.60it/s]\n"
     ]
    },
    {
     "name": "stdout",
     "output_type": "stream",
     "text": [
      "D train loss : 0.9193964004516602 , G train loss : 0.0\n"
     ]
    },
    {
     "name": "stderr",
     "output_type": "stream",
     "text": [
      "100%|██████████████████████████████████████████████████████████████████████████████████| 11/11 [00:06<00:00,  1.66it/s]\n"
     ]
    },
    {
     "name": "stdout",
     "output_type": "stream",
     "text": [
      "D val loss : 0.24142588675022125 , G val loss : 8.449525921605527e-05\n",
      "SAVING PLOTS COMPLETE...\n",
      "SAVING PLOTS COMPLETE...\n"
     ]
    },
    {
     "name": "stderr",
     "output_type": "stream",
     "text": [
      "100%|██████████████████████████████████████████████████████████████████████████████████| 83/83 [00:51<00:00,  1.61it/s]\n"
     ]
    },
    {
     "name": "stdout",
     "output_type": "stream",
     "text": [
      "D train loss : 0.9092819094657898 , G train loss : 0.0\n"
     ]
    },
    {
     "name": "stderr",
     "output_type": "stream",
     "text": [
      "100%|██████████████████████████████████████████████████████████████████████████████████| 11/11 [00:06<00:00,  1.68it/s]\n"
     ]
    },
    {
     "name": "stdout",
     "output_type": "stream",
     "text": [
      "D val loss : 0.24193981289863586 , G val loss : 8.597105625085533e-05\n",
      "SAVING PLOTS COMPLETE...\n",
      "SAVING PLOTS COMPLETE...\n"
     ]
    },
    {
     "name": "stderr",
     "output_type": "stream",
     "text": [
      "100%|██████████████████████████████████████████████████████████████████████████████████| 83/83 [00:51<00:00,  1.61it/s]\n"
     ]
    },
    {
     "name": "stdout",
     "output_type": "stream",
     "text": [
      "D train loss : 0.9235180616378784 , G train loss : 0.0\n"
     ]
    },
    {
     "name": "stderr",
     "output_type": "stream",
     "text": [
      "100%|██████████████████████████████████████████████████████████████████████████████████| 11/11 [00:06<00:00,  1.66it/s]\n"
     ]
    },
    {
     "name": "stdout",
     "output_type": "stream",
     "text": [
      "D val loss : 0.24128562211990356 , G val loss : 7.946026016725227e-05\n",
      "SAVING PLOTS COMPLETE...\n",
      "SAVING PLOTS COMPLETE...\n"
     ]
    },
    {
     "name": "stderr",
     "output_type": "stream",
     "text": [
      "100%|██████████████████████████████████████████████████████████████████████████████████| 83/83 [00:51<00:00,  1.61it/s]\n"
     ]
    },
    {
     "name": "stdout",
     "output_type": "stream",
     "text": [
      "D train loss : 0.9174412488937378 , G train loss : 0.0\n"
     ]
    },
    {
     "name": "stderr",
     "output_type": "stream",
     "text": [
      "100%|██████████████████████████████████████████████████████████████████████████████████| 11/11 [00:06<00:00,  1.68it/s]\n"
     ]
    },
    {
     "name": "stdout",
     "output_type": "stream",
     "text": [
      "D val loss : 0.23920249938964844 , G val loss : 8.380040526390076e-05\n",
      "SAVING PLOTS COMPLETE...\n",
      "SAVING PLOTS COMPLETE...\n"
     ]
    },
    {
     "name": "stderr",
     "output_type": "stream",
     "text": [
      "100%|██████████████████████████████████████████████████████████████████████████████████| 83/83 [00:51<00:00,  1.61it/s]\n"
     ]
    },
    {
     "name": "stdout",
     "output_type": "stream",
     "text": [
      "D train loss : 0.9240536689758301 , G train loss : 0.0\n"
     ]
    },
    {
     "name": "stderr",
     "output_type": "stream",
     "text": [
      "100%|██████████████████████████████████████████████████████████████████████████████████| 11/11 [00:06<00:00,  1.68it/s]\n"
     ]
    },
    {
     "name": "stdout",
     "output_type": "stream",
     "text": [
      "D val loss : 0.2329629808664322 , G val loss : 8.648930815979838e-05\n",
      "SAVING PLOTS COMPLETE...\n",
      "SAVING PLOTS COMPLETE...\n"
     ]
    },
    {
     "name": "stderr",
     "output_type": "stream",
     "text": [
      "100%|██████████████████████████████████████████████████████████████████████████████████| 83/83 [00:51<00:00,  1.61it/s]\n"
     ]
    },
    {
     "name": "stdout",
     "output_type": "stream",
     "text": [
      "D train loss : 0.9064463973045349 , G train loss : 0.0\n"
     ]
    },
    {
     "name": "stderr",
     "output_type": "stream",
     "text": [
      "100%|██████████████████████████████████████████████████████████████████████████████████| 11/11 [00:06<00:00,  1.69it/s]\n"
     ]
    },
    {
     "name": "stdout",
     "output_type": "stream",
     "text": [
      "D val loss : 0.22796110808849335 , G val loss : 8.964849985204637e-05\n",
      "SAVING PLOTS COMPLETE...\n",
      "SAVING PLOTS COMPLETE...\n"
     ]
    },
    {
     "name": "stderr",
     "output_type": "stream",
     "text": [
      "100%|██████████████████████████████████████████████████████████████████████████████████| 83/83 [00:52<00:00,  1.60it/s]\n"
     ]
    },
    {
     "name": "stdout",
     "output_type": "stream",
     "text": [
      "D train loss : 0.9084117412567139 , G train loss : 0.0\n"
     ]
    },
    {
     "name": "stderr",
     "output_type": "stream",
     "text": [
      "100%|██████████████████████████████████████████████████████████████████████████████████| 11/11 [00:06<00:00,  1.69it/s]\n"
     ]
    },
    {
     "name": "stdout",
     "output_type": "stream",
     "text": [
      "D val loss : 0.2357873171567917 , G val loss : 8.483306010020897e-05\n",
      "SAVING PLOTS COMPLETE...\n",
      "SAVING PLOTS COMPLETE...\n"
     ]
    },
    {
     "name": "stderr",
     "output_type": "stream",
     "text": [
      "100%|██████████████████████████████████████████████████████████████████████████████████| 83/83 [00:51<00:00,  1.61it/s]\n"
     ]
    },
    {
     "name": "stdout",
     "output_type": "stream",
     "text": [
      "D train loss : 0.9004237651824951 , G train loss : 0.0\n"
     ]
    },
    {
     "name": "stderr",
     "output_type": "stream",
     "text": [
      "100%|██████████████████████████████████████████████████████████████████████████████████| 11/11 [00:06<00:00,  1.68it/s]\n"
     ]
    },
    {
     "name": "stdout",
     "output_type": "stream",
     "text": [
      "D val loss : 0.2426726222038269 , G val loss : 8.05192903499119e-05\n",
      "SAVING PLOTS COMPLETE...\n",
      "SAVING PLOTS COMPLETE...\n"
     ]
    },
    {
     "name": "stderr",
     "output_type": "stream",
     "text": [
      "100%|██████████████████████████████████████████████████████████████████████████████████| 83/83 [00:51<00:00,  1.61it/s]\n"
     ]
    },
    {
     "name": "stdout",
     "output_type": "stream",
     "text": [
      "D train loss : 0.8996531963348389 , G train loss : 0.0\n"
     ]
    },
    {
     "name": "stderr",
     "output_type": "stream",
     "text": [
      "100%|██████████████████████████████████████████████████████████████████████████████████| 11/11 [00:06<00:00,  1.69it/s]\n"
     ]
    },
    {
     "name": "stdout",
     "output_type": "stream",
     "text": [
      "D val loss : 0.22367219626903534 , G val loss : 8.669869566801935e-05\n",
      "SAVING PLOTS COMPLETE...\n",
      "SAVING PLOTS COMPLETE...\n"
     ]
    },
    {
     "name": "stderr",
     "output_type": "stream",
     "text": [
      "100%|██████████████████████████████████████████████████████████████████████████████████| 83/83 [00:51<00:00,  1.61it/s]\n"
     ]
    },
    {
     "name": "stdout",
     "output_type": "stream",
     "text": [
      "D train loss : 0.9205825328826904 , G train loss : 0.0\n"
     ]
    },
    {
     "name": "stderr",
     "output_type": "stream",
     "text": [
      "100%|██████████████████████████████████████████████████████████████████████████████████| 11/11 [00:06<00:00,  1.70it/s]\n"
     ]
    },
    {
     "name": "stdout",
     "output_type": "stream",
     "text": [
      "D val loss : 0.25218793749809265 , G val loss : 8.979645645013079e-05\n",
      "SAVING PLOTS COMPLETE...\n",
      "SAVING PLOTS COMPLETE...\n"
     ]
    },
    {
     "name": "stderr",
     "output_type": "stream",
     "text": [
      "100%|██████████████████████████████████████████████████████████████████████████████████| 83/83 [00:51<00:00,  1.61it/s]\n"
     ]
    },
    {
     "name": "stdout",
     "output_type": "stream",
     "text": [
      "D train loss : 0.8995218276977539 , G train loss : 0.0\n"
     ]
    },
    {
     "name": "stderr",
     "output_type": "stream",
     "text": [
      "100%|██████████████████████████████████████████████████████████████████████████████████| 11/11 [00:06<00:00,  1.71it/s]\n"
     ]
    },
    {
     "name": "stdout",
     "output_type": "stream",
     "text": [
      "D val loss : 0.24399928748607635 , G val loss : 8.91537347342819e-05\n",
      "SAVING PLOTS COMPLETE...\n",
      "SAVING PLOTS COMPLETE...\n"
     ]
    },
    {
     "name": "stderr",
     "output_type": "stream",
     "text": [
      "100%|██████████████████████████████████████████████████████████████████████████████████| 83/83 [00:51<00:00,  1.61it/s]\n"
     ]
    },
    {
     "name": "stdout",
     "output_type": "stream",
     "text": [
      "D train loss : 0.9114071130752563 , G train loss : 0.0\n"
     ]
    },
    {
     "name": "stderr",
     "output_type": "stream",
     "text": [
      "100%|██████████████████████████████████████████████████████████████████████████████████| 11/11 [00:06<00:00,  1.68it/s]\n"
     ]
    },
    {
     "name": "stdout",
     "output_type": "stream",
     "text": [
      "D val loss : 0.23125912249088287 , G val loss : 8.91636373125948e-05\n",
      "SAVING PLOTS COMPLETE...\n",
      "SAVING PLOTS COMPLETE...\n"
     ]
    },
    {
     "name": "stderr",
     "output_type": "stream",
     "text": [
      "100%|██████████████████████████████████████████████████████████████████████████████████| 83/83 [00:51<00:00,  1.61it/s]\n"
     ]
    },
    {
     "name": "stdout",
     "output_type": "stream",
     "text": [
      "D train loss : 0.9094236493110657 , G train loss : 0.0\n"
     ]
    },
    {
     "name": "stderr",
     "output_type": "stream",
     "text": [
      "100%|██████████████████████████████████████████████████████████████████████████████████| 11/11 [00:06<00:00,  1.69it/s]\n"
     ]
    },
    {
     "name": "stdout",
     "output_type": "stream",
     "text": [
      "D val loss : 0.23543685674667358 , G val loss : 9.520172170596197e-05\n",
      "SAVING PLOTS COMPLETE...\n",
      "SAVING PLOTS COMPLETE...\n"
     ]
    },
    {
     "name": "stderr",
     "output_type": "stream",
     "text": [
      "100%|██████████████████████████████████████████████████████████████████████████████████| 83/83 [00:51<00:00,  1.61it/s]\n"
     ]
    },
    {
     "name": "stdout",
     "output_type": "stream",
     "text": [
      "D train loss : 0.9251556396484375 , G train loss : 0.0\n"
     ]
    },
    {
     "name": "stderr",
     "output_type": "stream",
     "text": [
      "100%|██████████████████████████████████████████████████████████████████████████████████| 11/11 [00:06<00:00,  1.69it/s]\n"
     ]
    },
    {
     "name": "stdout",
     "output_type": "stream",
     "text": [
      "D val loss : 0.2358207106590271 , G val loss : 8.935551159083843e-05\n",
      "SAVING PLOTS COMPLETE...\n",
      "SAVING PLOTS COMPLETE...\n"
     ]
    },
    {
     "name": "stderr",
     "output_type": "stream",
     "text": [
      "100%|██████████████████████████████████████████████████████████████████████████████████| 83/83 [00:51<00:00,  1.61it/s]\n"
     ]
    },
    {
     "name": "stdout",
     "output_type": "stream",
     "text": [
      "D train loss : 0.9078103303909302 , G train loss : 0.0\n"
     ]
    },
    {
     "name": "stderr",
     "output_type": "stream",
     "text": [
      "100%|██████████████████████████████████████████████████████████████████████████████████| 11/11 [00:06<00:00,  1.66it/s]\n"
     ]
    },
    {
     "name": "stdout",
     "output_type": "stream",
     "text": [
      "D val loss : 0.2525908648967743 , G val loss : 8.675335993757471e-05\n",
      "SAVING PLOTS COMPLETE...\n",
      "SAVING PLOTS COMPLETE...\n"
     ]
    },
    {
     "name": "stderr",
     "output_type": "stream",
     "text": [
      "100%|██████████████████████████████████████████████████████████████████████████████████| 83/83 [00:51<00:00,  1.61it/s]\n"
     ]
    },
    {
     "name": "stdout",
     "output_type": "stream",
     "text": [
      "D train loss : 0.9014678001403809 , G train loss : 0.0\n"
     ]
    },
    {
     "name": "stderr",
     "output_type": "stream",
     "text": [
      "100%|██████████████████████████████████████████████████████████████████████████████████| 11/11 [00:06<00:00,  1.65it/s]\n"
     ]
    },
    {
     "name": "stdout",
     "output_type": "stream",
     "text": [
      "D val loss : 0.23843835294246674 , G val loss : 8.589559729443863e-05\n",
      "SAVING PLOTS COMPLETE...\n",
      "SAVING PLOTS COMPLETE...\n"
     ]
    }
   ],
   "source": [
    "for n, (epochs, lr) in enumerate(EPOCHS_LR):\n",
    "    G_opt = optim.Adam(G.parameters(), lr=lr, betas=(0.5, 0.999))\n",
    "    D_opt = optim.Adam(G.parameters(), lr=lr, betas=(0.5, 0.999))\n",
    "    for epoch in range(epochs):\n",
    "        D.train()\n",
    "        G.train()\n",
    "        D_train_loss = 0.0\n",
    "        G_train_loss = 0.0\n",
    "        for i, (img, _) in tqdm(enumerate(train_loader), total=len(train_loader)):\n",
    "            # Train D\n",
    "            D_opt.zero_grad()\n",
    "            mini_batch = img.size()[0]\n",
    "            img = img.to(DEVICE)    \n",
    "            \n",
    "            # 真圖片輸入 D\n",
    "            D_result = D(img).squeeze()\n",
    "            # 計算真圖片的loss\n",
    "            D_real_loss = BCE_loss(D_result, torch.ones_like(D_result))\n",
    "            # 新建一個隨機變數\n",
    "            noise = (\n",
    "                torch.randn((mini_batch, NOISE_LENGTH)).\n",
    "                view((-1, NOISE_LENGTH, 1, 1)).\n",
    "                to(DEVICE)\n",
    "            )\n",
    "            # 生假圖片\n",
    "            img_fake = G(noise)\n",
    "            # 將假圖片輸入至判別器D\n",
    "            D_result = D(img_fake).squeeze()\n",
    "            # 計算假圖片的loss\n",
    "            D_fake_loss = BCE_loss(D_result, torch.ones_like(D_result))\n",
    "            # 真假圖片的判別器loss相加之和反向傳播\n",
    "            D_train_loss = D_real_loss + D_fake_loss\n",
    "            D_train_loss.backward()\n",
    "            D_opt.step()\n",
    "            \n",
    "            # Train G\n",
    "            G_opt.zero_grad()\n",
    "            noise = (\n",
    "                torch.randn((mini_batch, NOISE_LENGTH)).\n",
    "                view((-1, NOISE_LENGTH, 1, 1)).\n",
    "                to(DEVICE)\n",
    "            )\n",
    "            # 生成假樸片\n",
    "            img_fake = G(noise)\n",
    "            # 輸入判別器D計算loss\n",
    "            D_result = D(img_fake).squeeze()\n",
    "            # 給假圖片打上真標籤，計算loss\n",
    "            G_train_loss = BCE_loss(D_result, torch.ones_like(D_result))\n",
    "            # 生成器反向傳播\n",
    "            G_train_loss.backward()\n",
    "            G_opt.step()\n",
    "        H[\"D_train_loss\"].append(D_train_loss)\n",
    "        H[\"G_train_loss\"].append(G_train_loss)\n",
    "        print('D train loss : {} , G train loss : {}'.format( D_train_loss, G_train_loss))\n",
    "        \n",
    "        D_valid_loss = 0.0\n",
    "        G_valid_loss = 0.0\n",
    "        with torch.no_grad():\n",
    "            D.eval()\n",
    "            G.eval()\n",
    "            for i, (img,_) in tqdm(enumerate(val_loader), total=len(val_loader)):\n",
    "                mini_batch = img.size()[0]\n",
    "                img = img.to(DEVICE)\n",
    "                # 真圖片輸入 D\n",
    "                D_result = D(img).squeeze()\n",
    "                # 計算真圖片的loss\n",
    "                D_real_loss = BCE_loss(D_result, torch.ones_like(D_result))\n",
    "                # 新建一個隨機變數\n",
    "                noise = (\n",
    "                    torch.randn((mini_batch, NOISE_LENGTH)).\n",
    "                    view((-1, NOISE_LENGTH, 1, 1)).\n",
    "                    to(DEVICE)\n",
    "                )\n",
    "                # 生假圖片\n",
    "                img_fake = G(noise)\n",
    "                # 將假圖片輸入至判別器D\n",
    "                D_result = D(img_fake).squeeze()\n",
    "                # 計算假圖片的loss\n",
    "                D_fake_loss = BCE_loss(D_result, torch.ones_like(D_result))\n",
    "                # 真假圖片的判別器loss相加之和反向傳播\n",
    "                D_val_loss = D_real_loss + D_fake_loss\n",
    "\n",
    "                noise = (\n",
    "                    torch.randn((mini_batch, NOISE_LENGTH)).\n",
    "                    view((-1, NOISE_LENGTH, 1, 1)).\n",
    "                    to(DEVICE)\n",
    "                )\n",
    "                # 生成假樸片\n",
    "                img_fake = G(noise)\n",
    "                # 輸入判別器D計算loss\n",
    "                D_result = D(img_fake).squeeze()\n",
    "                # 給假圖片打上真標籤，計算loss\n",
    "                G_val_loss = BCE_loss(D_result, torch.ones_like(D_result))\n",
    "            H[\"D_valid_loss\"].append(D_val_loss)\n",
    "            H[\"G_valid_loss\"].append(G_val_loss)\n",
    "            print('D val loss : {} , G val loss : {}'.format( D_val_loss, G_val_loss))\n",
    "        save_loss_plot(\n",
    "            BASE_OUTPUT, H[\"G_train_loss\"],  H[\"G_valid_loss\"], 'G'\n",
    "        )\n",
    "        save_loss_plot(\n",
    "            BASE_OUTPUT, H[\"D_train_loss\"],  H[\"D_valid_loss\"], 'D'\n",
    "        )\n",
    "        torch.save(G.state_dict, f'{BASE_OUTPUT}/Gmodel.pth')\n",
    "        torch.save(D.state_dict, f'{BASE_OUTPUT}/Dmodel.pth')"
   ]
  }
 ],
 "metadata": {
  "kernelspec": {
   "display_name": "Python 3 (ipykernel)",
   "language": "python",
   "name": "python3"
  },
  "language_info": {
   "codemirror_mode": {
    "name": "ipython",
    "version": 3
   },
   "file_extension": ".py",
   "mimetype": "text/x-python",
   "name": "python",
   "nbconvert_exporter": "python",
   "pygments_lexer": "ipython3",
   "version": "3.7.9"
  }
 },
 "nbformat": 4,
 "nbformat_minor": 5
}

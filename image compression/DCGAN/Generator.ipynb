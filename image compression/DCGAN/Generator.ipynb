{
 "cells": [
  {
   "cell_type": "code",
   "execution_count": 1,
   "id": "c8998155",
   "metadata": {},
   "outputs": [],
   "source": [
    "# -*- coding: utf-8 -*-\n",
    "import torch.nn as nn\n",
    "\n",
    "\n",
    "# Generator\n",
    "class Generator(nn.Module):\n",
    "    def __init__(self, inputSize, hiddenSize, outputSize):\n",
    "        super(Generator, self).__init__()\n",
    "        self.main = nn.Sequential(\n",
    "            nn.ConvTranspose2d(inputSize, hiddenSize*8, 4, 1, 0, bias=False),\n",
    "            nn.BatchNorm2d(hiddenSize*8),\n",
    "            nn.ReLU(True),\n",
    "\n",
    "            nn.ConvTranspose2d(hiddenSize*8, hiddenSize*4, 4, 2, 1, bias=False),\n",
    "            nn.BatchNorm2d(hiddenSize*4),\n",
    "            nn.ReLU(True),\n",
    "\n",
    "            nn.ConvTranspose2d(hiddenSize*4, hiddenSize*2, 4, 2, 1, bias=False),\n",
    "            nn.BatchNorm2d(hiddenSize*2),\n",
    "            nn.ReLU(True),\n",
    "\n",
    "            nn.ConvTranspose2d(hiddenSize*2, hiddenSize, 4, 2, 1, bias=False),\n",
    "            nn.BatchNorm2d(hiddenSize),\n",
    "            nn.ReLU(True),\n",
    "\n",
    "            nn.ConvTranspose2d(hiddenSize, outputSize, 4, 2, 1, bias=False),\n",
    "            nn.Tanh())\n",
    "\n",
    "    def forward(self, input):\n",
    "        return self.main(input)"
   ]
  }
 ],
 "metadata": {
  "kernelspec": {
   "display_name": "Python 3 (ipykernel)",
   "language": "python",
   "name": "python3"
  },
  "language_info": {
   "codemirror_mode": {
    "name": "ipython",
    "version": 3
   },
   "file_extension": ".py",
   "mimetype": "text/x-python",
   "name": "python",
   "nbconvert_exporter": "python",
   "pygments_lexer": "ipython3",
   "version": "3.7.9"
  }
 },
 "nbformat": 4,
 "nbformat_minor": 5
}

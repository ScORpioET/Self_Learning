{
 "cells": [
  {
   "cell_type": "code",
   "execution_count": 1,
   "id": "7d5fe9b5",
   "metadata": {},
   "outputs": [
    {
     "name": "stdout",
     "output_type": "stream",
     "text": [
      "importing Jupyter notebook from config.ipynb\n"
     ]
    }
   ],
   "source": [
    "from torch.utils.data import DataLoader, Dataset\n",
    "from torchvision.datasets import ImageFolder\n",
    "from sklearn.model_selection import train_test_split\n",
    "import import_ipynb\n",
    "from config import  DATASET_PATH, BATCH_SIZE, INPUT_IMAGE_WIDTH, INPUT_IMAGE_HEIGHT\n",
    "from glob import glob\n",
    "import os.path\n",
    "from PIL import Image\n",
    "from torchvision import transforms"
   ]
  },
  {
   "cell_type": "code",
   "execution_count": 2,
   "id": "a33d286e",
   "metadata": {},
   "outputs": [],
   "source": [
    "class lfw(Dataset):\n",
    "    def __init__(self, dataPath, subset='train', transform=None):\n",
    "        super(lfw, self).__init__()\n",
    "        img_paths = glob(os.path.join(dataPath, '*/*.jpg'))\n",
    "        train_paths, val_paths = train_test_split(\n",
    "            img_paths, test_size=0.2, random_state=10\n",
    "        )\n",
    "        if subset == 'train':\n",
    "            self.img_paths = train_paths\n",
    "        else:\n",
    "            self.img_paths = val_paths\n",
    "            \n",
    "        if transform is None:\n",
    "            self.transform = transforms.Compose([\n",
    "                transforms.ToTensor(),\n",
    "                transforms.Resize((INPUT_IMAGE_WIDTH, INPUT_IMAGE_HEIGHT))\n",
    "            ])\n",
    "        else:\n",
    "            self.transform = transform\n",
    "            \n",
    "    def __getitem__(self, index):\n",
    "        img = Image.open(self.img_paths[index])\n",
    "        img = self.transform(img)\n",
    "        return img, img\n",
    "    \n",
    "    def __len__(self):\n",
    "        return len(self.img_paths)"
   ]
  },
  {
   "cell_type": "code",
   "execution_count": 3,
   "id": "a1441c21",
   "metadata": {},
   "outputs": [],
   "source": [
    "train_data = lfw(DATASET_PATH)\n",
    "val_data = lfw(DATASET_PATH, subset='val')\n",
    "train_loader = DataLoader(train_data, batch_size=BATCH_SIZE, shuffle=True)\n",
    "val_loader = DataLoader(val_data, batch_size=BATCH_SIZE*2, shuffle=True)"
   ]
  }
 ],
 "metadata": {
  "kernelspec": {
   "display_name": "Python 3 (ipykernel)",
   "language": "python",
   "name": "python3"
  },
  "language_info": {
   "codemirror_mode": {
    "name": "ipython",
    "version": 3
   },
   "file_extension": ".py",
   "mimetype": "text/x-python",
   "name": "python",
   "nbconvert_exporter": "python",
   "pygments_lexer": "ipython3",
   "version": "3.7.9"
  }
 },
 "nbformat": 4,
 "nbformat_minor": 5
}

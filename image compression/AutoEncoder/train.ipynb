{
 "cells": [
  {
   "cell_type": "code",
   "execution_count": null,
   "id": "1bb0ddc9",
   "metadata": {},
   "outputs": [],
   "source": [
    "from torch import nn, optim\n",
    "import torch\n",
    "import os.path\n",
    "from tqdm import tqdm\n",
    "import import_ipynb\n",
    "from dataset import train_loader, val_loader\n",
    "from model import AutoEncoder\n",
    "from config import BATCH_SIZE, EPOCHS_LR, DEVICE, BASE_OUTPUT"
   ]
  },
  {
   "cell_type": "code",
   "execution_count": null,
   "id": "03fec572",
   "metadata": {},
   "outputs": [],
   "source": [
    "if __name__ == '__main__':\n",
    "    net = AutoEncoder(pretrained=True).to(DEVICE)\n",
    "    criteron = nn.L1Loss()\n",
    "    for n, (epochs, lr) in enumerate(EPOCHS_LR):\n",
    "        opt = optim.Adam(net.parameters(), lr=lr)\n",
    "        for epoch in range(epochs):\n",
    "            epoch_loss = 0.0\n",
    "            for i, (src, target) in tqdm(enumerate(train_loader), total=len(train_loader)):\n",
    "                opt.zero_grad()\n",
    "                src, target = src.to(DEVICE), target.to(DEVICE)\n",
    "                out = net(src)\n",
    "                loss = criteron(out, target)\n",
    "                loss.backward()\n",
    "                opt.step()\n",
    "                epoch_loss += loss.item()\n",
    "                print(\n",
    "                    'epoch: {} epoch_loss {}'.format(\n",
    "                        sum([e[0] for e in EPOCHS_LR[:n]]) + epoch,\n",
    "                        epoch_loss / len(train_loader),\n",
    "                    )\n",
    "                )\n",
    "            with torch.no_grad():\n",
    "                val_loss = 0.0\n",
    "                for i, (src, target) in tqdm(enumerate(val_loader), total=len(val_loader)):\n",
    "                        src, target = src.to(DEVICE), target.to(DEVICE)\n",
    "                        out = net(src)\n",
    "                        loss = criteron(out, target)\n",
    "                        epoch_loss += loss.item()\n",
    "                        print(\n",
    "                            'epoch: {} val_loss {}'.format(\n",
    "                                sum([e[0] for e in EPOCHS_LR[:n]]) + epoch,\n",
    "                                val_loss / len(val_loader),\n",
    "                            )\n",
    "                        )\n",
    "                "
   ]
  }
 ],
 "metadata": {
  "kernelspec": {
   "display_name": "Python 3 (ipykernel)",
   "language": "python",
   "name": "python3"
  },
  "language_info": {
   "codemirror_mode": {
    "name": "ipython",
    "version": 3
   },
   "file_extension": ".py",
   "mimetype": "text/x-python",
   "name": "python",
   "nbconvert_exporter": "python",
   "pygments_lexer": "ipython3",
   "version": "3.7.9"
  }
 },
 "nbformat": 4,
 "nbformat_minor": 5
}
